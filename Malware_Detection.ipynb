{
 "cells": [
  {
   "cell_type": "code",
   "execution_count": 98,
   "metadata": {
    "_cell_guid": "b1076dfc-b9ad-4769-8c92-a6c4dae69d19",
    "_uuid": "8f2839f25d086af736a60e9eeb907d3b93b6e0e5"
   },
   "outputs": [],
   "source": [
    "import numpy as np\n",
    "import pandas as pd"
   ]
  },
  {
   "cell_type": "code",
   "execution_count": 99,
   "metadata": {},
   "outputs": [],
   "source": [
    "df = pd.read_csv(\"Bachelor Thesis\\data_train.csv\")\n",
    "target = \"CLASS\""
   ]
  },
  {
   "cell_type": "code",
   "execution_count": 100,
   "metadata": {},
   "outputs": [
    {
     "data": {
      "text/html": [
       "<div>\n",
       "<style scoped>\n",
       "    .dataframe tbody tr th:only-of-type {\n",
       "        vertical-align: middle;\n",
       "    }\n",
       "\n",
       "    .dataframe tbody tr th {\n",
       "        vertical-align: top;\n",
       "    }\n",
       "\n",
       "    .dataframe thead th {\n",
       "        text-align: right;\n",
       "    }\n",
       "</style>\n",
       "<table border=\"1\" class=\"dataframe\">\n",
       "  <thead>\n",
       "    <tr style=\"text-align: right;\">\n",
       "      <th></th>\n",
       "      <th>NAME</th>\n",
       "      <th>android.permission.ACCESS_ALL_DOWNLOADS</th>\n",
       "      <th>android.permission.ACCESS_BLUETOOTH_SHARE</th>\n",
       "      <th>android.permission.ACCESS_CACHE_FILESYSTEM</th>\n",
       "      <th>android.permission.ACCESS_CHECKIN_PROPERTIES</th>\n",
       "      <th>android.permission.ACCESS_CONTENT_PROVIDERS_EXTERNALLY</th>\n",
       "      <th>android.permission.ACCESS_DOWNLOAD_MANAGER</th>\n",
       "      <th>android.permission.ACCESS_DOWNLOAD_MANAGER_ADVANCED</th>\n",
       "      <th>android.permission.ACCESS_DRM_CERTIFICATES</th>\n",
       "      <th>android.permission.ACCESS_EPHEMERAL_APPS</th>\n",
       "      <th>...</th>\n",
       "      <th>com.huawei.android.launcher.permission.CHANGE_BADGE</th>\n",
       "      <th>com.nbaimd.gametime.nba2011.permission.UA_DATA</th>\n",
       "      <th>com.android.browser.permission.WRITE_HISTORY_BOOKMARKS</th>\n",
       "      <th>com.cisco.anyconnect.vpn.android.permission.INTERNAL_VPN_STATE</th>\n",
       "      <th>com.huawei.launcher3.permission.WRITE_SETTINGS</th>\n",
       "      <th>android.permission.PREVENT_POWER_KEY</th>\n",
       "      <th>com.cloudmagic.mail.permission.C2D_MESSAGE</th>\n",
       "      <th>com.magazinecloner.anpt.permission.C2D_MESSAGE</th>\n",
       "      <th>android.permission.READ_MMS</th>\n",
       "      <th>CLASS</th>\n",
       "    </tr>\n",
       "  </thead>\n",
       "  <tbody>\n",
       "    <tr>\n",
       "      <th>0</th>\n",
       "      <td>Signal-Android-website-prod-universal-release-...</td>\n",
       "      <td>0</td>\n",
       "      <td>0</td>\n",
       "      <td>0</td>\n",
       "      <td>0</td>\n",
       "      <td>0</td>\n",
       "      <td>0</td>\n",
       "      <td>0</td>\n",
       "      <td>0</td>\n",
       "      <td>0</td>\n",
       "      <td>...</td>\n",
       "      <td>1</td>\n",
       "      <td>0</td>\n",
       "      <td>0</td>\n",
       "      <td>0</td>\n",
       "      <td>0</td>\n",
       "      <td>0</td>\n",
       "      <td>0</td>\n",
       "      <td>0</td>\n",
       "      <td>0</td>\n",
       "      <td>0</td>\n",
       "    </tr>\n",
       "    <tr>\n",
       "      <th>1</th>\n",
       "      <td>a.envisionmobile.caa.apk</td>\n",
       "      <td>0</td>\n",
       "      <td>0</td>\n",
       "      <td>0</td>\n",
       "      <td>0</td>\n",
       "      <td>0</td>\n",
       "      <td>0</td>\n",
       "      <td>0</td>\n",
       "      <td>0</td>\n",
       "      <td>0</td>\n",
       "      <td>...</td>\n",
       "      <td>0</td>\n",
       "      <td>0</td>\n",
       "      <td>0</td>\n",
       "      <td>0</td>\n",
       "      <td>0</td>\n",
       "      <td>0</td>\n",
       "      <td>0</td>\n",
       "      <td>0</td>\n",
       "      <td>0</td>\n",
       "      <td>0</td>\n",
       "    </tr>\n",
       "    <tr>\n",
       "      <th>2</th>\n",
       "      <td>air.G2JValentineRoseEscape2017.apk</td>\n",
       "      <td>0</td>\n",
       "      <td>0</td>\n",
       "      <td>0</td>\n",
       "      <td>0</td>\n",
       "      <td>0</td>\n",
       "      <td>0</td>\n",
       "      <td>0</td>\n",
       "      <td>0</td>\n",
       "      <td>0</td>\n",
       "      <td>...</td>\n",
       "      <td>0</td>\n",
       "      <td>0</td>\n",
       "      <td>0</td>\n",
       "      <td>0</td>\n",
       "      <td>0</td>\n",
       "      <td>0</td>\n",
       "      <td>0</td>\n",
       "      <td>0</td>\n",
       "      <td>0</td>\n",
       "      <td>0</td>\n",
       "    </tr>\n",
       "    <tr>\n",
       "      <th>3</th>\n",
       "      <td>air.com.playtika.slotomania.apk</td>\n",
       "      <td>0</td>\n",
       "      <td>0</td>\n",
       "      <td>0</td>\n",
       "      <td>0</td>\n",
       "      <td>0</td>\n",
       "      <td>0</td>\n",
       "      <td>0</td>\n",
       "      <td>0</td>\n",
       "      <td>0</td>\n",
       "      <td>...</td>\n",
       "      <td>0</td>\n",
       "      <td>0</td>\n",
       "      <td>0</td>\n",
       "      <td>0</td>\n",
       "      <td>0</td>\n",
       "      <td>0</td>\n",
       "      <td>0</td>\n",
       "      <td>0</td>\n",
       "      <td>0</td>\n",
       "      <td>0</td>\n",
       "    </tr>\n",
       "    <tr>\n",
       "      <th>4</th>\n",
       "      <td>ak.alizandro.smartaudiobookplayer.apk</td>\n",
       "      <td>0</td>\n",
       "      <td>0</td>\n",
       "      <td>0</td>\n",
       "      <td>0</td>\n",
       "      <td>0</td>\n",
       "      <td>0</td>\n",
       "      <td>0</td>\n",
       "      <td>0</td>\n",
       "      <td>0</td>\n",
       "      <td>...</td>\n",
       "      <td>0</td>\n",
       "      <td>0</td>\n",
       "      <td>0</td>\n",
       "      <td>0</td>\n",
       "      <td>0</td>\n",
       "      <td>0</td>\n",
       "      <td>0</td>\n",
       "      <td>0</td>\n",
       "      <td>0</td>\n",
       "      <td>0</td>\n",
       "    </tr>\n",
       "    <tr>\n",
       "      <th>5</th>\n",
       "      <td>au.com.tapstyle.apk</td>\n",
       "      <td>0</td>\n",
       "      <td>0</td>\n",
       "      <td>0</td>\n",
       "      <td>0</td>\n",
       "      <td>0</td>\n",
       "      <td>0</td>\n",
       "      <td>0</td>\n",
       "      <td>0</td>\n",
       "      <td>0</td>\n",
       "      <td>...</td>\n",
       "      <td>0</td>\n",
       "      <td>0</td>\n",
       "      <td>0</td>\n",
       "      <td>0</td>\n",
       "      <td>0</td>\n",
       "      <td>0</td>\n",
       "      <td>0</td>\n",
       "      <td>0</td>\n",
       "      <td>0</td>\n",
       "      <td>0</td>\n",
       "    </tr>\n",
       "    <tr>\n",
       "      <th>6</th>\n",
       "      <td>baby.com.DisneyCarToys.apk</td>\n",
       "      <td>0</td>\n",
       "      <td>0</td>\n",
       "      <td>0</td>\n",
       "      <td>0</td>\n",
       "      <td>0</td>\n",
       "      <td>0</td>\n",
       "      <td>0</td>\n",
       "      <td>0</td>\n",
       "      <td>0</td>\n",
       "      <td>...</td>\n",
       "      <td>0</td>\n",
       "      <td>0</td>\n",
       "      <td>0</td>\n",
       "      <td>0</td>\n",
       "      <td>0</td>\n",
       "      <td>0</td>\n",
       "      <td>0</td>\n",
       "      <td>0</td>\n",
       "      <td>0</td>\n",
       "      <td>0</td>\n",
       "    </tr>\n",
       "    <tr>\n",
       "      <th>7</th>\n",
       "      <td>baby.com.KidsandToys.apk</td>\n",
       "      <td>0</td>\n",
       "      <td>0</td>\n",
       "      <td>0</td>\n",
       "      <td>0</td>\n",
       "      <td>0</td>\n",
       "      <td>0</td>\n",
       "      <td>0</td>\n",
       "      <td>0</td>\n",
       "      <td>0</td>\n",
       "      <td>...</td>\n",
       "      <td>0</td>\n",
       "      <td>0</td>\n",
       "      <td>0</td>\n",
       "      <td>0</td>\n",
       "      <td>0</td>\n",
       "      <td>0</td>\n",
       "      <td>0</td>\n",
       "      <td>0</td>\n",
       "      <td>0</td>\n",
       "      <td>0</td>\n",
       "    </tr>\n",
       "    <tr>\n",
       "      <th>8</th>\n",
       "      <td>baby.com.ToysToSee.apk</td>\n",
       "      <td>0</td>\n",
       "      <td>0</td>\n",
       "      <td>0</td>\n",
       "      <td>0</td>\n",
       "      <td>0</td>\n",
       "      <td>0</td>\n",
       "      <td>0</td>\n",
       "      <td>0</td>\n",
       "      <td>0</td>\n",
       "      <td>...</td>\n",
       "      <td>0</td>\n",
       "      <td>0</td>\n",
       "      <td>0</td>\n",
       "      <td>0</td>\n",
       "      <td>0</td>\n",
       "      <td>0</td>\n",
       "      <td>0</td>\n",
       "      <td>0</td>\n",
       "      <td>0</td>\n",
       "      <td>0</td>\n",
       "    </tr>\n",
       "    <tr>\n",
       "      <th>9</th>\n",
       "      <td>baby.com.kidsToysReview.apk</td>\n",
       "      <td>0</td>\n",
       "      <td>0</td>\n",
       "      <td>0</td>\n",
       "      <td>0</td>\n",
       "      <td>0</td>\n",
       "      <td>0</td>\n",
       "      <td>0</td>\n",
       "      <td>0</td>\n",
       "      <td>0</td>\n",
       "      <td>...</td>\n",
       "      <td>0</td>\n",
       "      <td>0</td>\n",
       "      <td>0</td>\n",
       "      <td>0</td>\n",
       "      <td>0</td>\n",
       "      <td>0</td>\n",
       "      <td>0</td>\n",
       "      <td>0</td>\n",
       "      <td>0</td>\n",
       "      <td>0</td>\n",
       "    </tr>\n",
       "  </tbody>\n",
       "</table>\n",
       "<p>10 rows × 950 columns</p>\n",
       "</div>"
      ],
      "text/plain": [
       "                                                NAME  \\\n",
       "0  Signal-Android-website-prod-universal-release-...   \n",
       "1                           a.envisionmobile.caa.apk   \n",
       "2                 air.G2JValentineRoseEscape2017.apk   \n",
       "3                    air.com.playtika.slotomania.apk   \n",
       "4              ak.alizandro.smartaudiobookplayer.apk   \n",
       "5                                au.com.tapstyle.apk   \n",
       "6                         baby.com.DisneyCarToys.apk   \n",
       "7                           baby.com.KidsandToys.apk   \n",
       "8                             baby.com.ToysToSee.apk   \n",
       "9                        baby.com.kidsToysReview.apk   \n",
       "\n",
       "   android.permission.ACCESS_ALL_DOWNLOADS  \\\n",
       "0                                        0   \n",
       "1                                        0   \n",
       "2                                        0   \n",
       "3                                        0   \n",
       "4                                        0   \n",
       "5                                        0   \n",
       "6                                        0   \n",
       "7                                        0   \n",
       "8                                        0   \n",
       "9                                        0   \n",
       "\n",
       "   android.permission.ACCESS_BLUETOOTH_SHARE  \\\n",
       "0                                          0   \n",
       "1                                          0   \n",
       "2                                          0   \n",
       "3                                          0   \n",
       "4                                          0   \n",
       "5                                          0   \n",
       "6                                          0   \n",
       "7                                          0   \n",
       "8                                          0   \n",
       "9                                          0   \n",
       "\n",
       "   android.permission.ACCESS_CACHE_FILESYSTEM  \\\n",
       "0                                           0   \n",
       "1                                           0   \n",
       "2                                           0   \n",
       "3                                           0   \n",
       "4                                           0   \n",
       "5                                           0   \n",
       "6                                           0   \n",
       "7                                           0   \n",
       "8                                           0   \n",
       "9                                           0   \n",
       "\n",
       "   android.permission.ACCESS_CHECKIN_PROPERTIES  \\\n",
       "0                                             0   \n",
       "1                                             0   \n",
       "2                                             0   \n",
       "3                                             0   \n",
       "4                                             0   \n",
       "5                                             0   \n",
       "6                                             0   \n",
       "7                                             0   \n",
       "8                                             0   \n",
       "9                                             0   \n",
       "\n",
       "   android.permission.ACCESS_CONTENT_PROVIDERS_EXTERNALLY  \\\n",
       "0                                                  0        \n",
       "1                                                  0        \n",
       "2                                                  0        \n",
       "3                                                  0        \n",
       "4                                                  0        \n",
       "5                                                  0        \n",
       "6                                                  0        \n",
       "7                                                  0        \n",
       "8                                                  0        \n",
       "9                                                  0        \n",
       "\n",
       "   android.permission.ACCESS_DOWNLOAD_MANAGER  \\\n",
       "0                                           0   \n",
       "1                                           0   \n",
       "2                                           0   \n",
       "3                                           0   \n",
       "4                                           0   \n",
       "5                                           0   \n",
       "6                                           0   \n",
       "7                                           0   \n",
       "8                                           0   \n",
       "9                                           0   \n",
       "\n",
       "   android.permission.ACCESS_DOWNLOAD_MANAGER_ADVANCED  \\\n",
       "0                                                  0     \n",
       "1                                                  0     \n",
       "2                                                  0     \n",
       "3                                                  0     \n",
       "4                                                  0     \n",
       "5                                                  0     \n",
       "6                                                  0     \n",
       "7                                                  0     \n",
       "8                                                  0     \n",
       "9                                                  0     \n",
       "\n",
       "   android.permission.ACCESS_DRM_CERTIFICATES  \\\n",
       "0                                           0   \n",
       "1                                           0   \n",
       "2                                           0   \n",
       "3                                           0   \n",
       "4                                           0   \n",
       "5                                           0   \n",
       "6                                           0   \n",
       "7                                           0   \n",
       "8                                           0   \n",
       "9                                           0   \n",
       "\n",
       "   android.permission.ACCESS_EPHEMERAL_APPS  ...  \\\n",
       "0                                         0  ...   \n",
       "1                                         0  ...   \n",
       "2                                         0  ...   \n",
       "3                                         0  ...   \n",
       "4                                         0  ...   \n",
       "5                                         0  ...   \n",
       "6                                         0  ...   \n",
       "7                                         0  ...   \n",
       "8                                         0  ...   \n",
       "9                                         0  ...   \n",
       "\n",
       "   com.huawei.android.launcher.permission.CHANGE_BADGE  \\\n",
       "0                                                  1     \n",
       "1                                                  0     \n",
       "2                                                  0     \n",
       "3                                                  0     \n",
       "4                                                  0     \n",
       "5                                                  0     \n",
       "6                                                  0     \n",
       "7                                                  0     \n",
       "8                                                  0     \n",
       "9                                                  0     \n",
       "\n",
       "   com.nbaimd.gametime.nba2011.permission.UA_DATA  \\\n",
       "0                                               0   \n",
       "1                                               0   \n",
       "2                                               0   \n",
       "3                                               0   \n",
       "4                                               0   \n",
       "5                                               0   \n",
       "6                                               0   \n",
       "7                                               0   \n",
       "8                                               0   \n",
       "9                                               0   \n",
       "\n",
       "   com.android.browser.permission.WRITE_HISTORY_BOOKMARKS  \\\n",
       "0                                                  0        \n",
       "1                                                  0        \n",
       "2                                                  0        \n",
       "3                                                  0        \n",
       "4                                                  0        \n",
       "5                                                  0        \n",
       "6                                                  0        \n",
       "7                                                  0        \n",
       "8                                                  0        \n",
       "9                                                  0        \n",
       "\n",
       "   com.cisco.anyconnect.vpn.android.permission.INTERNAL_VPN_STATE  \\\n",
       "0                                                  0                \n",
       "1                                                  0                \n",
       "2                                                  0                \n",
       "3                                                  0                \n",
       "4                                                  0                \n",
       "5                                                  0                \n",
       "6                                                  0                \n",
       "7                                                  0                \n",
       "8                                                  0                \n",
       "9                                                  0                \n",
       "\n",
       "   com.huawei.launcher3.permission.WRITE_SETTINGS  \\\n",
       "0                                               0   \n",
       "1                                               0   \n",
       "2                                               0   \n",
       "3                                               0   \n",
       "4                                               0   \n",
       "5                                               0   \n",
       "6                                               0   \n",
       "7                                               0   \n",
       "8                                               0   \n",
       "9                                               0   \n",
       "\n",
       "   android.permission.PREVENT_POWER_KEY  \\\n",
       "0                                     0   \n",
       "1                                     0   \n",
       "2                                     0   \n",
       "3                                     0   \n",
       "4                                     0   \n",
       "5                                     0   \n",
       "6                                     0   \n",
       "7                                     0   \n",
       "8                                     0   \n",
       "9                                     0   \n",
       "\n",
       "   com.cloudmagic.mail.permission.C2D_MESSAGE  \\\n",
       "0                                           0   \n",
       "1                                           0   \n",
       "2                                           0   \n",
       "3                                           0   \n",
       "4                                           0   \n",
       "5                                           0   \n",
       "6                                           0   \n",
       "7                                           0   \n",
       "8                                           0   \n",
       "9                                           0   \n",
       "\n",
       "   com.magazinecloner.anpt.permission.C2D_MESSAGE  \\\n",
       "0                                               0   \n",
       "1                                               0   \n",
       "2                                               0   \n",
       "3                                               0   \n",
       "4                                               0   \n",
       "5                                               0   \n",
       "6                                               0   \n",
       "7                                               0   \n",
       "8                                               0   \n",
       "9                                               0   \n",
       "\n",
       "   android.permission.READ_MMS  CLASS  \n",
       "0                            0      0  \n",
       "1                            0      0  \n",
       "2                            0      0  \n",
       "3                            0      0  \n",
       "4                            0      0  \n",
       "5                            0      0  \n",
       "6                            0      0  \n",
       "7                            0      0  \n",
       "8                            0      0  \n",
       "9                            0      0  \n",
       "\n",
       "[10 rows x 950 columns]"
      ]
     },
     "execution_count": 100,
     "metadata": {},
     "output_type": "execute_result"
    }
   ],
   "source": [
    "df.head(10)"
   ]
  },
  {
   "cell_type": "code",
   "execution_count": 101,
   "metadata": {},
   "outputs": [
    {
     "data": {
      "text/plain": [
       "(1168, 950)"
      ]
     },
     "execution_count": 101,
     "metadata": {},
     "output_type": "execute_result"
    }
   ],
   "source": [
    "df.shape"
   ]
  },
  {
   "cell_type": "code",
   "execution_count": 102,
   "metadata": {},
   "outputs": [
    {
     "name": "stdout",
     "output_type": "stream",
     "text": [
      "<class 'pandas.core.frame.DataFrame'>\n",
      "RangeIndex: 1168 entries, 0 to 1167\n",
      "Columns: 950 entries, NAME to CLASS\n",
      "dtypes: int64(949), object(1)\n",
      "memory usage: 8.5+ MB\n"
     ]
    }
   ],
   "source": [
    "df.info()"
   ]
  },
  {
   "cell_type": "code",
   "execution_count": 103,
   "metadata": {},
   "outputs": [
    {
     "data": {
      "text/plain": [
       "array([0, 1], dtype=int64)"
      ]
     },
     "execution_count": 103,
     "metadata": {},
     "output_type": "execute_result"
    }
   ],
   "source": [
    "df[target].unique()"
   ]
  },
  {
   "cell_type": "code",
   "execution_count": 104,
   "metadata": {},
   "outputs": [],
   "source": [
    "from sklearn.preprocessing import LabelEncoder\n",
    "\n",
    "encoder = LabelEncoder()\n",
    "\n",
    "df[target] = encoder.fit_transform(df[target])"
   ]
  },
  {
   "cell_type": "code",
   "execution_count": 105,
   "metadata": {},
   "outputs": [
    {
     "data": {
      "text/plain": [
       "array([0, 1], dtype=int64)"
      ]
     },
     "execution_count": 105,
     "metadata": {},
     "output_type": "execute_result"
    }
   ],
   "source": [
    "df[target].unique()"
   ]
  },
  {
   "cell_type": "code",
   "execution_count": 106,
   "metadata": {},
   "outputs": [
    {
     "name": "stdout",
     "output_type": "stream",
     "text": [
      "<class 'pandas.core.frame.DataFrame'>\n",
      "RangeIndex: 1168 entries, 0 to 1167\n",
      "Columns: 950 entries, NAME to CLASS\n",
      "dtypes: int64(949), object(1)\n",
      "memory usage: 8.5+ MB\n"
     ]
    }
   ],
   "source": [
    "df.info()"
   ]
  },
  {
   "cell_type": "code",
   "execution_count": 107,
   "metadata": {},
   "outputs": [
    {
     "data": {
      "text/plain": [
       "CLASS\n",
       "1    602\n",
       "0    566\n",
       "Name: count, dtype: int64"
      ]
     },
     "execution_count": 107,
     "metadata": {},
     "output_type": "execute_result"
    }
   ],
   "source": [
    "df[target].value_counts()"
   ]
  },
  {
   "cell_type": "code",
   "execution_count": 108,
   "metadata": {},
   "outputs": [],
   "source": [
    "X = df.loc[ : , df.columns != target] # features\n",
    "X = X.loc[: , X.columns!=\"NAME\"]\n",
    "y = df[target]"
   ]
  },
  {
   "cell_type": "code",
   "execution_count": 109,
   "metadata": {},
   "outputs": [
    {
     "data": {
      "text/plain": [
       "Index(['android.permission.ACCESS_ALL_DOWNLOADS',\n",
       "       'android.permission.ACCESS_BLUETOOTH_SHARE',\n",
       "       'android.permission.ACCESS_CACHE_FILESYSTEM',\n",
       "       'android.permission.ACCESS_CHECKIN_PROPERTIES',\n",
       "       'android.permission.ACCESS_CONTENT_PROVIDERS_EXTERNALLY',\n",
       "       'android.permission.ACCESS_DOWNLOAD_MANAGER',\n",
       "       'android.permission.ACCESS_DOWNLOAD_MANAGER_ADVANCED',\n",
       "       'android.permission.ACCESS_DRM_CERTIFICATES',\n",
       "       'android.permission.ACCESS_EPHEMERAL_APPS',\n",
       "       'android.permission.ACCESS_FM_RADIO',\n",
       "       ...\n",
       "       'android.permission.READ_OWNER_DATA',\n",
       "       'com.huawei.android.launcher.permission.CHANGE_BADGE',\n",
       "       'com.nbaimd.gametime.nba2011.permission.UA_DATA',\n",
       "       'com.android.browser.permission.WRITE_HISTORY_BOOKMARKS',\n",
       "       'com.cisco.anyconnect.vpn.android.permission.INTERNAL_VPN_STATE',\n",
       "       'com.huawei.launcher3.permission.WRITE_SETTINGS',\n",
       "       'android.permission.PREVENT_POWER_KEY',\n",
       "       'com.cloudmagic.mail.permission.C2D_MESSAGE',\n",
       "       'com.magazinecloner.anpt.permission.C2D_MESSAGE',\n",
       "       'android.permission.READ_MMS'],\n",
       "      dtype='object', length=948)"
      ]
     },
     "execution_count": 109,
     "metadata": {},
     "output_type": "execute_result"
    }
   ],
   "source": [
    "X.columns"
   ]
  },
  {
   "cell_type": "markdown",
   "metadata": {},
   "source": [
    "# Feature selection"
   ]
  },
  {
   "cell_type": "markdown",
   "metadata": {},
   "source": [
    "## Anova"
   ]
  },
  {
   "cell_type": "code",
   "execution_count": null,
   "metadata": {},
   "outputs": [],
   "source": [
    "from sklearn.datasets import make_classification\n",
    "from sklearn.feature_selection import SelectKBest\n",
    "from sklearn.feature_selection import f_classif\n",
    "import pandas as pd\n",
    "\n",
    "\n",
    "def anova(X,y,num_of_feat):\n",
    "  fs = SelectKBest(score_func=f_classif, k=5)\n",
    "  fit = fs.fit(X,y)\n",
    "  dfscores = pd.DataFrame(fit.scores_)\n",
    "  dfcolumns = pd.DataFrame(X.columns)\n",
    "\n",
    "  featureScores = pd.concat([dfcolumns,dfscores],axis=1)\n",
    "\n",
    "  featureScores.columns = ['Best_columns','Score_ANOVA']\n",
    "\n",
    "  lyst = featureScores.nlargest(num_of_feat,'Score_ANOVA')\n",
    "  ANOVA_feature=list(lyst['Best_columns'])\n",
    "  return ANOVA_feature"
   ]
  },
  {
   "cell_type": "markdown",
   "metadata": {},
   "source": [
    "## Pearson"
   ]
  },
  {
   "cell_type": "code",
   "execution_count": null,
   "metadata": {},
   "outputs": [],
   "source": [
    "\"\"\"from sklearn.datasets import make_regression\n",
    "from sklearn.feature_selection import SelectKBest\n",
    "from sklearn.feature_selection import f_regression\n",
    "\n",
    "\n",
    "def pearson(X,y,num_of_feat):\n",
    "  fs = SelectKBest(score_func=f_regression, k=5)\n",
    "  fit = fs.fit(X,y)\n",
    "\n",
    "  #create df for scores\n",
    "  dfscores = pd.DataFrame(fit.scores_)\n",
    "  #create df for column names\n",
    "  dfcolumns = pd.DataFrame(df.columns)\n",
    "  #concat two dataframes for better visualization\n",
    "  featureScores = pd.concat([dfcolumns,dfscores],axis=1)\n",
    "  #naming the dataframe columns\n",
    "  featureScores.columns = ['Best_columns','Score_pearsons']\n",
    "\n",
    "  #print 10 best features\n",
    "  lyst = featureScores.nlargest(num_of_feat,'Score_pearsons')\n",
    "\n",
    "  PEARSON_feature=list(lyst['Best_columns'])\n",
    "  return PEARSON_feature\"\"\""
   ]
  },
  {
   "cell_type": "markdown",
   "metadata": {},
   "source": [
    "## Univarient feature selection"
   ]
  },
  {
   "cell_type": "code",
   "execution_count": null,
   "metadata": {},
   "outputs": [],
   "source": [
    "\"\"\"from sklearn.feature_selection import SelectKBest\n",
    "from sklearn.feature_selection import chi2\n",
    "\n",
    "def u_f(X,y,num_of_feat):\n",
    "  bestfeatures = SelectKBest(score_func=chi2, k=10)\n",
    "  fit = bestfeatures.fit(X,y)\n",
    "\n",
    "  dfscores = pd.DataFrame(fit.scores_)\n",
    "  dfcolumns = pd.DataFrame(X.columns)\n",
    "\n",
    "\n",
    "  #concat two dataframes for better visualization\n",
    "  featureScores = pd.concat([dfcolumns,dfscores],axis=1)\n",
    "  featureScores.columns = ['Specs','Score']  #naming the dataframe columns\n",
    "\n",
    "\n",
    "\n",
    "  sorted_df = featureScores.sort_values(by=['Score'], ascending=False)\n",
    "  Univarient_feature = sorted_df[\"Specs\"][:num_of_feat]\n",
    "  return Univarient_feature\"\"\""
   ]
  },
  {
   "cell_type": "markdown",
   "metadata": {},
   "source": [
    "## Function Call"
   ]
  },
  {
   "cell_type": "code",
   "execution_count": null,
   "metadata": {},
   "outputs": [],
   "source": [
    "anova_list = anova(X,y,150)\n",
    "anova_list"
   ]
  },
  {
   "cell_type": "code",
   "execution_count": null,
   "metadata": {},
   "outputs": [],
   "source": [
    "\"\"\"pearson_list = pearson(X,y,30)\n",
    "pearson_list\"\"\""
   ]
  },
  {
   "cell_type": "code",
   "execution_count": null,
   "metadata": {},
   "outputs": [],
   "source": [
    "\"\"\"u_f_list = u_f(X,y,30)\n",
    "u_f_list\"\"\""
   ]
  },
  {
   "cell_type": "code",
   "execution_count": null,
   "metadata": {},
   "outputs": [],
   "source": [
    "X = df.loc[:,anova_list]\n",
    "y = df[target]"
   ]
  },
  {
   "cell_type": "code",
   "execution_count": null,
   "metadata": {},
   "outputs": [],
   "source": [
    "X"
   ]
  },
  {
   "cell_type": "code",
   "execution_count": 110,
   "metadata": {},
   "outputs": [],
   "source": [
    "from sklearn.model_selection import train_test_split\n",
    "\n",
    "X_train, X_test, y_train, y_test = train_test_split(X, y, test_size=0.2, random_state = 0)"
   ]
  },
  {
   "cell_type": "code",
   "execution_count": 111,
   "metadata": {},
   "outputs": [
    {
     "data": {
      "text/plain": [
       "CLASS\n",
       "1    476\n",
       "0    458\n",
       "Name: count, dtype: int64"
      ]
     },
     "execution_count": 111,
     "metadata": {},
     "output_type": "execute_result"
    }
   ],
   "source": [
    "y_train.value_counts()"
   ]
  },
  {
   "cell_type": "code",
   "execution_count": null,
   "metadata": {},
   "outputs": [],
   "source": [
    "\"\"\"from imblearn.over_sampling import SMOTE\n",
    "\n",
    "smote = SMOTE()\n",
    "\n",
    "X_train, y_train = smote.fit_resample(X_train, y_train)\"\"\""
   ]
  },
  {
   "cell_type": "code",
   "execution_count": null,
   "metadata": {},
   "outputs": [],
   "source": [
    "\"\"\"y_train.value_counts()\"\"\""
   ]
  },
  {
   "cell_type": "code",
   "execution_count": 112,
   "metadata": {},
   "outputs": [
    {
     "name": "stdout",
     "output_type": "stream",
     "text": [
      "<class 'pandas.core.frame.DataFrame'>\n",
      "RangeIndex: 1168 entries, 0 to 1167\n",
      "Columns: 948 entries, android.permission.ACCESS_ALL_DOWNLOADS to android.permission.READ_MMS\n",
      "dtypes: int64(948)\n",
      "memory usage: 8.4 MB\n"
     ]
    }
   ],
   "source": [
    "X.info()"
   ]
  },
  {
   "cell_type": "code",
   "execution_count": 113,
   "metadata": {},
   "outputs": [
    {
     "data": {
      "text/html": [
       "<style>#sk-container-id-13 {\n",
       "  /* Definition of color scheme common for light and dark mode */\n",
       "  --sklearn-color-text: black;\n",
       "  --sklearn-color-line: gray;\n",
       "  /* Definition of color scheme for unfitted estimators */\n",
       "  --sklearn-color-unfitted-level-0: #fff5e6;\n",
       "  --sklearn-color-unfitted-level-1: #f6e4d2;\n",
       "  --sklearn-color-unfitted-level-2: #ffe0b3;\n",
       "  --sklearn-color-unfitted-level-3: chocolate;\n",
       "  /* Definition of color scheme for fitted estimators */\n",
       "  --sklearn-color-fitted-level-0: #f0f8ff;\n",
       "  --sklearn-color-fitted-level-1: #d4ebff;\n",
       "  --sklearn-color-fitted-level-2: #b3dbfd;\n",
       "  --sklearn-color-fitted-level-3: cornflowerblue;\n",
       "\n",
       "  /* Specific color for light theme */\n",
       "  --sklearn-color-text-on-default-background: var(--sg-text-color, var(--theme-code-foreground, var(--jp-content-font-color1, black)));\n",
       "  --sklearn-color-background: var(--sg-background-color, var(--theme-background, var(--jp-layout-color0, white)));\n",
       "  --sklearn-color-border-box: var(--sg-text-color, var(--theme-code-foreground, var(--jp-content-font-color1, black)));\n",
       "  --sklearn-color-icon: #696969;\n",
       "\n",
       "  @media (prefers-color-scheme: dark) {\n",
       "    /* Redefinition of color scheme for dark theme */\n",
       "    --sklearn-color-text-on-default-background: var(--sg-text-color, var(--theme-code-foreground, var(--jp-content-font-color1, white)));\n",
       "    --sklearn-color-background: var(--sg-background-color, var(--theme-background, var(--jp-layout-color0, #111)));\n",
       "    --sklearn-color-border-box: var(--sg-text-color, var(--theme-code-foreground, var(--jp-content-font-color1, white)));\n",
       "    --sklearn-color-icon: #878787;\n",
       "  }\n",
       "}\n",
       "\n",
       "#sk-container-id-13 {\n",
       "  color: var(--sklearn-color-text);\n",
       "}\n",
       "\n",
       "#sk-container-id-13 pre {\n",
       "  padding: 0;\n",
       "}\n",
       "\n",
       "#sk-container-id-13 input.sk-hidden--visually {\n",
       "  border: 0;\n",
       "  clip: rect(1px 1px 1px 1px);\n",
       "  clip: rect(1px, 1px, 1px, 1px);\n",
       "  height: 1px;\n",
       "  margin: -1px;\n",
       "  overflow: hidden;\n",
       "  padding: 0;\n",
       "  position: absolute;\n",
       "  width: 1px;\n",
       "}\n",
       "\n",
       "#sk-container-id-13 div.sk-dashed-wrapped {\n",
       "  border: 1px dashed var(--sklearn-color-line);\n",
       "  margin: 0 0.4em 0.5em 0.4em;\n",
       "  box-sizing: border-box;\n",
       "  padding-bottom: 0.4em;\n",
       "  background-color: var(--sklearn-color-background);\n",
       "}\n",
       "\n",
       "#sk-container-id-13 div.sk-container {\n",
       "  /* jupyter's `normalize.less` sets `[hidden] { display: none; }`\n",
       "     but bootstrap.min.css set `[hidden] { display: none !important; }`\n",
       "     so we also need the `!important` here to be able to override the\n",
       "     default hidden behavior on the sphinx rendered scikit-learn.org.\n",
       "     See: https://github.com/scikit-learn/scikit-learn/issues/21755 */\n",
       "  display: inline-block !important;\n",
       "  position: relative;\n",
       "}\n",
       "\n",
       "#sk-container-id-13 div.sk-text-repr-fallback {\n",
       "  display: none;\n",
       "}\n",
       "\n",
       "div.sk-parallel-item,\n",
       "div.sk-serial,\n",
       "div.sk-item {\n",
       "  /* draw centered vertical line to link estimators */\n",
       "  background-image: linear-gradient(var(--sklearn-color-text-on-default-background), var(--sklearn-color-text-on-default-background));\n",
       "  background-size: 2px 100%;\n",
       "  background-repeat: no-repeat;\n",
       "  background-position: center center;\n",
       "}\n",
       "\n",
       "/* Parallel-specific style estimator block */\n",
       "\n",
       "#sk-container-id-13 div.sk-parallel-item::after {\n",
       "  content: \"\";\n",
       "  width: 100%;\n",
       "  border-bottom: 2px solid var(--sklearn-color-text-on-default-background);\n",
       "  flex-grow: 1;\n",
       "}\n",
       "\n",
       "#sk-container-id-13 div.sk-parallel {\n",
       "  display: flex;\n",
       "  align-items: stretch;\n",
       "  justify-content: center;\n",
       "  background-color: var(--sklearn-color-background);\n",
       "  position: relative;\n",
       "}\n",
       "\n",
       "#sk-container-id-13 div.sk-parallel-item {\n",
       "  display: flex;\n",
       "  flex-direction: column;\n",
       "}\n",
       "\n",
       "#sk-container-id-13 div.sk-parallel-item:first-child::after {\n",
       "  align-self: flex-end;\n",
       "  width: 50%;\n",
       "}\n",
       "\n",
       "#sk-container-id-13 div.sk-parallel-item:last-child::after {\n",
       "  align-self: flex-start;\n",
       "  width: 50%;\n",
       "}\n",
       "\n",
       "#sk-container-id-13 div.sk-parallel-item:only-child::after {\n",
       "  width: 0;\n",
       "}\n",
       "\n",
       "/* Serial-specific style estimator block */\n",
       "\n",
       "#sk-container-id-13 div.sk-serial {\n",
       "  display: flex;\n",
       "  flex-direction: column;\n",
       "  align-items: center;\n",
       "  background-color: var(--sklearn-color-background);\n",
       "  padding-right: 1em;\n",
       "  padding-left: 1em;\n",
       "}\n",
       "\n",
       "\n",
       "/* Toggleable style: style used for estimator/Pipeline/ColumnTransformer box that is\n",
       "clickable and can be expanded/collapsed.\n",
       "- Pipeline and ColumnTransformer use this feature and define the default style\n",
       "- Estimators will overwrite some part of the style using the `sk-estimator` class\n",
       "*/\n",
       "\n",
       "/* Pipeline and ColumnTransformer style (default) */\n",
       "\n",
       "#sk-container-id-13 div.sk-toggleable {\n",
       "  /* Default theme specific background. It is overwritten whether we have a\n",
       "  specific estimator or a Pipeline/ColumnTransformer */\n",
       "  background-color: var(--sklearn-color-background);\n",
       "}\n",
       "\n",
       "/* Toggleable label */\n",
       "#sk-container-id-13 label.sk-toggleable__label {\n",
       "  cursor: pointer;\n",
       "  display: block;\n",
       "  width: 100%;\n",
       "  margin-bottom: 0;\n",
       "  padding: 0.5em;\n",
       "  box-sizing: border-box;\n",
       "  text-align: center;\n",
       "}\n",
       "\n",
       "#sk-container-id-13 label.sk-toggleable__label-arrow:before {\n",
       "  /* Arrow on the left of the label */\n",
       "  content: \"▸\";\n",
       "  float: left;\n",
       "  margin-right: 0.25em;\n",
       "  color: var(--sklearn-color-icon);\n",
       "}\n",
       "\n",
       "#sk-container-id-13 label.sk-toggleable__label-arrow:hover:before {\n",
       "  color: var(--sklearn-color-text);\n",
       "}\n",
       "\n",
       "/* Toggleable content - dropdown */\n",
       "\n",
       "#sk-container-id-13 div.sk-toggleable__content {\n",
       "  max-height: 0;\n",
       "  max-width: 0;\n",
       "  overflow: hidden;\n",
       "  text-align: left;\n",
       "  /* unfitted */\n",
       "  background-color: var(--sklearn-color-unfitted-level-0);\n",
       "}\n",
       "\n",
       "#sk-container-id-13 div.sk-toggleable__content.fitted {\n",
       "  /* fitted */\n",
       "  background-color: var(--sklearn-color-fitted-level-0);\n",
       "}\n",
       "\n",
       "#sk-container-id-13 div.sk-toggleable__content pre {\n",
       "  margin: 0.2em;\n",
       "  border-radius: 0.25em;\n",
       "  color: var(--sklearn-color-text);\n",
       "  /* unfitted */\n",
       "  background-color: var(--sklearn-color-unfitted-level-0);\n",
       "}\n",
       "\n",
       "#sk-container-id-13 div.sk-toggleable__content.fitted pre {\n",
       "  /* unfitted */\n",
       "  background-color: var(--sklearn-color-fitted-level-0);\n",
       "}\n",
       "\n",
       "#sk-container-id-13 input.sk-toggleable__control:checked~div.sk-toggleable__content {\n",
       "  /* Expand drop-down */\n",
       "  max-height: 200px;\n",
       "  max-width: 100%;\n",
       "  overflow: auto;\n",
       "}\n",
       "\n",
       "#sk-container-id-13 input.sk-toggleable__control:checked~label.sk-toggleable__label-arrow:before {\n",
       "  content: \"▾\";\n",
       "}\n",
       "\n",
       "/* Pipeline/ColumnTransformer-specific style */\n",
       "\n",
       "#sk-container-id-13 div.sk-label input.sk-toggleable__control:checked~label.sk-toggleable__label {\n",
       "  color: var(--sklearn-color-text);\n",
       "  background-color: var(--sklearn-color-unfitted-level-2);\n",
       "}\n",
       "\n",
       "#sk-container-id-13 div.sk-label.fitted input.sk-toggleable__control:checked~label.sk-toggleable__label {\n",
       "  background-color: var(--sklearn-color-fitted-level-2);\n",
       "}\n",
       "\n",
       "/* Estimator-specific style */\n",
       "\n",
       "/* Colorize estimator box */\n",
       "#sk-container-id-13 div.sk-estimator input.sk-toggleable__control:checked~label.sk-toggleable__label {\n",
       "  /* unfitted */\n",
       "  background-color: var(--sklearn-color-unfitted-level-2);\n",
       "}\n",
       "\n",
       "#sk-container-id-13 div.sk-estimator.fitted input.sk-toggleable__control:checked~label.sk-toggleable__label {\n",
       "  /* fitted */\n",
       "  background-color: var(--sklearn-color-fitted-level-2);\n",
       "}\n",
       "\n",
       "#sk-container-id-13 div.sk-label label.sk-toggleable__label,\n",
       "#sk-container-id-13 div.sk-label label {\n",
       "  /* The background is the default theme color */\n",
       "  color: var(--sklearn-color-text-on-default-background);\n",
       "}\n",
       "\n",
       "/* On hover, darken the color of the background */\n",
       "#sk-container-id-13 div.sk-label:hover label.sk-toggleable__label {\n",
       "  color: var(--sklearn-color-text);\n",
       "  background-color: var(--sklearn-color-unfitted-level-2);\n",
       "}\n",
       "\n",
       "/* Label box, darken color on hover, fitted */\n",
       "#sk-container-id-13 div.sk-label.fitted:hover label.sk-toggleable__label.fitted {\n",
       "  color: var(--sklearn-color-text);\n",
       "  background-color: var(--sklearn-color-fitted-level-2);\n",
       "}\n",
       "\n",
       "/* Estimator label */\n",
       "\n",
       "#sk-container-id-13 div.sk-label label {\n",
       "  font-family: monospace;\n",
       "  font-weight: bold;\n",
       "  display: inline-block;\n",
       "  line-height: 1.2em;\n",
       "}\n",
       "\n",
       "#sk-container-id-13 div.sk-label-container {\n",
       "  text-align: center;\n",
       "}\n",
       "\n",
       "/* Estimator-specific */\n",
       "#sk-container-id-13 div.sk-estimator {\n",
       "  font-family: monospace;\n",
       "  border: 1px dotted var(--sklearn-color-border-box);\n",
       "  border-radius: 0.25em;\n",
       "  box-sizing: border-box;\n",
       "  margin-bottom: 0.5em;\n",
       "  /* unfitted */\n",
       "  background-color: var(--sklearn-color-unfitted-level-0);\n",
       "}\n",
       "\n",
       "#sk-container-id-13 div.sk-estimator.fitted {\n",
       "  /* fitted */\n",
       "  background-color: var(--sklearn-color-fitted-level-0);\n",
       "}\n",
       "\n",
       "/* on hover */\n",
       "#sk-container-id-13 div.sk-estimator:hover {\n",
       "  /* unfitted */\n",
       "  background-color: var(--sklearn-color-unfitted-level-2);\n",
       "}\n",
       "\n",
       "#sk-container-id-13 div.sk-estimator.fitted:hover {\n",
       "  /* fitted */\n",
       "  background-color: var(--sklearn-color-fitted-level-2);\n",
       "}\n",
       "\n",
       "/* Specification for estimator info (e.g. \"i\" and \"?\") */\n",
       "\n",
       "/* Common style for \"i\" and \"?\" */\n",
       "\n",
       ".sk-estimator-doc-link,\n",
       "a:link.sk-estimator-doc-link,\n",
       "a:visited.sk-estimator-doc-link {\n",
       "  float: right;\n",
       "  font-size: smaller;\n",
       "  line-height: 1em;\n",
       "  font-family: monospace;\n",
       "  background-color: var(--sklearn-color-background);\n",
       "  border-radius: 1em;\n",
       "  height: 1em;\n",
       "  width: 1em;\n",
       "  text-decoration: none !important;\n",
       "  margin-left: 1ex;\n",
       "  /* unfitted */\n",
       "  border: var(--sklearn-color-unfitted-level-1) 1pt solid;\n",
       "  color: var(--sklearn-color-unfitted-level-1);\n",
       "}\n",
       "\n",
       ".sk-estimator-doc-link.fitted,\n",
       "a:link.sk-estimator-doc-link.fitted,\n",
       "a:visited.sk-estimator-doc-link.fitted {\n",
       "  /* fitted */\n",
       "  border: var(--sklearn-color-fitted-level-1) 1pt solid;\n",
       "  color: var(--sklearn-color-fitted-level-1);\n",
       "}\n",
       "\n",
       "/* On hover */\n",
       "div.sk-estimator:hover .sk-estimator-doc-link:hover,\n",
       ".sk-estimator-doc-link:hover,\n",
       "div.sk-label-container:hover .sk-estimator-doc-link:hover,\n",
       ".sk-estimator-doc-link:hover {\n",
       "  /* unfitted */\n",
       "  background-color: var(--sklearn-color-unfitted-level-3);\n",
       "  color: var(--sklearn-color-background);\n",
       "  text-decoration: none;\n",
       "}\n",
       "\n",
       "div.sk-estimator.fitted:hover .sk-estimator-doc-link.fitted:hover,\n",
       ".sk-estimator-doc-link.fitted:hover,\n",
       "div.sk-label-container:hover .sk-estimator-doc-link.fitted:hover,\n",
       ".sk-estimator-doc-link.fitted:hover {\n",
       "  /* fitted */\n",
       "  background-color: var(--sklearn-color-fitted-level-3);\n",
       "  color: var(--sklearn-color-background);\n",
       "  text-decoration: none;\n",
       "}\n",
       "\n",
       "/* Span, style for the box shown on hovering the info icon */\n",
       ".sk-estimator-doc-link span {\n",
       "  display: none;\n",
       "  z-index: 9999;\n",
       "  position: relative;\n",
       "  font-weight: normal;\n",
       "  right: .2ex;\n",
       "  padding: .5ex;\n",
       "  margin: .5ex;\n",
       "  width: min-content;\n",
       "  min-width: 20ex;\n",
       "  max-width: 50ex;\n",
       "  color: var(--sklearn-color-text);\n",
       "  box-shadow: 2pt 2pt 4pt #999;\n",
       "  /* unfitted */\n",
       "  background: var(--sklearn-color-unfitted-level-0);\n",
       "  border: .5pt solid var(--sklearn-color-unfitted-level-3);\n",
       "}\n",
       "\n",
       ".sk-estimator-doc-link.fitted span {\n",
       "  /* fitted */\n",
       "  background: var(--sklearn-color-fitted-level-0);\n",
       "  border: var(--sklearn-color-fitted-level-3);\n",
       "}\n",
       "\n",
       ".sk-estimator-doc-link:hover span {\n",
       "  display: block;\n",
       "}\n",
       "\n",
       "/* \"?\"-specific style due to the `<a>` HTML tag */\n",
       "\n",
       "#sk-container-id-13 a.estimator_doc_link {\n",
       "  float: right;\n",
       "  font-size: 1rem;\n",
       "  line-height: 1em;\n",
       "  font-family: monospace;\n",
       "  background-color: var(--sklearn-color-background);\n",
       "  border-radius: 1rem;\n",
       "  height: 1rem;\n",
       "  width: 1rem;\n",
       "  text-decoration: none;\n",
       "  /* unfitted */\n",
       "  color: var(--sklearn-color-unfitted-level-1);\n",
       "  border: var(--sklearn-color-unfitted-level-1) 1pt solid;\n",
       "}\n",
       "\n",
       "#sk-container-id-13 a.estimator_doc_link.fitted {\n",
       "  /* fitted */\n",
       "  border: var(--sklearn-color-fitted-level-1) 1pt solid;\n",
       "  color: var(--sklearn-color-fitted-level-1);\n",
       "}\n",
       "\n",
       "/* On hover */\n",
       "#sk-container-id-13 a.estimator_doc_link:hover {\n",
       "  /* unfitted */\n",
       "  background-color: var(--sklearn-color-unfitted-level-3);\n",
       "  color: var(--sklearn-color-background);\n",
       "  text-decoration: none;\n",
       "}\n",
       "\n",
       "#sk-container-id-13 a.estimator_doc_link.fitted:hover {\n",
       "  /* fitted */\n",
       "  background-color: var(--sklearn-color-fitted-level-3);\n",
       "}\n",
       "</style><div id=\"sk-container-id-13\" class=\"sk-top-container\"><div class=\"sk-text-repr-fallback\"><pre>RandomForestClassifier()</pre><b>In a Jupyter environment, please rerun this cell to show the HTML representation or trust the notebook. <br />On GitHub, the HTML representation is unable to render, please try loading this page with nbviewer.org.</b></div><div class=\"sk-container\" hidden><div class=\"sk-item\"><div class=\"sk-estimator fitted sk-toggleable\"><input class=\"sk-toggleable__control sk-hidden--visually\" id=\"sk-estimator-id-13\" type=\"checkbox\" checked><label for=\"sk-estimator-id-13\" class=\"sk-toggleable__label fitted sk-toggleable__label-arrow fitted\">&nbsp;&nbsp;RandomForestClassifier<a class=\"sk-estimator-doc-link fitted\" rel=\"noreferrer\" target=\"_blank\" href=\"https://scikit-learn.org/1.4/modules/generated/sklearn.ensemble.RandomForestClassifier.html\">?<span>Documentation for RandomForestClassifier</span></a><span class=\"sk-estimator-doc-link fitted\">i<span>Fitted</span></span></label><div class=\"sk-toggleable__content fitted\"><pre>RandomForestClassifier()</pre></div> </div></div></div></div>"
      ],
      "text/plain": [
       "RandomForestClassifier()"
      ]
     },
     "execution_count": 113,
     "metadata": {},
     "output_type": "execute_result"
    }
   ],
   "source": [
    "from sklearn.ensemble import RandomForestClassifier\n",
    "\n",
    "rf = RandomForestClassifier()\n",
    "rf.fit(X_train, y_train)"
   ]
  },
  {
   "cell_type": "code",
   "execution_count": 114,
   "metadata": {},
   "outputs": [
    {
     "name": "stdout",
     "output_type": "stream",
     "text": [
      "              precision    recall  f1-score   support\n",
      "\n",
      "           0       0.89      0.94      0.92       108\n",
      "           1       0.95      0.90      0.93       126\n",
      "\n",
      "    accuracy                           0.92       234\n",
      "   macro avg       0.92      0.92      0.92       234\n",
      "weighted avg       0.92      0.92      0.92       234\n",
      "\n",
      "[[102   6]\n",
      " [ 12 114]]\n",
      "0.9230769230769231\n"
     ]
    }
   ],
   "source": [
    "from sklearn.metrics import classification_report, confusion_matrix, accuracy_score\n",
    "\n",
    "y_pred = rf.predict(X_test)\n",
    "\n",
    "print(classification_report(y_test, y_pred))\n",
    "print(confusion_matrix(y_test, y_pred))\n",
    "print(accuracy_score(y_test, y_pred))"
   ]
  },
  {
   "cell_type": "code",
   "execution_count": 115,
   "metadata": {},
   "outputs": [
    {
     "data": {
      "text/html": [
       "<style>#sk-container-id-14 {\n",
       "  /* Definition of color scheme common for light and dark mode */\n",
       "  --sklearn-color-text: black;\n",
       "  --sklearn-color-line: gray;\n",
       "  /* Definition of color scheme for unfitted estimators */\n",
       "  --sklearn-color-unfitted-level-0: #fff5e6;\n",
       "  --sklearn-color-unfitted-level-1: #f6e4d2;\n",
       "  --sklearn-color-unfitted-level-2: #ffe0b3;\n",
       "  --sklearn-color-unfitted-level-3: chocolate;\n",
       "  /* Definition of color scheme for fitted estimators */\n",
       "  --sklearn-color-fitted-level-0: #f0f8ff;\n",
       "  --sklearn-color-fitted-level-1: #d4ebff;\n",
       "  --sklearn-color-fitted-level-2: #b3dbfd;\n",
       "  --sklearn-color-fitted-level-3: cornflowerblue;\n",
       "\n",
       "  /* Specific color for light theme */\n",
       "  --sklearn-color-text-on-default-background: var(--sg-text-color, var(--theme-code-foreground, var(--jp-content-font-color1, black)));\n",
       "  --sklearn-color-background: var(--sg-background-color, var(--theme-background, var(--jp-layout-color0, white)));\n",
       "  --sklearn-color-border-box: var(--sg-text-color, var(--theme-code-foreground, var(--jp-content-font-color1, black)));\n",
       "  --sklearn-color-icon: #696969;\n",
       "\n",
       "  @media (prefers-color-scheme: dark) {\n",
       "    /* Redefinition of color scheme for dark theme */\n",
       "    --sklearn-color-text-on-default-background: var(--sg-text-color, var(--theme-code-foreground, var(--jp-content-font-color1, white)));\n",
       "    --sklearn-color-background: var(--sg-background-color, var(--theme-background, var(--jp-layout-color0, #111)));\n",
       "    --sklearn-color-border-box: var(--sg-text-color, var(--theme-code-foreground, var(--jp-content-font-color1, white)));\n",
       "    --sklearn-color-icon: #878787;\n",
       "  }\n",
       "}\n",
       "\n",
       "#sk-container-id-14 {\n",
       "  color: var(--sklearn-color-text);\n",
       "}\n",
       "\n",
       "#sk-container-id-14 pre {\n",
       "  padding: 0;\n",
       "}\n",
       "\n",
       "#sk-container-id-14 input.sk-hidden--visually {\n",
       "  border: 0;\n",
       "  clip: rect(1px 1px 1px 1px);\n",
       "  clip: rect(1px, 1px, 1px, 1px);\n",
       "  height: 1px;\n",
       "  margin: -1px;\n",
       "  overflow: hidden;\n",
       "  padding: 0;\n",
       "  position: absolute;\n",
       "  width: 1px;\n",
       "}\n",
       "\n",
       "#sk-container-id-14 div.sk-dashed-wrapped {\n",
       "  border: 1px dashed var(--sklearn-color-line);\n",
       "  margin: 0 0.4em 0.5em 0.4em;\n",
       "  box-sizing: border-box;\n",
       "  padding-bottom: 0.4em;\n",
       "  background-color: var(--sklearn-color-background);\n",
       "}\n",
       "\n",
       "#sk-container-id-14 div.sk-container {\n",
       "  /* jupyter's `normalize.less` sets `[hidden] { display: none; }`\n",
       "     but bootstrap.min.css set `[hidden] { display: none !important; }`\n",
       "     so we also need the `!important` here to be able to override the\n",
       "     default hidden behavior on the sphinx rendered scikit-learn.org.\n",
       "     See: https://github.com/scikit-learn/scikit-learn/issues/21755 */\n",
       "  display: inline-block !important;\n",
       "  position: relative;\n",
       "}\n",
       "\n",
       "#sk-container-id-14 div.sk-text-repr-fallback {\n",
       "  display: none;\n",
       "}\n",
       "\n",
       "div.sk-parallel-item,\n",
       "div.sk-serial,\n",
       "div.sk-item {\n",
       "  /* draw centered vertical line to link estimators */\n",
       "  background-image: linear-gradient(var(--sklearn-color-text-on-default-background), var(--sklearn-color-text-on-default-background));\n",
       "  background-size: 2px 100%;\n",
       "  background-repeat: no-repeat;\n",
       "  background-position: center center;\n",
       "}\n",
       "\n",
       "/* Parallel-specific style estimator block */\n",
       "\n",
       "#sk-container-id-14 div.sk-parallel-item::after {\n",
       "  content: \"\";\n",
       "  width: 100%;\n",
       "  border-bottom: 2px solid var(--sklearn-color-text-on-default-background);\n",
       "  flex-grow: 1;\n",
       "}\n",
       "\n",
       "#sk-container-id-14 div.sk-parallel {\n",
       "  display: flex;\n",
       "  align-items: stretch;\n",
       "  justify-content: center;\n",
       "  background-color: var(--sklearn-color-background);\n",
       "  position: relative;\n",
       "}\n",
       "\n",
       "#sk-container-id-14 div.sk-parallel-item {\n",
       "  display: flex;\n",
       "  flex-direction: column;\n",
       "}\n",
       "\n",
       "#sk-container-id-14 div.sk-parallel-item:first-child::after {\n",
       "  align-self: flex-end;\n",
       "  width: 50%;\n",
       "}\n",
       "\n",
       "#sk-container-id-14 div.sk-parallel-item:last-child::after {\n",
       "  align-self: flex-start;\n",
       "  width: 50%;\n",
       "}\n",
       "\n",
       "#sk-container-id-14 div.sk-parallel-item:only-child::after {\n",
       "  width: 0;\n",
       "}\n",
       "\n",
       "/* Serial-specific style estimator block */\n",
       "\n",
       "#sk-container-id-14 div.sk-serial {\n",
       "  display: flex;\n",
       "  flex-direction: column;\n",
       "  align-items: center;\n",
       "  background-color: var(--sklearn-color-background);\n",
       "  padding-right: 1em;\n",
       "  padding-left: 1em;\n",
       "}\n",
       "\n",
       "\n",
       "/* Toggleable style: style used for estimator/Pipeline/ColumnTransformer box that is\n",
       "clickable and can be expanded/collapsed.\n",
       "- Pipeline and ColumnTransformer use this feature and define the default style\n",
       "- Estimators will overwrite some part of the style using the `sk-estimator` class\n",
       "*/\n",
       "\n",
       "/* Pipeline and ColumnTransformer style (default) */\n",
       "\n",
       "#sk-container-id-14 div.sk-toggleable {\n",
       "  /* Default theme specific background. It is overwritten whether we have a\n",
       "  specific estimator or a Pipeline/ColumnTransformer */\n",
       "  background-color: var(--sklearn-color-background);\n",
       "}\n",
       "\n",
       "/* Toggleable label */\n",
       "#sk-container-id-14 label.sk-toggleable__label {\n",
       "  cursor: pointer;\n",
       "  display: block;\n",
       "  width: 100%;\n",
       "  margin-bottom: 0;\n",
       "  padding: 0.5em;\n",
       "  box-sizing: border-box;\n",
       "  text-align: center;\n",
       "}\n",
       "\n",
       "#sk-container-id-14 label.sk-toggleable__label-arrow:before {\n",
       "  /* Arrow on the left of the label */\n",
       "  content: \"▸\";\n",
       "  float: left;\n",
       "  margin-right: 0.25em;\n",
       "  color: var(--sklearn-color-icon);\n",
       "}\n",
       "\n",
       "#sk-container-id-14 label.sk-toggleable__label-arrow:hover:before {\n",
       "  color: var(--sklearn-color-text);\n",
       "}\n",
       "\n",
       "/* Toggleable content - dropdown */\n",
       "\n",
       "#sk-container-id-14 div.sk-toggleable__content {\n",
       "  max-height: 0;\n",
       "  max-width: 0;\n",
       "  overflow: hidden;\n",
       "  text-align: left;\n",
       "  /* unfitted */\n",
       "  background-color: var(--sklearn-color-unfitted-level-0);\n",
       "}\n",
       "\n",
       "#sk-container-id-14 div.sk-toggleable__content.fitted {\n",
       "  /* fitted */\n",
       "  background-color: var(--sklearn-color-fitted-level-0);\n",
       "}\n",
       "\n",
       "#sk-container-id-14 div.sk-toggleable__content pre {\n",
       "  margin: 0.2em;\n",
       "  border-radius: 0.25em;\n",
       "  color: var(--sklearn-color-text);\n",
       "  /* unfitted */\n",
       "  background-color: var(--sklearn-color-unfitted-level-0);\n",
       "}\n",
       "\n",
       "#sk-container-id-14 div.sk-toggleable__content.fitted pre {\n",
       "  /* unfitted */\n",
       "  background-color: var(--sklearn-color-fitted-level-0);\n",
       "}\n",
       "\n",
       "#sk-container-id-14 input.sk-toggleable__control:checked~div.sk-toggleable__content {\n",
       "  /* Expand drop-down */\n",
       "  max-height: 200px;\n",
       "  max-width: 100%;\n",
       "  overflow: auto;\n",
       "}\n",
       "\n",
       "#sk-container-id-14 input.sk-toggleable__control:checked~label.sk-toggleable__label-arrow:before {\n",
       "  content: \"▾\";\n",
       "}\n",
       "\n",
       "/* Pipeline/ColumnTransformer-specific style */\n",
       "\n",
       "#sk-container-id-14 div.sk-label input.sk-toggleable__control:checked~label.sk-toggleable__label {\n",
       "  color: var(--sklearn-color-text);\n",
       "  background-color: var(--sklearn-color-unfitted-level-2);\n",
       "}\n",
       "\n",
       "#sk-container-id-14 div.sk-label.fitted input.sk-toggleable__control:checked~label.sk-toggleable__label {\n",
       "  background-color: var(--sklearn-color-fitted-level-2);\n",
       "}\n",
       "\n",
       "/* Estimator-specific style */\n",
       "\n",
       "/* Colorize estimator box */\n",
       "#sk-container-id-14 div.sk-estimator input.sk-toggleable__control:checked~label.sk-toggleable__label {\n",
       "  /* unfitted */\n",
       "  background-color: var(--sklearn-color-unfitted-level-2);\n",
       "}\n",
       "\n",
       "#sk-container-id-14 div.sk-estimator.fitted input.sk-toggleable__control:checked~label.sk-toggleable__label {\n",
       "  /* fitted */\n",
       "  background-color: var(--sklearn-color-fitted-level-2);\n",
       "}\n",
       "\n",
       "#sk-container-id-14 div.sk-label label.sk-toggleable__label,\n",
       "#sk-container-id-14 div.sk-label label {\n",
       "  /* The background is the default theme color */\n",
       "  color: var(--sklearn-color-text-on-default-background);\n",
       "}\n",
       "\n",
       "/* On hover, darken the color of the background */\n",
       "#sk-container-id-14 div.sk-label:hover label.sk-toggleable__label {\n",
       "  color: var(--sklearn-color-text);\n",
       "  background-color: var(--sklearn-color-unfitted-level-2);\n",
       "}\n",
       "\n",
       "/* Label box, darken color on hover, fitted */\n",
       "#sk-container-id-14 div.sk-label.fitted:hover label.sk-toggleable__label.fitted {\n",
       "  color: var(--sklearn-color-text);\n",
       "  background-color: var(--sklearn-color-fitted-level-2);\n",
       "}\n",
       "\n",
       "/* Estimator label */\n",
       "\n",
       "#sk-container-id-14 div.sk-label label {\n",
       "  font-family: monospace;\n",
       "  font-weight: bold;\n",
       "  display: inline-block;\n",
       "  line-height: 1.2em;\n",
       "}\n",
       "\n",
       "#sk-container-id-14 div.sk-label-container {\n",
       "  text-align: center;\n",
       "}\n",
       "\n",
       "/* Estimator-specific */\n",
       "#sk-container-id-14 div.sk-estimator {\n",
       "  font-family: monospace;\n",
       "  border: 1px dotted var(--sklearn-color-border-box);\n",
       "  border-radius: 0.25em;\n",
       "  box-sizing: border-box;\n",
       "  margin-bottom: 0.5em;\n",
       "  /* unfitted */\n",
       "  background-color: var(--sklearn-color-unfitted-level-0);\n",
       "}\n",
       "\n",
       "#sk-container-id-14 div.sk-estimator.fitted {\n",
       "  /* fitted */\n",
       "  background-color: var(--sklearn-color-fitted-level-0);\n",
       "}\n",
       "\n",
       "/* on hover */\n",
       "#sk-container-id-14 div.sk-estimator:hover {\n",
       "  /* unfitted */\n",
       "  background-color: var(--sklearn-color-unfitted-level-2);\n",
       "}\n",
       "\n",
       "#sk-container-id-14 div.sk-estimator.fitted:hover {\n",
       "  /* fitted */\n",
       "  background-color: var(--sklearn-color-fitted-level-2);\n",
       "}\n",
       "\n",
       "/* Specification for estimator info (e.g. \"i\" and \"?\") */\n",
       "\n",
       "/* Common style for \"i\" and \"?\" */\n",
       "\n",
       ".sk-estimator-doc-link,\n",
       "a:link.sk-estimator-doc-link,\n",
       "a:visited.sk-estimator-doc-link {\n",
       "  float: right;\n",
       "  font-size: smaller;\n",
       "  line-height: 1em;\n",
       "  font-family: monospace;\n",
       "  background-color: var(--sklearn-color-background);\n",
       "  border-radius: 1em;\n",
       "  height: 1em;\n",
       "  width: 1em;\n",
       "  text-decoration: none !important;\n",
       "  margin-left: 1ex;\n",
       "  /* unfitted */\n",
       "  border: var(--sklearn-color-unfitted-level-1) 1pt solid;\n",
       "  color: var(--sklearn-color-unfitted-level-1);\n",
       "}\n",
       "\n",
       ".sk-estimator-doc-link.fitted,\n",
       "a:link.sk-estimator-doc-link.fitted,\n",
       "a:visited.sk-estimator-doc-link.fitted {\n",
       "  /* fitted */\n",
       "  border: var(--sklearn-color-fitted-level-1) 1pt solid;\n",
       "  color: var(--sklearn-color-fitted-level-1);\n",
       "}\n",
       "\n",
       "/* On hover */\n",
       "div.sk-estimator:hover .sk-estimator-doc-link:hover,\n",
       ".sk-estimator-doc-link:hover,\n",
       "div.sk-label-container:hover .sk-estimator-doc-link:hover,\n",
       ".sk-estimator-doc-link:hover {\n",
       "  /* unfitted */\n",
       "  background-color: var(--sklearn-color-unfitted-level-3);\n",
       "  color: var(--sklearn-color-background);\n",
       "  text-decoration: none;\n",
       "}\n",
       "\n",
       "div.sk-estimator.fitted:hover .sk-estimator-doc-link.fitted:hover,\n",
       ".sk-estimator-doc-link.fitted:hover,\n",
       "div.sk-label-container:hover .sk-estimator-doc-link.fitted:hover,\n",
       ".sk-estimator-doc-link.fitted:hover {\n",
       "  /* fitted */\n",
       "  background-color: var(--sklearn-color-fitted-level-3);\n",
       "  color: var(--sklearn-color-background);\n",
       "  text-decoration: none;\n",
       "}\n",
       "\n",
       "/* Span, style for the box shown on hovering the info icon */\n",
       ".sk-estimator-doc-link span {\n",
       "  display: none;\n",
       "  z-index: 9999;\n",
       "  position: relative;\n",
       "  font-weight: normal;\n",
       "  right: .2ex;\n",
       "  padding: .5ex;\n",
       "  margin: .5ex;\n",
       "  width: min-content;\n",
       "  min-width: 20ex;\n",
       "  max-width: 50ex;\n",
       "  color: var(--sklearn-color-text);\n",
       "  box-shadow: 2pt 2pt 4pt #999;\n",
       "  /* unfitted */\n",
       "  background: var(--sklearn-color-unfitted-level-0);\n",
       "  border: .5pt solid var(--sklearn-color-unfitted-level-3);\n",
       "}\n",
       "\n",
       ".sk-estimator-doc-link.fitted span {\n",
       "  /* fitted */\n",
       "  background: var(--sklearn-color-fitted-level-0);\n",
       "  border: var(--sklearn-color-fitted-level-3);\n",
       "}\n",
       "\n",
       ".sk-estimator-doc-link:hover span {\n",
       "  display: block;\n",
       "}\n",
       "\n",
       "/* \"?\"-specific style due to the `<a>` HTML tag */\n",
       "\n",
       "#sk-container-id-14 a.estimator_doc_link {\n",
       "  float: right;\n",
       "  font-size: 1rem;\n",
       "  line-height: 1em;\n",
       "  font-family: monospace;\n",
       "  background-color: var(--sklearn-color-background);\n",
       "  border-radius: 1rem;\n",
       "  height: 1rem;\n",
       "  width: 1rem;\n",
       "  text-decoration: none;\n",
       "  /* unfitted */\n",
       "  color: var(--sklearn-color-unfitted-level-1);\n",
       "  border: var(--sklearn-color-unfitted-level-1) 1pt solid;\n",
       "}\n",
       "\n",
       "#sk-container-id-14 a.estimator_doc_link.fitted {\n",
       "  /* fitted */\n",
       "  border: var(--sklearn-color-fitted-level-1) 1pt solid;\n",
       "  color: var(--sklearn-color-fitted-level-1);\n",
       "}\n",
       "\n",
       "/* On hover */\n",
       "#sk-container-id-14 a.estimator_doc_link:hover {\n",
       "  /* unfitted */\n",
       "  background-color: var(--sklearn-color-unfitted-level-3);\n",
       "  color: var(--sklearn-color-background);\n",
       "  text-decoration: none;\n",
       "}\n",
       "\n",
       "#sk-container-id-14 a.estimator_doc_link.fitted:hover {\n",
       "  /* fitted */\n",
       "  background-color: var(--sklearn-color-fitted-level-3);\n",
       "}\n",
       "</style><div id=\"sk-container-id-14\" class=\"sk-top-container\"><div class=\"sk-text-repr-fallback\"><pre>GradientBoostingClassifier()</pre><b>In a Jupyter environment, please rerun this cell to show the HTML representation or trust the notebook. <br />On GitHub, the HTML representation is unable to render, please try loading this page with nbviewer.org.</b></div><div class=\"sk-container\" hidden><div class=\"sk-item\"><div class=\"sk-estimator fitted sk-toggleable\"><input class=\"sk-toggleable__control sk-hidden--visually\" id=\"sk-estimator-id-14\" type=\"checkbox\" checked><label for=\"sk-estimator-id-14\" class=\"sk-toggleable__label fitted sk-toggleable__label-arrow fitted\">&nbsp;&nbsp;GradientBoostingClassifier<a class=\"sk-estimator-doc-link fitted\" rel=\"noreferrer\" target=\"_blank\" href=\"https://scikit-learn.org/1.4/modules/generated/sklearn.ensemble.GradientBoostingClassifier.html\">?<span>Documentation for GradientBoostingClassifier</span></a><span class=\"sk-estimator-doc-link fitted\">i<span>Fitted</span></span></label><div class=\"sk-toggleable__content fitted\"><pre>GradientBoostingClassifier()</pre></div> </div></div></div></div>"
      ],
      "text/plain": [
       "GradientBoostingClassifier()"
      ]
     },
     "execution_count": 115,
     "metadata": {},
     "output_type": "execute_result"
    }
   ],
   "source": [
    "from sklearn.ensemble import GradientBoostingClassifier\n",
    "\n",
    "gbc = GradientBoostingClassifier()\n",
    "\n",
    "gbc.fit(X_train, y_train)"
   ]
  },
  {
   "cell_type": "code",
   "execution_count": 116,
   "metadata": {},
   "outputs": [
    {
     "name": "stdout",
     "output_type": "stream",
     "text": [
      "              precision    recall  f1-score   support\n",
      "\n",
      "           0       0.86      0.96      0.91       108\n",
      "           1       0.96      0.87      0.91       126\n",
      "\n",
      "    accuracy                           0.91       234\n",
      "   macro avg       0.91      0.91      0.91       234\n",
      "weighted avg       0.92      0.91      0.91       234\n",
      "\n",
      "[[104   4]\n",
      " [ 17 109]]\n",
      "0.9102564102564102\n"
     ]
    }
   ],
   "source": [
    "from sklearn.metrics import classification_report, confusion_matrix, accuracy_score\n",
    "\n",
    "y_pred = gbc.predict(X_test)\n",
    "\n",
    "print(classification_report(y_test, y_pred))\n",
    "print(confusion_matrix(y_test, y_pred))\n",
    "print(accuracy_score(y_test, y_pred))"
   ]
  },
  {
   "cell_type": "code",
   "execution_count": 117,
   "metadata": {},
   "outputs": [
    {
     "data": {
      "text/html": [
       "<style>#sk-container-id-15 {\n",
       "  /* Definition of color scheme common for light and dark mode */\n",
       "  --sklearn-color-text: black;\n",
       "  --sklearn-color-line: gray;\n",
       "  /* Definition of color scheme for unfitted estimators */\n",
       "  --sklearn-color-unfitted-level-0: #fff5e6;\n",
       "  --sklearn-color-unfitted-level-1: #f6e4d2;\n",
       "  --sklearn-color-unfitted-level-2: #ffe0b3;\n",
       "  --sklearn-color-unfitted-level-3: chocolate;\n",
       "  /* Definition of color scheme for fitted estimators */\n",
       "  --sklearn-color-fitted-level-0: #f0f8ff;\n",
       "  --sklearn-color-fitted-level-1: #d4ebff;\n",
       "  --sklearn-color-fitted-level-2: #b3dbfd;\n",
       "  --sklearn-color-fitted-level-3: cornflowerblue;\n",
       "\n",
       "  /* Specific color for light theme */\n",
       "  --sklearn-color-text-on-default-background: var(--sg-text-color, var(--theme-code-foreground, var(--jp-content-font-color1, black)));\n",
       "  --sklearn-color-background: var(--sg-background-color, var(--theme-background, var(--jp-layout-color0, white)));\n",
       "  --sklearn-color-border-box: var(--sg-text-color, var(--theme-code-foreground, var(--jp-content-font-color1, black)));\n",
       "  --sklearn-color-icon: #696969;\n",
       "\n",
       "  @media (prefers-color-scheme: dark) {\n",
       "    /* Redefinition of color scheme for dark theme */\n",
       "    --sklearn-color-text-on-default-background: var(--sg-text-color, var(--theme-code-foreground, var(--jp-content-font-color1, white)));\n",
       "    --sklearn-color-background: var(--sg-background-color, var(--theme-background, var(--jp-layout-color0, #111)));\n",
       "    --sklearn-color-border-box: var(--sg-text-color, var(--theme-code-foreground, var(--jp-content-font-color1, white)));\n",
       "    --sklearn-color-icon: #878787;\n",
       "  }\n",
       "}\n",
       "\n",
       "#sk-container-id-15 {\n",
       "  color: var(--sklearn-color-text);\n",
       "}\n",
       "\n",
       "#sk-container-id-15 pre {\n",
       "  padding: 0;\n",
       "}\n",
       "\n",
       "#sk-container-id-15 input.sk-hidden--visually {\n",
       "  border: 0;\n",
       "  clip: rect(1px 1px 1px 1px);\n",
       "  clip: rect(1px, 1px, 1px, 1px);\n",
       "  height: 1px;\n",
       "  margin: -1px;\n",
       "  overflow: hidden;\n",
       "  padding: 0;\n",
       "  position: absolute;\n",
       "  width: 1px;\n",
       "}\n",
       "\n",
       "#sk-container-id-15 div.sk-dashed-wrapped {\n",
       "  border: 1px dashed var(--sklearn-color-line);\n",
       "  margin: 0 0.4em 0.5em 0.4em;\n",
       "  box-sizing: border-box;\n",
       "  padding-bottom: 0.4em;\n",
       "  background-color: var(--sklearn-color-background);\n",
       "}\n",
       "\n",
       "#sk-container-id-15 div.sk-container {\n",
       "  /* jupyter's `normalize.less` sets `[hidden] { display: none; }`\n",
       "     but bootstrap.min.css set `[hidden] { display: none !important; }`\n",
       "     so we also need the `!important` here to be able to override the\n",
       "     default hidden behavior on the sphinx rendered scikit-learn.org.\n",
       "     See: https://github.com/scikit-learn/scikit-learn/issues/21755 */\n",
       "  display: inline-block !important;\n",
       "  position: relative;\n",
       "}\n",
       "\n",
       "#sk-container-id-15 div.sk-text-repr-fallback {\n",
       "  display: none;\n",
       "}\n",
       "\n",
       "div.sk-parallel-item,\n",
       "div.sk-serial,\n",
       "div.sk-item {\n",
       "  /* draw centered vertical line to link estimators */\n",
       "  background-image: linear-gradient(var(--sklearn-color-text-on-default-background), var(--sklearn-color-text-on-default-background));\n",
       "  background-size: 2px 100%;\n",
       "  background-repeat: no-repeat;\n",
       "  background-position: center center;\n",
       "}\n",
       "\n",
       "/* Parallel-specific style estimator block */\n",
       "\n",
       "#sk-container-id-15 div.sk-parallel-item::after {\n",
       "  content: \"\";\n",
       "  width: 100%;\n",
       "  border-bottom: 2px solid var(--sklearn-color-text-on-default-background);\n",
       "  flex-grow: 1;\n",
       "}\n",
       "\n",
       "#sk-container-id-15 div.sk-parallel {\n",
       "  display: flex;\n",
       "  align-items: stretch;\n",
       "  justify-content: center;\n",
       "  background-color: var(--sklearn-color-background);\n",
       "  position: relative;\n",
       "}\n",
       "\n",
       "#sk-container-id-15 div.sk-parallel-item {\n",
       "  display: flex;\n",
       "  flex-direction: column;\n",
       "}\n",
       "\n",
       "#sk-container-id-15 div.sk-parallel-item:first-child::after {\n",
       "  align-self: flex-end;\n",
       "  width: 50%;\n",
       "}\n",
       "\n",
       "#sk-container-id-15 div.sk-parallel-item:last-child::after {\n",
       "  align-self: flex-start;\n",
       "  width: 50%;\n",
       "}\n",
       "\n",
       "#sk-container-id-15 div.sk-parallel-item:only-child::after {\n",
       "  width: 0;\n",
       "}\n",
       "\n",
       "/* Serial-specific style estimator block */\n",
       "\n",
       "#sk-container-id-15 div.sk-serial {\n",
       "  display: flex;\n",
       "  flex-direction: column;\n",
       "  align-items: center;\n",
       "  background-color: var(--sklearn-color-background);\n",
       "  padding-right: 1em;\n",
       "  padding-left: 1em;\n",
       "}\n",
       "\n",
       "\n",
       "/* Toggleable style: style used for estimator/Pipeline/ColumnTransformer box that is\n",
       "clickable and can be expanded/collapsed.\n",
       "- Pipeline and ColumnTransformer use this feature and define the default style\n",
       "- Estimators will overwrite some part of the style using the `sk-estimator` class\n",
       "*/\n",
       "\n",
       "/* Pipeline and ColumnTransformer style (default) */\n",
       "\n",
       "#sk-container-id-15 div.sk-toggleable {\n",
       "  /* Default theme specific background. It is overwritten whether we have a\n",
       "  specific estimator or a Pipeline/ColumnTransformer */\n",
       "  background-color: var(--sklearn-color-background);\n",
       "}\n",
       "\n",
       "/* Toggleable label */\n",
       "#sk-container-id-15 label.sk-toggleable__label {\n",
       "  cursor: pointer;\n",
       "  display: block;\n",
       "  width: 100%;\n",
       "  margin-bottom: 0;\n",
       "  padding: 0.5em;\n",
       "  box-sizing: border-box;\n",
       "  text-align: center;\n",
       "}\n",
       "\n",
       "#sk-container-id-15 label.sk-toggleable__label-arrow:before {\n",
       "  /* Arrow on the left of the label */\n",
       "  content: \"▸\";\n",
       "  float: left;\n",
       "  margin-right: 0.25em;\n",
       "  color: var(--sklearn-color-icon);\n",
       "}\n",
       "\n",
       "#sk-container-id-15 label.sk-toggleable__label-arrow:hover:before {\n",
       "  color: var(--sklearn-color-text);\n",
       "}\n",
       "\n",
       "/* Toggleable content - dropdown */\n",
       "\n",
       "#sk-container-id-15 div.sk-toggleable__content {\n",
       "  max-height: 0;\n",
       "  max-width: 0;\n",
       "  overflow: hidden;\n",
       "  text-align: left;\n",
       "  /* unfitted */\n",
       "  background-color: var(--sklearn-color-unfitted-level-0);\n",
       "}\n",
       "\n",
       "#sk-container-id-15 div.sk-toggleable__content.fitted {\n",
       "  /* fitted */\n",
       "  background-color: var(--sklearn-color-fitted-level-0);\n",
       "}\n",
       "\n",
       "#sk-container-id-15 div.sk-toggleable__content pre {\n",
       "  margin: 0.2em;\n",
       "  border-radius: 0.25em;\n",
       "  color: var(--sklearn-color-text);\n",
       "  /* unfitted */\n",
       "  background-color: var(--sklearn-color-unfitted-level-0);\n",
       "}\n",
       "\n",
       "#sk-container-id-15 div.sk-toggleable__content.fitted pre {\n",
       "  /* unfitted */\n",
       "  background-color: var(--sklearn-color-fitted-level-0);\n",
       "}\n",
       "\n",
       "#sk-container-id-15 input.sk-toggleable__control:checked~div.sk-toggleable__content {\n",
       "  /* Expand drop-down */\n",
       "  max-height: 200px;\n",
       "  max-width: 100%;\n",
       "  overflow: auto;\n",
       "}\n",
       "\n",
       "#sk-container-id-15 input.sk-toggleable__control:checked~label.sk-toggleable__label-arrow:before {\n",
       "  content: \"▾\";\n",
       "}\n",
       "\n",
       "/* Pipeline/ColumnTransformer-specific style */\n",
       "\n",
       "#sk-container-id-15 div.sk-label input.sk-toggleable__control:checked~label.sk-toggleable__label {\n",
       "  color: var(--sklearn-color-text);\n",
       "  background-color: var(--sklearn-color-unfitted-level-2);\n",
       "}\n",
       "\n",
       "#sk-container-id-15 div.sk-label.fitted input.sk-toggleable__control:checked~label.sk-toggleable__label {\n",
       "  background-color: var(--sklearn-color-fitted-level-2);\n",
       "}\n",
       "\n",
       "/* Estimator-specific style */\n",
       "\n",
       "/* Colorize estimator box */\n",
       "#sk-container-id-15 div.sk-estimator input.sk-toggleable__control:checked~label.sk-toggleable__label {\n",
       "  /* unfitted */\n",
       "  background-color: var(--sklearn-color-unfitted-level-2);\n",
       "}\n",
       "\n",
       "#sk-container-id-15 div.sk-estimator.fitted input.sk-toggleable__control:checked~label.sk-toggleable__label {\n",
       "  /* fitted */\n",
       "  background-color: var(--sklearn-color-fitted-level-2);\n",
       "}\n",
       "\n",
       "#sk-container-id-15 div.sk-label label.sk-toggleable__label,\n",
       "#sk-container-id-15 div.sk-label label {\n",
       "  /* The background is the default theme color */\n",
       "  color: var(--sklearn-color-text-on-default-background);\n",
       "}\n",
       "\n",
       "/* On hover, darken the color of the background */\n",
       "#sk-container-id-15 div.sk-label:hover label.sk-toggleable__label {\n",
       "  color: var(--sklearn-color-text);\n",
       "  background-color: var(--sklearn-color-unfitted-level-2);\n",
       "}\n",
       "\n",
       "/* Label box, darken color on hover, fitted */\n",
       "#sk-container-id-15 div.sk-label.fitted:hover label.sk-toggleable__label.fitted {\n",
       "  color: var(--sklearn-color-text);\n",
       "  background-color: var(--sklearn-color-fitted-level-2);\n",
       "}\n",
       "\n",
       "/* Estimator label */\n",
       "\n",
       "#sk-container-id-15 div.sk-label label {\n",
       "  font-family: monospace;\n",
       "  font-weight: bold;\n",
       "  display: inline-block;\n",
       "  line-height: 1.2em;\n",
       "}\n",
       "\n",
       "#sk-container-id-15 div.sk-label-container {\n",
       "  text-align: center;\n",
       "}\n",
       "\n",
       "/* Estimator-specific */\n",
       "#sk-container-id-15 div.sk-estimator {\n",
       "  font-family: monospace;\n",
       "  border: 1px dotted var(--sklearn-color-border-box);\n",
       "  border-radius: 0.25em;\n",
       "  box-sizing: border-box;\n",
       "  margin-bottom: 0.5em;\n",
       "  /* unfitted */\n",
       "  background-color: var(--sklearn-color-unfitted-level-0);\n",
       "}\n",
       "\n",
       "#sk-container-id-15 div.sk-estimator.fitted {\n",
       "  /* fitted */\n",
       "  background-color: var(--sklearn-color-fitted-level-0);\n",
       "}\n",
       "\n",
       "/* on hover */\n",
       "#sk-container-id-15 div.sk-estimator:hover {\n",
       "  /* unfitted */\n",
       "  background-color: var(--sklearn-color-unfitted-level-2);\n",
       "}\n",
       "\n",
       "#sk-container-id-15 div.sk-estimator.fitted:hover {\n",
       "  /* fitted */\n",
       "  background-color: var(--sklearn-color-fitted-level-2);\n",
       "}\n",
       "\n",
       "/* Specification for estimator info (e.g. \"i\" and \"?\") */\n",
       "\n",
       "/* Common style for \"i\" and \"?\" */\n",
       "\n",
       ".sk-estimator-doc-link,\n",
       "a:link.sk-estimator-doc-link,\n",
       "a:visited.sk-estimator-doc-link {\n",
       "  float: right;\n",
       "  font-size: smaller;\n",
       "  line-height: 1em;\n",
       "  font-family: monospace;\n",
       "  background-color: var(--sklearn-color-background);\n",
       "  border-radius: 1em;\n",
       "  height: 1em;\n",
       "  width: 1em;\n",
       "  text-decoration: none !important;\n",
       "  margin-left: 1ex;\n",
       "  /* unfitted */\n",
       "  border: var(--sklearn-color-unfitted-level-1) 1pt solid;\n",
       "  color: var(--sklearn-color-unfitted-level-1);\n",
       "}\n",
       "\n",
       ".sk-estimator-doc-link.fitted,\n",
       "a:link.sk-estimator-doc-link.fitted,\n",
       "a:visited.sk-estimator-doc-link.fitted {\n",
       "  /* fitted */\n",
       "  border: var(--sklearn-color-fitted-level-1) 1pt solid;\n",
       "  color: var(--sklearn-color-fitted-level-1);\n",
       "}\n",
       "\n",
       "/* On hover */\n",
       "div.sk-estimator:hover .sk-estimator-doc-link:hover,\n",
       ".sk-estimator-doc-link:hover,\n",
       "div.sk-label-container:hover .sk-estimator-doc-link:hover,\n",
       ".sk-estimator-doc-link:hover {\n",
       "  /* unfitted */\n",
       "  background-color: var(--sklearn-color-unfitted-level-3);\n",
       "  color: var(--sklearn-color-background);\n",
       "  text-decoration: none;\n",
       "}\n",
       "\n",
       "div.sk-estimator.fitted:hover .sk-estimator-doc-link.fitted:hover,\n",
       ".sk-estimator-doc-link.fitted:hover,\n",
       "div.sk-label-container:hover .sk-estimator-doc-link.fitted:hover,\n",
       ".sk-estimator-doc-link.fitted:hover {\n",
       "  /* fitted */\n",
       "  background-color: var(--sklearn-color-fitted-level-3);\n",
       "  color: var(--sklearn-color-background);\n",
       "  text-decoration: none;\n",
       "}\n",
       "\n",
       "/* Span, style for the box shown on hovering the info icon */\n",
       ".sk-estimator-doc-link span {\n",
       "  display: none;\n",
       "  z-index: 9999;\n",
       "  position: relative;\n",
       "  font-weight: normal;\n",
       "  right: .2ex;\n",
       "  padding: .5ex;\n",
       "  margin: .5ex;\n",
       "  width: min-content;\n",
       "  min-width: 20ex;\n",
       "  max-width: 50ex;\n",
       "  color: var(--sklearn-color-text);\n",
       "  box-shadow: 2pt 2pt 4pt #999;\n",
       "  /* unfitted */\n",
       "  background: var(--sklearn-color-unfitted-level-0);\n",
       "  border: .5pt solid var(--sklearn-color-unfitted-level-3);\n",
       "}\n",
       "\n",
       ".sk-estimator-doc-link.fitted span {\n",
       "  /* fitted */\n",
       "  background: var(--sklearn-color-fitted-level-0);\n",
       "  border: var(--sklearn-color-fitted-level-3);\n",
       "}\n",
       "\n",
       ".sk-estimator-doc-link:hover span {\n",
       "  display: block;\n",
       "}\n",
       "\n",
       "/* \"?\"-specific style due to the `<a>` HTML tag */\n",
       "\n",
       "#sk-container-id-15 a.estimator_doc_link {\n",
       "  float: right;\n",
       "  font-size: 1rem;\n",
       "  line-height: 1em;\n",
       "  font-family: monospace;\n",
       "  background-color: var(--sklearn-color-background);\n",
       "  border-radius: 1rem;\n",
       "  height: 1rem;\n",
       "  width: 1rem;\n",
       "  text-decoration: none;\n",
       "  /* unfitted */\n",
       "  color: var(--sklearn-color-unfitted-level-1);\n",
       "  border: var(--sklearn-color-unfitted-level-1) 1pt solid;\n",
       "}\n",
       "\n",
       "#sk-container-id-15 a.estimator_doc_link.fitted {\n",
       "  /* fitted */\n",
       "  border: var(--sklearn-color-fitted-level-1) 1pt solid;\n",
       "  color: var(--sklearn-color-fitted-level-1);\n",
       "}\n",
       "\n",
       "/* On hover */\n",
       "#sk-container-id-15 a.estimator_doc_link:hover {\n",
       "  /* unfitted */\n",
       "  background-color: var(--sklearn-color-unfitted-level-3);\n",
       "  color: var(--sklearn-color-background);\n",
       "  text-decoration: none;\n",
       "}\n",
       "\n",
       "#sk-container-id-15 a.estimator_doc_link.fitted:hover {\n",
       "  /* fitted */\n",
       "  background-color: var(--sklearn-color-fitted-level-3);\n",
       "}\n",
       "</style><div id=\"sk-container-id-15\" class=\"sk-top-container\"><div class=\"sk-text-repr-fallback\"><pre>GradientBoostingClassifier(max_depth=10, n_estimators=10)</pre><b>In a Jupyter environment, please rerun this cell to show the HTML representation or trust the notebook. <br />On GitHub, the HTML representation is unable to render, please try loading this page with nbviewer.org.</b></div><div class=\"sk-container\" hidden><div class=\"sk-item\"><div class=\"sk-estimator fitted sk-toggleable\"><input class=\"sk-toggleable__control sk-hidden--visually\" id=\"sk-estimator-id-15\" type=\"checkbox\" checked><label for=\"sk-estimator-id-15\" class=\"sk-toggleable__label fitted sk-toggleable__label-arrow fitted\">&nbsp;&nbsp;GradientBoostingClassifier<a class=\"sk-estimator-doc-link fitted\" rel=\"noreferrer\" target=\"_blank\" href=\"https://scikit-learn.org/1.4/modules/generated/sklearn.ensemble.GradientBoostingClassifier.html\">?<span>Documentation for GradientBoostingClassifier</span></a><span class=\"sk-estimator-doc-link fitted\">i<span>Fitted</span></span></label><div class=\"sk-toggleable__content fitted\"><pre>GradientBoostingClassifier(max_depth=10, n_estimators=10)</pre></div> </div></div></div></div>"
      ],
      "text/plain": [
       "GradientBoostingClassifier(max_depth=10, n_estimators=10)"
      ]
     },
     "execution_count": 117,
     "metadata": {},
     "output_type": "execute_result"
    }
   ],
   "source": [
    "from sklearn.ensemble import GradientBoostingClassifier\n",
    "\n",
    "gbc = GradientBoostingClassifier(n_estimators=10, max_depth=10)\n",
    "\n",
    "gbc.fit(X_train, y_train)"
   ]
  },
  {
   "cell_type": "code",
   "execution_count": 118,
   "metadata": {},
   "outputs": [
    {
     "name": "stdout",
     "output_type": "stream",
     "text": [
      "              precision    recall  f1-score   support\n",
      "\n",
      "           0       0.88      0.92      0.90       108\n",
      "           1       0.93      0.89      0.91       126\n",
      "\n",
      "    accuracy                           0.90       234\n",
      "   macro avg       0.90      0.90      0.90       234\n",
      "weighted avg       0.90      0.90      0.90       234\n",
      "\n",
      "[[ 99   9]\n",
      " [ 14 112]]\n",
      "0.9017094017094017\n"
     ]
    }
   ],
   "source": [
    "from sklearn.metrics import classification_report, confusion_matrix, accuracy_score\n",
    "\n",
    "y_pred = gbc.predict(X_test)\n",
    "\n",
    "print(classification_report(y_test, y_pred))\n",
    "print(confusion_matrix(y_test, y_pred))\n",
    "print(accuracy_score(y_test, y_pred))"
   ]
  },
  {
   "cell_type": "markdown",
   "metadata": {},
   "source": [
    "# Grid Search CV"
   ]
  },
  {
   "cell_type": "code",
   "execution_count": null,
   "metadata": {},
   "outputs": [],
   "source": [
    "\"\"\"from sklearn.ensemble import GradientBoostingClassifier\n",
    "from sklearn.model_selection import GridSearchCV\n",
    "\n",
    "gb_classifier = GradientBoostingClassifier()\n",
    "\n",
    "param_grid = {\n",
    "    'n_estimators': [50, 100, 150],\n",
    "    'learning_rate': [0.01, 0.1, 0.5],\n",
    "    'max_depth': [3, 4, 5]\n",
    "}\n",
    "\n",
    "grid_search = GridSearchCV(estimator=gb_classifier, param_grid=param_grid, cv=5, scoring='accuracy')\n",
    "\n",
    "grid_search.fit(X_train, y_train)\n",
    "\n",
    "best_params = grid_search.best_params_\n",
    "best_score = grid_search.best_score_\n",
    "\n",
    "print(\"Best Parameters:\", best_params)\n",
    "print(\"Best Score:\", best_score)\n",
    "\n",
    "test_accuracy = grid_search.best_estimator_.score(X_test, y_test)\n",
    "print(\"Test Accuracy:\", test_accuracy)\"\"\""
   ]
  },
  {
   "cell_type": "code",
   "execution_count": null,
   "metadata": {},
   "outputs": [],
   "source": [
    "\"\"\"results_df = pd.DataFrame(grid_search.cv_results_)\n",
    "results_df[['param_n_estimators', 'param_learning_rate', 'param_max_depth', 'mean_test_score', 'std_test_score', 'rank_test_score']]\"\"\""
   ]
  },
  {
   "cell_type": "code",
   "execution_count": 119,
   "metadata": {},
   "outputs": [
    {
     "data": {
      "text/html": [
       "<style>#sk-container-id-16 {\n",
       "  /* Definition of color scheme common for light and dark mode */\n",
       "  --sklearn-color-text: black;\n",
       "  --sklearn-color-line: gray;\n",
       "  /* Definition of color scheme for unfitted estimators */\n",
       "  --sklearn-color-unfitted-level-0: #fff5e6;\n",
       "  --sklearn-color-unfitted-level-1: #f6e4d2;\n",
       "  --sklearn-color-unfitted-level-2: #ffe0b3;\n",
       "  --sklearn-color-unfitted-level-3: chocolate;\n",
       "  /* Definition of color scheme for fitted estimators */\n",
       "  --sklearn-color-fitted-level-0: #f0f8ff;\n",
       "  --sklearn-color-fitted-level-1: #d4ebff;\n",
       "  --sklearn-color-fitted-level-2: #b3dbfd;\n",
       "  --sklearn-color-fitted-level-3: cornflowerblue;\n",
       "\n",
       "  /* Specific color for light theme */\n",
       "  --sklearn-color-text-on-default-background: var(--sg-text-color, var(--theme-code-foreground, var(--jp-content-font-color1, black)));\n",
       "  --sklearn-color-background: var(--sg-background-color, var(--theme-background, var(--jp-layout-color0, white)));\n",
       "  --sklearn-color-border-box: var(--sg-text-color, var(--theme-code-foreground, var(--jp-content-font-color1, black)));\n",
       "  --sklearn-color-icon: #696969;\n",
       "\n",
       "  @media (prefers-color-scheme: dark) {\n",
       "    /* Redefinition of color scheme for dark theme */\n",
       "    --sklearn-color-text-on-default-background: var(--sg-text-color, var(--theme-code-foreground, var(--jp-content-font-color1, white)));\n",
       "    --sklearn-color-background: var(--sg-background-color, var(--theme-background, var(--jp-layout-color0, #111)));\n",
       "    --sklearn-color-border-box: var(--sg-text-color, var(--theme-code-foreground, var(--jp-content-font-color1, white)));\n",
       "    --sklearn-color-icon: #878787;\n",
       "  }\n",
       "}\n",
       "\n",
       "#sk-container-id-16 {\n",
       "  color: var(--sklearn-color-text);\n",
       "}\n",
       "\n",
       "#sk-container-id-16 pre {\n",
       "  padding: 0;\n",
       "}\n",
       "\n",
       "#sk-container-id-16 input.sk-hidden--visually {\n",
       "  border: 0;\n",
       "  clip: rect(1px 1px 1px 1px);\n",
       "  clip: rect(1px, 1px, 1px, 1px);\n",
       "  height: 1px;\n",
       "  margin: -1px;\n",
       "  overflow: hidden;\n",
       "  padding: 0;\n",
       "  position: absolute;\n",
       "  width: 1px;\n",
       "}\n",
       "\n",
       "#sk-container-id-16 div.sk-dashed-wrapped {\n",
       "  border: 1px dashed var(--sklearn-color-line);\n",
       "  margin: 0 0.4em 0.5em 0.4em;\n",
       "  box-sizing: border-box;\n",
       "  padding-bottom: 0.4em;\n",
       "  background-color: var(--sklearn-color-background);\n",
       "}\n",
       "\n",
       "#sk-container-id-16 div.sk-container {\n",
       "  /* jupyter's `normalize.less` sets `[hidden] { display: none; }`\n",
       "     but bootstrap.min.css set `[hidden] { display: none !important; }`\n",
       "     so we also need the `!important` here to be able to override the\n",
       "     default hidden behavior on the sphinx rendered scikit-learn.org.\n",
       "     See: https://github.com/scikit-learn/scikit-learn/issues/21755 */\n",
       "  display: inline-block !important;\n",
       "  position: relative;\n",
       "}\n",
       "\n",
       "#sk-container-id-16 div.sk-text-repr-fallback {\n",
       "  display: none;\n",
       "}\n",
       "\n",
       "div.sk-parallel-item,\n",
       "div.sk-serial,\n",
       "div.sk-item {\n",
       "  /* draw centered vertical line to link estimators */\n",
       "  background-image: linear-gradient(var(--sklearn-color-text-on-default-background), var(--sklearn-color-text-on-default-background));\n",
       "  background-size: 2px 100%;\n",
       "  background-repeat: no-repeat;\n",
       "  background-position: center center;\n",
       "}\n",
       "\n",
       "/* Parallel-specific style estimator block */\n",
       "\n",
       "#sk-container-id-16 div.sk-parallel-item::after {\n",
       "  content: \"\";\n",
       "  width: 100%;\n",
       "  border-bottom: 2px solid var(--sklearn-color-text-on-default-background);\n",
       "  flex-grow: 1;\n",
       "}\n",
       "\n",
       "#sk-container-id-16 div.sk-parallel {\n",
       "  display: flex;\n",
       "  align-items: stretch;\n",
       "  justify-content: center;\n",
       "  background-color: var(--sklearn-color-background);\n",
       "  position: relative;\n",
       "}\n",
       "\n",
       "#sk-container-id-16 div.sk-parallel-item {\n",
       "  display: flex;\n",
       "  flex-direction: column;\n",
       "}\n",
       "\n",
       "#sk-container-id-16 div.sk-parallel-item:first-child::after {\n",
       "  align-self: flex-end;\n",
       "  width: 50%;\n",
       "}\n",
       "\n",
       "#sk-container-id-16 div.sk-parallel-item:last-child::after {\n",
       "  align-self: flex-start;\n",
       "  width: 50%;\n",
       "}\n",
       "\n",
       "#sk-container-id-16 div.sk-parallel-item:only-child::after {\n",
       "  width: 0;\n",
       "}\n",
       "\n",
       "/* Serial-specific style estimator block */\n",
       "\n",
       "#sk-container-id-16 div.sk-serial {\n",
       "  display: flex;\n",
       "  flex-direction: column;\n",
       "  align-items: center;\n",
       "  background-color: var(--sklearn-color-background);\n",
       "  padding-right: 1em;\n",
       "  padding-left: 1em;\n",
       "}\n",
       "\n",
       "\n",
       "/* Toggleable style: style used for estimator/Pipeline/ColumnTransformer box that is\n",
       "clickable and can be expanded/collapsed.\n",
       "- Pipeline and ColumnTransformer use this feature and define the default style\n",
       "- Estimators will overwrite some part of the style using the `sk-estimator` class\n",
       "*/\n",
       "\n",
       "/* Pipeline and ColumnTransformer style (default) */\n",
       "\n",
       "#sk-container-id-16 div.sk-toggleable {\n",
       "  /* Default theme specific background. It is overwritten whether we have a\n",
       "  specific estimator or a Pipeline/ColumnTransformer */\n",
       "  background-color: var(--sklearn-color-background);\n",
       "}\n",
       "\n",
       "/* Toggleable label */\n",
       "#sk-container-id-16 label.sk-toggleable__label {\n",
       "  cursor: pointer;\n",
       "  display: block;\n",
       "  width: 100%;\n",
       "  margin-bottom: 0;\n",
       "  padding: 0.5em;\n",
       "  box-sizing: border-box;\n",
       "  text-align: center;\n",
       "}\n",
       "\n",
       "#sk-container-id-16 label.sk-toggleable__label-arrow:before {\n",
       "  /* Arrow on the left of the label */\n",
       "  content: \"▸\";\n",
       "  float: left;\n",
       "  margin-right: 0.25em;\n",
       "  color: var(--sklearn-color-icon);\n",
       "}\n",
       "\n",
       "#sk-container-id-16 label.sk-toggleable__label-arrow:hover:before {\n",
       "  color: var(--sklearn-color-text);\n",
       "}\n",
       "\n",
       "/* Toggleable content - dropdown */\n",
       "\n",
       "#sk-container-id-16 div.sk-toggleable__content {\n",
       "  max-height: 0;\n",
       "  max-width: 0;\n",
       "  overflow: hidden;\n",
       "  text-align: left;\n",
       "  /* unfitted */\n",
       "  background-color: var(--sklearn-color-unfitted-level-0);\n",
       "}\n",
       "\n",
       "#sk-container-id-16 div.sk-toggleable__content.fitted {\n",
       "  /* fitted */\n",
       "  background-color: var(--sklearn-color-fitted-level-0);\n",
       "}\n",
       "\n",
       "#sk-container-id-16 div.sk-toggleable__content pre {\n",
       "  margin: 0.2em;\n",
       "  border-radius: 0.25em;\n",
       "  color: var(--sklearn-color-text);\n",
       "  /* unfitted */\n",
       "  background-color: var(--sklearn-color-unfitted-level-0);\n",
       "}\n",
       "\n",
       "#sk-container-id-16 div.sk-toggleable__content.fitted pre {\n",
       "  /* unfitted */\n",
       "  background-color: var(--sklearn-color-fitted-level-0);\n",
       "}\n",
       "\n",
       "#sk-container-id-16 input.sk-toggleable__control:checked~div.sk-toggleable__content {\n",
       "  /* Expand drop-down */\n",
       "  max-height: 200px;\n",
       "  max-width: 100%;\n",
       "  overflow: auto;\n",
       "}\n",
       "\n",
       "#sk-container-id-16 input.sk-toggleable__control:checked~label.sk-toggleable__label-arrow:before {\n",
       "  content: \"▾\";\n",
       "}\n",
       "\n",
       "/* Pipeline/ColumnTransformer-specific style */\n",
       "\n",
       "#sk-container-id-16 div.sk-label input.sk-toggleable__control:checked~label.sk-toggleable__label {\n",
       "  color: var(--sklearn-color-text);\n",
       "  background-color: var(--sklearn-color-unfitted-level-2);\n",
       "}\n",
       "\n",
       "#sk-container-id-16 div.sk-label.fitted input.sk-toggleable__control:checked~label.sk-toggleable__label {\n",
       "  background-color: var(--sklearn-color-fitted-level-2);\n",
       "}\n",
       "\n",
       "/* Estimator-specific style */\n",
       "\n",
       "/* Colorize estimator box */\n",
       "#sk-container-id-16 div.sk-estimator input.sk-toggleable__control:checked~label.sk-toggleable__label {\n",
       "  /* unfitted */\n",
       "  background-color: var(--sklearn-color-unfitted-level-2);\n",
       "}\n",
       "\n",
       "#sk-container-id-16 div.sk-estimator.fitted input.sk-toggleable__control:checked~label.sk-toggleable__label {\n",
       "  /* fitted */\n",
       "  background-color: var(--sklearn-color-fitted-level-2);\n",
       "}\n",
       "\n",
       "#sk-container-id-16 div.sk-label label.sk-toggleable__label,\n",
       "#sk-container-id-16 div.sk-label label {\n",
       "  /* The background is the default theme color */\n",
       "  color: var(--sklearn-color-text-on-default-background);\n",
       "}\n",
       "\n",
       "/* On hover, darken the color of the background */\n",
       "#sk-container-id-16 div.sk-label:hover label.sk-toggleable__label {\n",
       "  color: var(--sklearn-color-text);\n",
       "  background-color: var(--sklearn-color-unfitted-level-2);\n",
       "}\n",
       "\n",
       "/* Label box, darken color on hover, fitted */\n",
       "#sk-container-id-16 div.sk-label.fitted:hover label.sk-toggleable__label.fitted {\n",
       "  color: var(--sklearn-color-text);\n",
       "  background-color: var(--sklearn-color-fitted-level-2);\n",
       "}\n",
       "\n",
       "/* Estimator label */\n",
       "\n",
       "#sk-container-id-16 div.sk-label label {\n",
       "  font-family: monospace;\n",
       "  font-weight: bold;\n",
       "  display: inline-block;\n",
       "  line-height: 1.2em;\n",
       "}\n",
       "\n",
       "#sk-container-id-16 div.sk-label-container {\n",
       "  text-align: center;\n",
       "}\n",
       "\n",
       "/* Estimator-specific */\n",
       "#sk-container-id-16 div.sk-estimator {\n",
       "  font-family: monospace;\n",
       "  border: 1px dotted var(--sklearn-color-border-box);\n",
       "  border-radius: 0.25em;\n",
       "  box-sizing: border-box;\n",
       "  margin-bottom: 0.5em;\n",
       "  /* unfitted */\n",
       "  background-color: var(--sklearn-color-unfitted-level-0);\n",
       "}\n",
       "\n",
       "#sk-container-id-16 div.sk-estimator.fitted {\n",
       "  /* fitted */\n",
       "  background-color: var(--sklearn-color-fitted-level-0);\n",
       "}\n",
       "\n",
       "/* on hover */\n",
       "#sk-container-id-16 div.sk-estimator:hover {\n",
       "  /* unfitted */\n",
       "  background-color: var(--sklearn-color-unfitted-level-2);\n",
       "}\n",
       "\n",
       "#sk-container-id-16 div.sk-estimator.fitted:hover {\n",
       "  /* fitted */\n",
       "  background-color: var(--sklearn-color-fitted-level-2);\n",
       "}\n",
       "\n",
       "/* Specification for estimator info (e.g. \"i\" and \"?\") */\n",
       "\n",
       "/* Common style for \"i\" and \"?\" */\n",
       "\n",
       ".sk-estimator-doc-link,\n",
       "a:link.sk-estimator-doc-link,\n",
       "a:visited.sk-estimator-doc-link {\n",
       "  float: right;\n",
       "  font-size: smaller;\n",
       "  line-height: 1em;\n",
       "  font-family: monospace;\n",
       "  background-color: var(--sklearn-color-background);\n",
       "  border-radius: 1em;\n",
       "  height: 1em;\n",
       "  width: 1em;\n",
       "  text-decoration: none !important;\n",
       "  margin-left: 1ex;\n",
       "  /* unfitted */\n",
       "  border: var(--sklearn-color-unfitted-level-1) 1pt solid;\n",
       "  color: var(--sklearn-color-unfitted-level-1);\n",
       "}\n",
       "\n",
       ".sk-estimator-doc-link.fitted,\n",
       "a:link.sk-estimator-doc-link.fitted,\n",
       "a:visited.sk-estimator-doc-link.fitted {\n",
       "  /* fitted */\n",
       "  border: var(--sklearn-color-fitted-level-1) 1pt solid;\n",
       "  color: var(--sklearn-color-fitted-level-1);\n",
       "}\n",
       "\n",
       "/* On hover */\n",
       "div.sk-estimator:hover .sk-estimator-doc-link:hover,\n",
       ".sk-estimator-doc-link:hover,\n",
       "div.sk-label-container:hover .sk-estimator-doc-link:hover,\n",
       ".sk-estimator-doc-link:hover {\n",
       "  /* unfitted */\n",
       "  background-color: var(--sklearn-color-unfitted-level-3);\n",
       "  color: var(--sklearn-color-background);\n",
       "  text-decoration: none;\n",
       "}\n",
       "\n",
       "div.sk-estimator.fitted:hover .sk-estimator-doc-link.fitted:hover,\n",
       ".sk-estimator-doc-link.fitted:hover,\n",
       "div.sk-label-container:hover .sk-estimator-doc-link.fitted:hover,\n",
       ".sk-estimator-doc-link.fitted:hover {\n",
       "  /* fitted */\n",
       "  background-color: var(--sklearn-color-fitted-level-3);\n",
       "  color: var(--sklearn-color-background);\n",
       "  text-decoration: none;\n",
       "}\n",
       "\n",
       "/* Span, style for the box shown on hovering the info icon */\n",
       ".sk-estimator-doc-link span {\n",
       "  display: none;\n",
       "  z-index: 9999;\n",
       "  position: relative;\n",
       "  font-weight: normal;\n",
       "  right: .2ex;\n",
       "  padding: .5ex;\n",
       "  margin: .5ex;\n",
       "  width: min-content;\n",
       "  min-width: 20ex;\n",
       "  max-width: 50ex;\n",
       "  color: var(--sklearn-color-text);\n",
       "  box-shadow: 2pt 2pt 4pt #999;\n",
       "  /* unfitted */\n",
       "  background: var(--sklearn-color-unfitted-level-0);\n",
       "  border: .5pt solid var(--sklearn-color-unfitted-level-3);\n",
       "}\n",
       "\n",
       ".sk-estimator-doc-link.fitted span {\n",
       "  /* fitted */\n",
       "  background: var(--sklearn-color-fitted-level-0);\n",
       "  border: var(--sklearn-color-fitted-level-3);\n",
       "}\n",
       "\n",
       ".sk-estimator-doc-link:hover span {\n",
       "  display: block;\n",
       "}\n",
       "\n",
       "/* \"?\"-specific style due to the `<a>` HTML tag */\n",
       "\n",
       "#sk-container-id-16 a.estimator_doc_link {\n",
       "  float: right;\n",
       "  font-size: 1rem;\n",
       "  line-height: 1em;\n",
       "  font-family: monospace;\n",
       "  background-color: var(--sklearn-color-background);\n",
       "  border-radius: 1rem;\n",
       "  height: 1rem;\n",
       "  width: 1rem;\n",
       "  text-decoration: none;\n",
       "  /* unfitted */\n",
       "  color: var(--sklearn-color-unfitted-level-1);\n",
       "  border: var(--sklearn-color-unfitted-level-1) 1pt solid;\n",
       "}\n",
       "\n",
       "#sk-container-id-16 a.estimator_doc_link.fitted {\n",
       "  /* fitted */\n",
       "  border: var(--sklearn-color-fitted-level-1) 1pt solid;\n",
       "  color: var(--sklearn-color-fitted-level-1);\n",
       "}\n",
       "\n",
       "/* On hover */\n",
       "#sk-container-id-16 a.estimator_doc_link:hover {\n",
       "  /* unfitted */\n",
       "  background-color: var(--sklearn-color-unfitted-level-3);\n",
       "  color: var(--sklearn-color-background);\n",
       "  text-decoration: none;\n",
       "}\n",
       "\n",
       "#sk-container-id-16 a.estimator_doc_link.fitted:hover {\n",
       "  /* fitted */\n",
       "  background-color: var(--sklearn-color-fitted-level-3);\n",
       "}\n",
       "</style><div id=\"sk-container-id-16\" class=\"sk-top-container\"><div class=\"sk-text-repr-fallback\"><pre>GradientBoostingClassifier(learning_rate=0.5, max_depth=4)</pre><b>In a Jupyter environment, please rerun this cell to show the HTML representation or trust the notebook. <br />On GitHub, the HTML representation is unable to render, please try loading this page with nbviewer.org.</b></div><div class=\"sk-container\" hidden><div class=\"sk-item\"><div class=\"sk-estimator fitted sk-toggleable\"><input class=\"sk-toggleable__control sk-hidden--visually\" id=\"sk-estimator-id-16\" type=\"checkbox\" checked><label for=\"sk-estimator-id-16\" class=\"sk-toggleable__label fitted sk-toggleable__label-arrow fitted\">&nbsp;&nbsp;GradientBoostingClassifier<a class=\"sk-estimator-doc-link fitted\" rel=\"noreferrer\" target=\"_blank\" href=\"https://scikit-learn.org/1.4/modules/generated/sklearn.ensemble.GradientBoostingClassifier.html\">?<span>Documentation for GradientBoostingClassifier</span></a><span class=\"sk-estimator-doc-link fitted\">i<span>Fitted</span></span></label><div class=\"sk-toggleable__content fitted\"><pre>GradientBoostingClassifier(learning_rate=0.5, max_depth=4)</pre></div> </div></div></div></div>"
      ],
      "text/plain": [
       "GradientBoostingClassifier(learning_rate=0.5, max_depth=4)"
      ]
     },
     "execution_count": 119,
     "metadata": {},
     "output_type": "execute_result"
    }
   ],
   "source": [
    "from sklearn.ensemble import GradientBoostingClassifier\n",
    "\n",
    "gb_classifier = GradientBoostingClassifier(n_estimators=100,max_depth=4, learning_rate=0.5)\n",
    "\n",
    "gb_classifier.fit(X_train, y_train)"
   ]
  },
  {
   "cell_type": "code",
   "execution_count": 120,
   "metadata": {},
   "outputs": [
    {
     "name": "stdout",
     "output_type": "stream",
     "text": [
      "              precision    recall  f1-score   support\n",
      "\n",
      "           0       0.90      0.95      0.92       108\n",
      "           1       0.96      0.90      0.93       126\n",
      "\n",
      "    accuracy                           0.93       234\n",
      "   macro avg       0.93      0.93      0.93       234\n",
      "weighted avg       0.93      0.93      0.93       234\n",
      "\n",
      "[[103   5]\n",
      " [ 12 114]]\n",
      "0.9273504273504274\n"
     ]
    }
   ],
   "source": [
    "from sklearn.metrics import classification_report, confusion_matrix, accuracy_score\n",
    "\n",
    "y_pred = gb_classifier.predict(X_test)\n",
    "\n",
    "print(classification_report(y_test, y_pred))\n",
    "print(confusion_matrix(y_test, y_pred))\n",
    "print(accuracy_score(y_test, y_pred))"
   ]
  },
  {
   "cell_type": "code",
   "execution_count": 121,
   "metadata": {},
   "outputs": [
    {
     "name": "stdout",
     "output_type": "stream",
     "text": [
      "              precision    recall  f1-score   support\n",
      "\n",
      "           0       0.99      1.00      0.99       458\n",
      "           1       1.00      0.99      0.99       476\n",
      "\n",
      "    accuracy                           0.99       934\n",
      "   macro avg       0.99      0.99      0.99       934\n",
      "weighted avg       0.99      0.99      0.99       934\n",
      "\n",
      "[[456   2]\n",
      " [  6 470]]\n",
      "0.9914346895074947\n"
     ]
    }
   ],
   "source": [
    "from sklearn.metrics import classification_report, confusion_matrix, accuracy_score\n",
    "\n",
    "y_pred = gb_classifier.predict(X_train)\n",
    "\n",
    "print(classification_report(y_train, y_pred))\n",
    "print(confusion_matrix(y_train, y_pred))\n",
    "print(accuracy_score(y_train, y_pred))"
   ]
  },
  {
   "cell_type": "markdown",
   "metadata": {},
   "source": [
    "# > **BruteForce Tuning for Gradient Boosting**"
   ]
  },
  {
   "cell_type": "markdown",
   "metadata": {},
   "source": [
    "## Default Param"
   ]
  },
  {
   "cell_type": "code",
   "execution_count": 122,
   "metadata": {},
   "outputs": [
    {
     "name": "stdout",
     "output_type": "stream",
     "text": [
      "              precision    recall  f1-score   support\n",
      "\n",
      "           0       0.88      0.92      0.90       108\n",
      "           1       0.93      0.89      0.91       126\n",
      "\n",
      "    accuracy                           0.90       234\n",
      "   macro avg       0.90      0.90      0.90       234\n",
      "weighted avg       0.90      0.90      0.90       234\n",
      "\n",
      "[[ 99   9]\n",
      " [ 14 112]]\n",
      "0.9017094017094017\n"
     ]
    }
   ],
   "source": [
    "from sklearn.ensemble import GradientBoostingClassifier\n",
    "\n",
    "gb_classifier = GradientBoostingClassifier(n_estimators=100,max_depth=4, learning_rate=0.5)\n",
    "\n",
    "gbc.fit(X_train, y_train)\n",
    "\n",
    "\n",
    "from sklearn.metrics import classification_report, confusion_matrix, accuracy_score\n",
    "\n",
    "y_pred = gbc.predict(X_test)\n",
    "\n",
    "print(classification_report(y_test, y_pred))\n",
    "print(confusion_matrix(y_test, y_pred))\n",
    "print(accuracy_score(y_test, y_pred))"
   ]
  },
  {
   "cell_type": "markdown",
   "metadata": {},
   "source": [
    "## Tuning n_estimators"
   ]
  },
  {
   "cell_type": "code",
   "execution_count": 123,
   "metadata": {},
   "outputs": [
    {
     "name": "stdout",
     "output_type": "stream",
     "text": [
      "1/250 round completed......................... Test Accuracy: 0.8247863247863247  >>>>>>> Train Accuracy: 0.8222698072805139\n",
      "6/250 round completed......................... Test Accuracy: 0.8589743589743589  >>>>>>> Train Accuracy: 0.8640256959314775\n",
      "11/250 round completed......................... Test Accuracy: 0.8717948717948718  >>>>>>> Train Accuracy: 0.8790149892933619\n",
      "16/250 round completed......................... Test Accuracy: 0.8760683760683761  >>>>>>> Train Accuracy: 0.8843683083511777\n",
      "21/250 round completed......................... Test Accuracy: 0.8846153846153846  >>>>>>> Train Accuracy: 0.892933618843683\n",
      "26/250 round completed......................... Test Accuracy: 0.8846153846153846  >>>>>>> Train Accuracy: 0.8950749464668094\n",
      "31/250 round completed......................... Test Accuracy: 0.8974358974358975  >>>>>>> Train Accuracy: 0.8993576017130621\n",
      "36/250 round completed......................... Test Accuracy: 0.8974358974358975  >>>>>>> Train Accuracy: 0.9014989293361885\n",
      "41/250 round completed......................... Test Accuracy: 0.8974358974358975  >>>>>>> Train Accuracy: 0.9036402569593148\n",
      "46/250 round completed......................... Test Accuracy: 0.8974358974358975  >>>>>>> Train Accuracy: 0.9079229122055674\n",
      "51/250 round completed......................... Test Accuracy: 0.8931623931623932  >>>>>>> Train Accuracy: 0.9089935760171306\n",
      "56/250 round completed......................... Test Accuracy: 0.905982905982906  >>>>>>> Train Accuracy: 0.917558886509636\n",
      "61/250 round completed......................... Test Accuracy: 0.905982905982906  >>>>>>> Train Accuracy: 0.923982869379015\n",
      "66/250 round completed......................... Test Accuracy: 0.905982905982906  >>>>>>> Train Accuracy: 0.923982869379015\n",
      "71/250 round completed......................... Test Accuracy: 0.905982905982906  >>>>>>> Train Accuracy: 0.923982869379015\n",
      "76/250 round completed......................... Test Accuracy: 0.905982905982906  >>>>>>> Train Accuracy: 0.923982869379015\n",
      "81/250 round completed......................... Test Accuracy: 0.9102564102564102  >>>>>>> Train Accuracy: 0.9261241970021413\n",
      "86/250 round completed......................... Test Accuracy: 0.9102564102564102  >>>>>>> Train Accuracy: 0.9261241970021413\n",
      "91/250 round completed......................... Test Accuracy: 0.9102564102564102  >>>>>>> Train Accuracy: 0.9271948608137045\n",
      "96/250 round completed......................... Test Accuracy: 0.9102564102564102  >>>>>>> Train Accuracy: 0.9282655246252677\n",
      "101/250 round completed......................... Test Accuracy: 0.9102564102564102  >>>>>>> Train Accuracy: 0.9293361884368309\n",
      "106/250 round completed......................... Test Accuracy: 0.9145299145299145  >>>>>>> Train Accuracy: 0.9293361884368309\n",
      "111/250 round completed......................... Test Accuracy: 0.9145299145299145  >>>>>>> Train Accuracy: 0.930406852248394\n",
      "116/250 round completed......................... Test Accuracy: 0.9102564102564102  >>>>>>> Train Accuracy: 0.9325481798715204\n",
      "121/250 round completed......................... Test Accuracy: 0.9102564102564102  >>>>>>> Train Accuracy: 0.9314775160599572\n",
      "126/250 round completed......................... Test Accuracy: 0.9102564102564102  >>>>>>> Train Accuracy: 0.9314775160599572\n",
      "131/250 round completed......................... Test Accuracy: 0.9102564102564102  >>>>>>> Train Accuracy: 0.9325481798715204\n",
      "136/250 round completed......................... Test Accuracy: 0.9102564102564102  >>>>>>> Train Accuracy: 0.9325481798715204\n",
      "141/250 round completed......................... Test Accuracy: 0.9102564102564102  >>>>>>> Train Accuracy: 0.9336188436830836\n",
      "146/250 round completed......................... Test Accuracy: 0.9102564102564102  >>>>>>> Train Accuracy: 0.9325481798715204\n",
      "151/250 round completed......................... Test Accuracy: 0.9102564102564102  >>>>>>> Train Accuracy: 0.9346895074946466\n",
      "156/250 round completed......................... Test Accuracy: 0.9145299145299145  >>>>>>> Train Accuracy: 0.9357601713062098\n",
      "161/250 round completed......................... Test Accuracy: 0.9145299145299145  >>>>>>> Train Accuracy: 0.9357601713062098\n",
      "166/250 round completed......................... Test Accuracy: 0.9145299145299145  >>>>>>> Train Accuracy: 0.9411134903640257\n",
      "171/250 round completed......................... Test Accuracy: 0.9145299145299145  >>>>>>> Train Accuracy: 0.9421841541755889\n",
      "176/250 round completed......................... Test Accuracy: 0.9145299145299145  >>>>>>> Train Accuracy: 0.943254817987152\n",
      "181/250 round completed......................... Test Accuracy: 0.9145299145299145  >>>>>>> Train Accuracy: 0.9453961456102784\n",
      "186/250 round completed......................... Test Accuracy: 0.9145299145299145  >>>>>>> Train Accuracy: 0.9443254817987152\n",
      "191/250 round completed......................... Test Accuracy: 0.9145299145299145  >>>>>>> Train Accuracy: 0.943254817987152\n",
      "196/250 round completed......................... Test Accuracy: 0.9145299145299145  >>>>>>> Train Accuracy: 0.9443254817987152\n",
      "201/250 round completed......................... Test Accuracy: 0.9145299145299145  >>>>>>> Train Accuracy: 0.9464668094218416\n",
      "206/250 round completed......................... Test Accuracy: 0.9145299145299145  >>>>>>> Train Accuracy: 0.9475374732334048\n",
      "211/250 round completed......................... Test Accuracy: 0.9145299145299145  >>>>>>> Train Accuracy: 0.9464668094218416\n",
      "216/250 round completed......................... Test Accuracy: 0.9145299145299145  >>>>>>> Train Accuracy: 0.9475374732334048\n",
      "221/250 round completed......................... Test Accuracy: 0.9145299145299145  >>>>>>> Train Accuracy: 0.9486081370449678\n",
      "226/250 round completed......................... Test Accuracy: 0.9145299145299145  >>>>>>> Train Accuracy: 0.949678800856531\n",
      "231/250 round completed......................... Test Accuracy: 0.9145299145299145  >>>>>>> Train Accuracy: 0.949678800856531\n",
      "236/250 round completed......................... Test Accuracy: 0.9145299145299145  >>>>>>> Train Accuracy: 0.9486081370449678\n",
      "241/250 round completed......................... Test Accuracy: 0.9145299145299145  >>>>>>> Train Accuracy: 0.9486081370449678\n",
      "246/250 round completed......................... Test Accuracy: 0.9145299145299145  >>>>>>> Train Accuracy: 0.9475374732334048\n",
      "The best n_estimators:\n",
      "106\n"
     ]
    },
    {
     "data": {
      "image/png": "[encoded data removed]",
      "text/plain": [
       "<Figure size 2500x1000 with 1 Axes>"
      ]
     },
     "metadata": {},
     "output_type": "display_data"
    }
   ],
   "source": [
    "from sklearn.ensemble import GradientBoostingClassifier\n",
    "from sklearn.metrics import accuracy_score\n",
    "# from tqdm.notebook import tqdm\n",
    "\n",
    "N=250\n",
    "k_range = range (1,N+1,5)\n",
    "scores={}\n",
    "scores_list = []\n",
    "scores_list_train = []\n",
    "#for k in tqdm(k_range):\n",
    "for k in (k_range):\n",
    "  classifier = GradientBoostingClassifier(n_estimators=k,random_state=0)\n",
    "  classifier.fit(X_train, y_train)\n",
    "\n",
    "\n",
    "  y_pred=classifier.predict(X_test)\n",
    "  test_accu = accuracy_score(y_test,y_pred)\n",
    "  scores[k] = test_accu\n",
    "  scores_list.append(test_accu)\n",
    "\n",
    "  y_pred=classifier.predict(X_train)\n",
    "  train_accu = accuracy_score(y_train,y_pred)\n",
    "  scores_list_train.append(train_accu)\n",
    "\n",
    "  print(str(k)+\"/\"+str(N)+\" round completed......................... Test Accuracy: \"+str(test_accu),\" >>>>>>> Train Accuracy: \"+str(train_accu))\n",
    "\n",
    "\n",
    "\n",
    "%matplotlib inline\n",
    "import matplotlib.pyplot as plt\n",
    "\n",
    "plt.figure(figsize = (25,10))\n",
    "plt.plot(k_range,scores_list)\n",
    "plt.plot(k_range,scores_list_train)\n",
    "plt.xlabel('Value of n_estimators')\n",
    "plt.ylabel ('Testing Accuracy')\n",
    "plt.legend([\"Testing Accuracy\", \"Testing Accuracy\"], loc=0, frameon=True)\n",
    "\n",
    "\n",
    "print(\"The best n_estimators:\")\n",
    "best_estimator=list(scores.keys())[scores_list.index(max(scores_list))]\n",
    "print(best_estimator)"
   ]
  },
  {
   "cell_type": "markdown",
   "metadata": {},
   "source": [
    "## Tuning max_depth"
   ]
  },
  {
   "cell_type": "code",
   "execution_count": 124,
   "metadata": {},
   "outputs": [
    {
     "name": "stdout",
     "output_type": "stream",
     "text": [
      "1/50 round completed......................... Test Accuracy: 0.8760683760683761  >>>>>>> Train Accuracy: 0.8843683083511777\n",
      "6/50 round completed......................... Test Accuracy: 0.9316239316239316  >>>>>>> Train Accuracy: 0.9850107066381156\n",
      "11/50 round completed......................... Test Accuracy: 0.9273504273504274  >>>>>>> Train Accuracy: 0.9935760171306209\n",
      "16/50 round completed......................... Test Accuracy: 0.8888888888888888  >>>>>>> Train Accuracy: 0.9935760171306209\n",
      "21/50 round completed......................... Test Accuracy: 0.9102564102564102  >>>>>>> Train Accuracy: 0.9935760171306209\n",
      "26/50 round completed......................... Test Accuracy: 0.9102564102564102  >>>>>>> Train Accuracy: 0.9935760171306209\n",
      "31/50 round completed......................... Test Accuracy: 0.9145299145299145  >>>>>>> Train Accuracy: 0.9935760171306209\n",
      "36/50 round completed......................... Test Accuracy: 0.9145299145299145  >>>>>>> Train Accuracy: 0.9935760171306209\n",
      "41/50 round completed......................... Test Accuracy: 0.9145299145299145  >>>>>>> Train Accuracy: 0.9935760171306209\n",
      "46/50 round completed......................... Test Accuracy: 0.9145299145299145  >>>>>>> Train Accuracy: 0.9935760171306209\n",
      "The best Depth:\n",
      "6\n"
     ]
    },
    {
     "data": {
      "image/png": "[encoded data removed]",
      "text/plain": [
       "<Figure size 2500x1000 with 1 Axes>"
      ]
     },
     "metadata": {},
     "output_type": "display_data"
    }
   ],
   "source": [
    "from sklearn.ensemble import GradientBoostingClassifier\n",
    "from sklearn.metrics import accuracy_score\n",
    "N=50\n",
    "k_range = range (1,N+1,5)\n",
    "scores={}\n",
    "scores_list = []\n",
    "scores_list_train = []\n",
    "for k in k_range:\n",
    "  classifier = GradientBoostingClassifier(max_depth=k,random_state=0)\n",
    "  classifier.fit(X_train, y_train)\n",
    "\n",
    "  y_pred=classifier.predict(X_test)\n",
    "  test_accu = accuracy_score(y_test,y_pred)\n",
    "  scores[k] = test_accu\n",
    "  scores_list.append(test_accu)\n",
    "\n",
    "  y_pred=classifier.predict(X_train)\n",
    "  train_accu = accuracy_score(y_train,y_pred)\n",
    "  scores_list_train.append(train_accu)\n",
    "\n",
    "\n",
    "  print(str(k)+\"/\"+str(N)+\" round completed......................... Test Accuracy: \"+str(test_accu),\" >>>>>>> Train Accuracy: \"+str(train_accu))\n",
    "\n",
    "\n",
    "\n",
    "%matplotlib inline\n",
    "import matplotlib.pyplot as plt\n",
    "\n",
    "plt.figure(figsize = (25,10))\n",
    "plt.plot(k_range,scores_list)\n",
    "plt.plot(k_range,scores_list_train)\n",
    "plt.xlabel('Value of n_estimators')\n",
    "plt.ylabel ('Testing Accuracy')\n",
    "plt.legend([\"Testing Accuracy\", \"Testing Accuracy\"], loc=0, frameon=True)\n",
    "\n",
    "\n",
    "print(\"The best Depth:\")\n",
    "best_depth=list(scores.keys())[scores_list.index(max(scores_list))]\n",
    "print(best_depth)"
   ]
  },
  {
   "cell_type": "code",
   "execution_count": 125,
   "metadata": {},
   "outputs": [
    {
     "name": "stdout",
     "output_type": "stream",
     "text": [
      "Accurecy:  0.9316239316239316\n"
     ]
    }
   ],
   "source": [
    "rf_all = GradientBoostingClassifier(n_estimators=best_estimator,max_depth=best_depth,random_state=0)\n",
    "rf_all.fit(X_train, y_train)\n",
    "y_pred=rf_all.predict(X_test)\n",
    "print(\"Accurecy: \",accuracy_score(y_test,y_pred))"
   ]
  },
  {
   "cell_type": "code",
   "execution_count": 126,
   "metadata": {},
   "outputs": [
    {
     "name": "stdout",
     "output_type": "stream",
     "text": [
      "Accurecy:  0.9860813704496788\n"
     ]
    }
   ],
   "source": [
    "rf_all = GradientBoostingClassifier(n_estimators=best_estimator,max_depth=best_depth,random_state=0)\n",
    "rf_all.fit(X_train, y_train)\n",
    "y_pred=rf_all.predict(X_train)\n",
    "print(\"Accurecy: \",accuracy_score(y_train,y_pred))"
   ]
  },
  {
   "cell_type": "code",
   "execution_count": 127,
   "metadata": {},
   "outputs": [
    {
     "name": "stdout",
     "output_type": "stream",
     "text": [
      "Accurecy:  0.9145299145299145\n"
     ]
    }
   ],
   "source": [
    "rf_all = GradientBoostingClassifier(n_estimators=best_estimator,random_state=0)\n",
    "rf_all.fit(X_train, y_train)\n",
    "y_pred=rf_all.predict(X_test)\n",
    "print(\"Accurecy: \",accuracy_score(y_test,y_pred))"
   ]
  },
  {
   "cell_type": "code",
   "execution_count": 128,
   "metadata": {},
   "outputs": [
    {
     "name": "stdout",
     "output_type": "stream",
     "text": [
      "Accurecy:  0.9293361884368309\n"
     ]
    }
   ],
   "source": [
    "rf_all = GradientBoostingClassifier(n_estimators=best_estimator,random_state=0)\n",
    "rf_all.fit(X_train, y_train)\n",
    "y_pred=rf_all.predict(X_train)\n",
    "print(\"Accurecy: \",accuracy_score(y_train,y_pred))"
   ]
  },
  {
   "cell_type": "markdown",
   "metadata": {},
   "source": [
    "# > **BruteForce Tuning for Randomforest**"
   ]
  },
  {
   "cell_type": "markdown",
   "metadata": {},
   "source": [
    "## Default Param"
   ]
  },
  {
   "cell_type": "code",
   "execution_count": 129,
   "metadata": {},
   "outputs": [
    {
     "name": "stdout",
     "output_type": "stream",
     "text": [
      "[[ 99   9]\n",
      " [ 12 114]]\n",
      "              precision    recall  f1-score   support\n",
      "\n",
      "           0       0.89      0.92      0.90       108\n",
      "           1       0.93      0.90      0.92       126\n",
      "\n",
      "    accuracy                           0.91       234\n",
      "   macro avg       0.91      0.91      0.91       234\n",
      "weighted avg       0.91      0.91      0.91       234\n",
      "\n",
      "Accurecy:  0.9102564102564102\n"
     ]
    }
   ],
   "source": [
    "from sklearn.ensemble import RandomForestClassifier\n",
    "rf_default = RandomForestClassifier()\n",
    "rf_default.fit(X_train, y_train)\n",
    "y_pred_test=rf_default.predict(X_test)\n",
    "\n",
    "\n",
    "from sklearn.metrics import classification_report, confusion_matrix, accuracy_score\n",
    "print(confusion_matrix(y_test, y_pred_test))\n",
    "print(classification_report(y_test,y_pred_test))\n",
    "print(\"Accurecy: \",accuracy_score(y_test,y_pred_test))"
   ]
  },
  {
   "cell_type": "markdown",
   "metadata": {},
   "source": [
    "## Tuning n_estimators"
   ]
  },
  {
   "cell_type": "code",
   "execution_count": 130,
   "metadata": {},
   "outputs": [
    {
     "name": "stdout",
     "output_type": "stream",
     "text": [
      "1/250 round completed......................... Test Accuracy: 0.8418803418803419  >>>>>>> Train Accuracy: 0.9464668094218416\n",
      "6/250 round completed......................... Test Accuracy: 0.9017094017094017  >>>>>>> Train Accuracy: 0.9839400428265525\n",
      "11/250 round completed......................... Test Accuracy: 0.9017094017094017  >>>>>>> Train Accuracy: 0.9903640256959315\n",
      "16/250 round completed......................... Test Accuracy: 0.9273504273504274  >>>>>>> Train Accuracy: 0.9914346895074947\n",
      "21/250 round completed......................... Test Accuracy: 0.9145299145299145  >>>>>>> Train Accuracy: 0.9935760171306209\n",
      "26/250 round completed......................... Test Accuracy: 0.9273504273504274  >>>>>>> Train Accuracy: 0.9935760171306209\n",
      "31/250 round completed......................... Test Accuracy: 0.9230769230769231  >>>>>>> Train Accuracy: 0.9935760171306209\n",
      "36/250 round completed......................... Test Accuracy: 0.9188034188034188  >>>>>>> Train Accuracy: 0.9935760171306209\n",
      "41/250 round completed......................... Test Accuracy: 0.9188034188034188  >>>>>>> Train Accuracy: 0.9935760171306209\n",
      "46/250 round completed......................... Test Accuracy: 0.9273504273504274  >>>>>>> Train Accuracy: 0.9935760171306209\n",
      "51/250 round completed......................... Test Accuracy: 0.9273504273504274  >>>>>>> Train Accuracy: 0.9935760171306209\n",
      "56/250 round completed......................... Test Accuracy: 0.9230769230769231  >>>>>>> Train Accuracy: 0.9935760171306209\n",
      "61/250 round completed......................... Test Accuracy: 0.9230769230769231  >>>>>>> Train Accuracy: 0.9935760171306209\n",
      "66/250 round completed......................... Test Accuracy: 0.9230769230769231  >>>>>>> Train Accuracy: 0.9935760171306209\n",
      "71/250 round completed......................... Test Accuracy: 0.9273504273504274  >>>>>>> Train Accuracy: 0.9935760171306209\n",
      "76/250 round completed......................... Test Accuracy: 0.9230769230769231  >>>>>>> Train Accuracy: 0.9935760171306209\n",
      "81/250 round completed......................... Test Accuracy: 0.9273504273504274  >>>>>>> Train Accuracy: 0.9935760171306209\n",
      "86/250 round completed......................... Test Accuracy: 0.9273504273504274  >>>>>>> Train Accuracy: 0.9935760171306209\n",
      "91/250 round completed......................... Test Accuracy: 0.9273504273504274  >>>>>>> Train Accuracy: 0.9935760171306209\n",
      "96/250 round completed......................... Test Accuracy: 0.9273504273504274  >>>>>>> Train Accuracy: 0.9935760171306209\n",
      "101/250 round completed......................... Test Accuracy: 0.9273504273504274  >>>>>>> Train Accuracy: 0.9935760171306209\n",
      "106/250 round completed......................... Test Accuracy: 0.9273504273504274  >>>>>>> Train Accuracy: 0.9935760171306209\n",
      "111/250 round completed......................... Test Accuracy: 0.9273504273504274  >>>>>>> Train Accuracy: 0.9935760171306209\n",
      "116/250 round completed......................... Test Accuracy: 0.9273504273504274  >>>>>>> Train Accuracy: 0.9935760171306209\n",
      "121/250 round completed......................... Test Accuracy: 0.9273504273504274  >>>>>>> Train Accuracy: 0.9935760171306209\n",
      "126/250 round completed......................... Test Accuracy: 0.9273504273504274  >>>>>>> Train Accuracy: 0.9935760171306209\n",
      "131/250 round completed......................... Test Accuracy: 0.9273504273504274  >>>>>>> Train Accuracy: 0.9935760171306209\n",
      "136/250 round completed......................... Test Accuracy: 0.9230769230769231  >>>>>>> Train Accuracy: 0.9935760171306209\n",
      "141/250 round completed......................... Test Accuracy: 0.9188034188034188  >>>>>>> Train Accuracy: 0.9935760171306209\n",
      "146/250 round completed......................... Test Accuracy: 0.9230769230769231  >>>>>>> Train Accuracy: 0.9935760171306209\n",
      "151/250 round completed......................... Test Accuracy: 0.9188034188034188  >>>>>>> Train Accuracy: 0.9935760171306209\n",
      "156/250 round completed......................... Test Accuracy: 0.9230769230769231  >>>>>>> Train Accuracy: 0.9935760171306209\n",
      "161/250 round completed......................... Test Accuracy: 0.9188034188034188  >>>>>>> Train Accuracy: 0.9935760171306209\n",
      "166/250 round completed......................... Test Accuracy: 0.9188034188034188  >>>>>>> Train Accuracy: 0.9935760171306209\n",
      "171/250 round completed......................... Test Accuracy: 0.9145299145299145  >>>>>>> Train Accuracy: 0.9935760171306209\n",
      "176/250 round completed......................... Test Accuracy: 0.9188034188034188  >>>>>>> Train Accuracy: 0.9935760171306209\n",
      "181/250 round completed......................... Test Accuracy: 0.9188034188034188  >>>>>>> Train Accuracy: 0.9935760171306209\n",
      "186/250 round completed......................... Test Accuracy: 0.9230769230769231  >>>>>>> Train Accuracy: 0.9935760171306209\n",
      "191/250 round completed......................... Test Accuracy: 0.9230769230769231  >>>>>>> Train Accuracy: 0.9935760171306209\n",
      "196/250 round completed......................... Test Accuracy: 0.9230769230769231  >>>>>>> Train Accuracy: 0.9935760171306209\n",
      "201/250 round completed......................... Test Accuracy: 0.9230769230769231  >>>>>>> Train Accuracy: 0.9935760171306209\n",
      "206/250 round completed......................... Test Accuracy: 0.9230769230769231  >>>>>>> Train Accuracy: 0.9935760171306209\n",
      "211/250 round completed......................... Test Accuracy: 0.9230769230769231  >>>>>>> Train Accuracy: 0.9935760171306209\n",
      "216/250 round completed......................... Test Accuracy: 0.9230769230769231  >>>>>>> Train Accuracy: 0.9935760171306209\n",
      "221/250 round completed......................... Test Accuracy: 0.9230769230769231  >>>>>>> Train Accuracy: 0.9935760171306209\n",
      "226/250 round completed......................... Test Accuracy: 0.9230769230769231  >>>>>>> Train Accuracy: 0.9935760171306209\n",
      "231/250 round completed......................... Test Accuracy: 0.9188034188034188  >>>>>>> Train Accuracy: 0.9935760171306209\n",
      "236/250 round completed......................... Test Accuracy: 0.9188034188034188  >>>>>>> Train Accuracy: 0.9935760171306209\n",
      "241/250 round completed......................... Test Accuracy: 0.9188034188034188  >>>>>>> Train Accuracy: 0.9935760171306209\n",
      "246/250 round completed......................... Test Accuracy: 0.9188034188034188  >>>>>>> Train Accuracy: 0.9935760171306209\n",
      "The best n_estimators:\n",
      "16\n"
     ]
    },
    {
     "data": {
      "image/png": "[encoded data removed]",
      "text/plain": [
       "<Figure size 2500x1000 with 1 Axes>"
      ]
     },
     "metadata": {},
     "output_type": "display_data"
    }
   ],
   "source": [
    "from sklearn.ensemble import RandomForestClassifier\n",
    "from sklearn.metrics import accuracy_score\n",
    "#from tqdm.notebook import tqdm\n",
    "\n",
    "N=250\n",
    "k_range = range (1,N+1,5)\n",
    "scores={}\n",
    "scores_list = []\n",
    "scores_list_train = []\n",
    "#for k in tqdm(k_range):\n",
    "for k in (k_range):\n",
    "  classifier = RandomForestClassifier(n_estimators=k,random_state=0)\n",
    "  classifier.fit(X_train, y_train)\n",
    "\n",
    "\n",
    "  y_pred=classifier.predict(X_test)\n",
    "  test_accu = accuracy_score(y_test,y_pred)\n",
    "  scores[k] = test_accu\n",
    "  scores_list.append(test_accu)\n",
    "\n",
    "  y_pred=classifier.predict(X_train)\n",
    "  train_accu = accuracy_score(y_train,y_pred)\n",
    "  scores_list_train.append(train_accu)\n",
    "\n",
    "  print(str(k)+\"/\"+str(N)+\" round completed......................... Test Accuracy: \"+str(test_accu),\" >>>>>>> Train Accuracy: \"+str(train_accu))\n",
    "\n",
    "\n",
    "\n",
    "%matplotlib inline\n",
    "import matplotlib.pyplot as plt\n",
    "\n",
    "plt.figure(figsize = (25,10))\n",
    "plt.plot(k_range,scores_list)\n",
    "plt.plot(k_range,scores_list_train)\n",
    "plt.xlabel('Value of n_estimators')\n",
    "plt.ylabel ('Testing Accuracy')\n",
    "plt.legend([\"Testing Accuracy\", \"Testing Accuracy\"], loc=0, frameon=True)\n",
    "\n",
    "\n",
    "print(\"The best n_estimators:\")\n",
    "best_estimator=list(scores.keys())[scores_list.index(max(scores_list))]\n",
    "print(best_estimator)"
   ]
  },
  {
   "cell_type": "markdown",
   "metadata": {},
   "source": [
    "## Tuning max_depth"
   ]
  },
  {
   "cell_type": "code",
   "execution_count": 131,
   "metadata": {},
   "outputs": [
    {
     "name": "stdout",
     "output_type": "stream",
     "text": [
      "1/50 round completed......................... Test Accuracy: 0.7649572649572649  >>>>>>> Train Accuracy: 0.7987152034261242\n",
      "6/50 round completed......................... Test Accuracy: 0.8461538461538461  >>>>>>> Train Accuracy: 0.8629550321199143\n",
      "11/50 round completed......................... Test Accuracy: 0.8589743589743589  >>>>>>> Train Accuracy: 0.9154175588865097\n",
      "16/50 round completed......................... Test Accuracy: 0.8931623931623932  >>>>>>> Train Accuracy: 0.9453961456102784\n",
      "21/50 round completed......................... Test Accuracy: 0.8846153846153846  >>>>>>> Train Accuracy: 0.9603854389721628\n",
      "26/50 round completed......................... Test Accuracy: 0.9230769230769231  >>>>>>> Train Accuracy: 0.9785867237687366\n",
      "31/50 round completed......................... Test Accuracy: 0.9273504273504274  >>>>>>> Train Accuracy: 0.9925053533190579\n",
      "36/50 round completed......................... Test Accuracy: 0.9145299145299145  >>>>>>> Train Accuracy: 0.9935760171306209\n",
      "41/50 round completed......................... Test Accuracy: 0.9273504273504274  >>>>>>> Train Accuracy: 0.9935760171306209\n",
      "46/50 round completed......................... Test Accuracy: 0.9273504273504274  >>>>>>> Train Accuracy: 0.9935760171306209\n",
      "The best Depth:\n",
      "31\n"
     ]
    },
    {
     "data": {
      "image/png": "[encoded data removed]",
      "text/plain": [
       "<Figure size 2500x1000 with 1 Axes>"
      ]
     },
     "metadata": {},
     "output_type": "display_data"
    }
   ],
   "source": [
    "from sklearn.ensemble import RandomForestClassifier\n",
    "from sklearn.metrics import accuracy_score\n",
    "N=50\n",
    "k_range = range (1,N+1,5)\n",
    "scores={}\n",
    "scores_list = []\n",
    "scores_list_train = []\n",
    "for k in k_range:\n",
    "  classifier = RandomForestClassifier(max_depth=k,random_state=0)\n",
    "  classifier.fit(X_train, y_train)\n",
    "\n",
    "  y_pred=classifier.predict(X_test)\n",
    "  test_accu = accuracy_score(y_test,y_pred)\n",
    "  scores[k] = test_accu\n",
    "  scores_list.append(test_accu)\n",
    "\n",
    "  y_pred=classifier.predict(X_train)\n",
    "  train_accu = accuracy_score(y_train,y_pred)\n",
    "  scores_list_train.append(train_accu)\n",
    "\n",
    "\n",
    "  print(str(k)+\"/\"+str(N)+\" round completed......................... Test Accuracy: \"+str(test_accu),\" >>>>>>> Train Accuracy: \"+str(train_accu))\n",
    "\n",
    "\n",
    "\n",
    "%matplotlib inline\n",
    "import matplotlib.pyplot as plt\n",
    "\n",
    "plt.figure(figsize = (25,10))\n",
    "plt.plot(k_range,scores_list)\n",
    "plt.plot(k_range,scores_list_train)\n",
    "plt.xlabel('Value of n_estimators')\n",
    "plt.ylabel ('Testing Accuracy')\n",
    "plt.legend([\"Testing Accuracy\", \"Testing Accuracy\"], loc=0, frameon=True)\n",
    "\n",
    "\n",
    "print(\"The best Depth:\")\n",
    "best_depth=list(scores.keys())[scores_list.index(max(scores_list))]\n",
    "print(best_depth)"
   ]
  },
  {
   "cell_type": "code",
   "execution_count": 132,
   "metadata": {},
   "outputs": [
    {
     "name": "stdout",
     "output_type": "stream",
     "text": [
      "Accurecy:  0.9188034188034188\n"
     ]
    }
   ],
   "source": [
    "rf_all = RandomForestClassifier(n_estimators=best_estimator,max_depth=best_depth,random_state=0)\n",
    "rf_all.fit(X_train, y_train)\n",
    "y_pred=rf_all.predict(X_test)\n",
    "print(\"Accurecy: \",accuracy_score(y_test,y_pred))"
   ]
  },
  {
   "cell_type": "code",
   "execution_count": 133,
   "metadata": {},
   "outputs": [
    {
     "name": "stdout",
     "output_type": "stream",
     "text": [
      "Accurecy:  0.9892933618843683\n"
     ]
    }
   ],
   "source": [
    "rf_all = RandomForestClassifier(n_estimators=best_estimator,max_depth=best_depth,random_state=0)\n",
    "rf_all.fit(X_train, y_train)\n",
    "y_pred=rf_all.predict(X_train)\n",
    "print(\"Accurecy: \",accuracy_score(y_train,y_pred))"
   ]
  },
  {
   "cell_type": "markdown",
   "metadata": {},
   "source": [
    "# > **BruteForce Tuning for AdaBoosting**"
   ]
  },
  {
   "cell_type": "markdown",
   "metadata": {},
   "source": [
    "## Default Param"
   ]
  },
  {
   "cell_type": "code",
   "execution_count": 134,
   "metadata": {},
   "outputs": [
    {
     "name": "stderr",
     "output_type": "stream",
     "text": [
      "c:\\Users\\Dell\\anaconda3\\envs\\Test\\Lib\\site-packages\\sklearn\\ensemble\\_weight_boosting.py:519: FutureWarning: The SAMME.R algorithm (the default) is deprecated and will be removed in 1.6. Use the SAMME algorithm to circumvent this warning.\n",
      "  warnings.warn(\n"
     ]
    },
    {
     "name": "stdout",
     "output_type": "stream",
     "text": [
      "              precision    recall  f1-score   support\n",
      "\n",
      "           0       0.82      0.95      0.88       108\n",
      "           1       0.95      0.83      0.89       126\n",
      "\n",
      "    accuracy                           0.88       234\n",
      "   macro avg       0.89      0.89      0.88       234\n",
      "weighted avg       0.89      0.88      0.88       234\n",
      "\n",
      "[[103   5]\n",
      " [ 22 104]]\n",
      "0.8846153846153846\n"
     ]
    }
   ],
   "source": [
    "from sklearn.ensemble import AdaBoostClassifier\n",
    "\n",
    "ada_classifier = AdaBoostClassifier(n_estimators=100, learning_rate=0.5)\n",
    "\n",
    "ada_classifier.fit(X_train, y_train)\n",
    "\n",
    "\n",
    "from sklearn.metrics import classification_report, confusion_matrix, accuracy_score\n",
    "\n",
    "y_pred = ada_classifier.predict(X_test)\n",
    "\n",
    "print(classification_report(y_test, y_pred))\n",
    "print(confusion_matrix(y_test, y_pred))\n",
    "print(accuracy_score(y_test, y_pred))"
   ]
  },
  {
   "cell_type": "markdown",
   "metadata": {},
   "source": [
    "## Tuning n_estimators"
   ]
  },
  {
   "cell_type": "code",
   "execution_count": 135,
   "metadata": {},
   "outputs": [
    {
     "name": "stderr",
     "output_type": "stream",
     "text": [
      "c:\\Users\\Dell\\anaconda3\\envs\\Test\\Lib\\site-packages\\sklearn\\ensemble\\_weight_boosting.py:519: FutureWarning: The SAMME.R algorithm (the default) is deprecated and will be removed in 1.6. Use the SAMME algorithm to circumvent this warning.\n",
      "  warnings.warn(\n",
      "c:\\Users\\Dell\\anaconda3\\envs\\Test\\Lib\\site-packages\\sklearn\\ensemble\\_weight_boosting.py:519: FutureWarning: The SAMME.R algorithm (the default) is deprecated and will be removed in 1.6. Use the SAMME algorithm to circumvent this warning.\n",
      "  warnings.warn(\n",
      "c:\\Users\\Dell\\anaconda3\\envs\\Test\\Lib\\site-packages\\sklearn\\ensemble\\_weight_boosting.py:519: FutureWarning: The SAMME.R algorithm (the default) is deprecated and will be removed in 1.6. Use the SAMME algorithm to circumvent this warning.\n",
      "  warnings.warn(\n"
     ]
    },
    {
     "name": "stdout",
     "output_type": "stream",
     "text": [
      "1/250 round completed......................... Test Accuracy: 0.6794871794871795  >>>>>>> Train Accuracy: 0.7130620985010707\n",
      "6/250 round completed......................... Test Accuracy: 0.8376068376068376  >>>>>>> Train Accuracy: 0.8340471092077087\n",
      "11/250 round completed......................... Test Accuracy: 0.8504273504273504  >>>>>>> Train Accuracy: 0.854389721627409\n"
     ]
    },
    {
     "name": "stderr",
     "output_type": "stream",
     "text": [
      "c:\\Users\\Dell\\anaconda3\\envs\\Test\\Lib\\site-packages\\sklearn\\ensemble\\_weight_boosting.py:519: FutureWarning: The SAMME.R algorithm (the default) is deprecated and will be removed in 1.6. Use the SAMME algorithm to circumvent this warning.\n",
      "  warnings.warn(\n"
     ]
    },
    {
     "name": "stdout",
     "output_type": "stream",
     "text": [
      "16/250 round completed......................... Test Accuracy: 0.8931623931623932  >>>>>>> Train Accuracy: 0.8768736616702355\n"
     ]
    },
    {
     "name": "stderr",
     "output_type": "stream",
     "text": [
      "c:\\Users\\Dell\\anaconda3\\envs\\Test\\Lib\\site-packages\\sklearn\\ensemble\\_weight_boosting.py:519: FutureWarning: The SAMME.R algorithm (the default) is deprecated and will be removed in 1.6. Use the SAMME algorithm to circumvent this warning.\n",
      "  warnings.warn(\n"
     ]
    },
    {
     "name": "stdout",
     "output_type": "stream",
     "text": [
      "21/250 round completed......................... Test Accuracy: 0.8803418803418803  >>>>>>> Train Accuracy: 0.8811563169164882\n"
     ]
    },
    {
     "name": "stderr",
     "output_type": "stream",
     "text": [
      "c:\\Users\\Dell\\anaconda3\\envs\\Test\\Lib\\site-packages\\sklearn\\ensemble\\_weight_boosting.py:519: FutureWarning: The SAMME.R algorithm (the default) is deprecated and will be removed in 1.6. Use the SAMME algorithm to circumvent this warning.\n",
      "  warnings.warn(\n"
     ]
    },
    {
     "name": "stdout",
     "output_type": "stream",
     "text": [
      "26/250 round completed......................... Test Accuracy: 0.8931623931623932  >>>>>>> Train Accuracy: 0.8907922912205567\n"
     ]
    },
    {
     "name": "stderr",
     "output_type": "stream",
     "text": [
      "c:\\Users\\Dell\\anaconda3\\envs\\Test\\Lib\\site-packages\\sklearn\\ensemble\\_weight_boosting.py:519: FutureWarning: The SAMME.R algorithm (the default) is deprecated and will be removed in 1.6. Use the SAMME algorithm to circumvent this warning.\n",
      "  warnings.warn(\n"
     ]
    },
    {
     "name": "stdout",
     "output_type": "stream",
     "text": [
      "31/250 round completed......................... Test Accuracy: 0.8888888888888888  >>>>>>> Train Accuracy: 0.8907922912205567\n"
     ]
    },
    {
     "name": "stderr",
     "output_type": "stream",
     "text": [
      "c:\\Users\\Dell\\anaconda3\\envs\\Test\\Lib\\site-packages\\sklearn\\ensemble\\_weight_boosting.py:519: FutureWarning: The SAMME.R algorithm (the default) is deprecated and will be removed in 1.6. Use the SAMME algorithm to circumvent this warning.\n",
      "  warnings.warn(\n"
     ]
    },
    {
     "name": "stdout",
     "output_type": "stream",
     "text": [
      "36/250 round completed......................... Test Accuracy: 0.8974358974358975  >>>>>>> Train Accuracy: 0.8993576017130621\n"
     ]
    },
    {
     "name": "stderr",
     "output_type": "stream",
     "text": [
      "c:\\Users\\Dell\\anaconda3\\envs\\Test\\Lib\\site-packages\\sklearn\\ensemble\\_weight_boosting.py:519: FutureWarning: The SAMME.R algorithm (the default) is deprecated and will be removed in 1.6. Use the SAMME algorithm to circumvent this warning.\n",
      "  warnings.warn(\n"
     ]
    },
    {
     "name": "stdout",
     "output_type": "stream",
     "text": [
      "41/250 round completed......................... Test Accuracy: 0.8974358974358975  >>>>>>> Train Accuracy: 0.9025695931477516\n"
     ]
    },
    {
     "name": "stderr",
     "output_type": "stream",
     "text": [
      "c:\\Users\\Dell\\anaconda3\\envs\\Test\\Lib\\site-packages\\sklearn\\ensemble\\_weight_boosting.py:519: FutureWarning: The SAMME.R algorithm (the default) is deprecated and will be removed in 1.6. Use the SAMME algorithm to circumvent this warning.\n",
      "  warnings.warn(\n"
     ]
    },
    {
     "name": "stdout",
     "output_type": "stream",
     "text": [
      "46/250 round completed......................... Test Accuracy: 0.8974358974358975  >>>>>>> Train Accuracy: 0.9047109207708779\n"
     ]
    },
    {
     "name": "stderr",
     "output_type": "stream",
     "text": [
      "c:\\Users\\Dell\\anaconda3\\envs\\Test\\Lib\\site-packages\\sklearn\\ensemble\\_weight_boosting.py:519: FutureWarning: The SAMME.R algorithm (the default) is deprecated and will be removed in 1.6. Use the SAMME algorithm to circumvent this warning.\n",
      "  warnings.warn(\n"
     ]
    },
    {
     "name": "stdout",
     "output_type": "stream",
     "text": [
      "51/250 round completed......................... Test Accuracy: 0.8846153846153846  >>>>>>> Train Accuracy: 0.9025695931477516\n"
     ]
    },
    {
     "name": "stderr",
     "output_type": "stream",
     "text": [
      "c:\\Users\\Dell\\anaconda3\\envs\\Test\\Lib\\site-packages\\sklearn\\ensemble\\_weight_boosting.py:519: FutureWarning: The SAMME.R algorithm (the default) is deprecated and will be removed in 1.6. Use the SAMME algorithm to circumvent this warning.\n",
      "  warnings.warn(\n"
     ]
    },
    {
     "name": "stdout",
     "output_type": "stream",
     "text": [
      "56/250 round completed......................... Test Accuracy: 0.8974358974358975  >>>>>>> Train Accuracy: 0.9154175588865097\n"
     ]
    },
    {
     "name": "stderr",
     "output_type": "stream",
     "text": [
      "c:\\Users\\Dell\\anaconda3\\envs\\Test\\Lib\\site-packages\\sklearn\\ensemble\\_weight_boosting.py:519: FutureWarning: The SAMME.R algorithm (the default) is deprecated and will be removed in 1.6. Use the SAMME algorithm to circumvent this warning.\n",
      "  warnings.warn(\n"
     ]
    },
    {
     "name": "stdout",
     "output_type": "stream",
     "text": [
      "61/250 round completed......................... Test Accuracy: 0.8974358974358975  >>>>>>> Train Accuracy: 0.9207708779443254\n"
     ]
    },
    {
     "name": "stderr",
     "output_type": "stream",
     "text": [
      "c:\\Users\\Dell\\anaconda3\\envs\\Test\\Lib\\site-packages\\sklearn\\ensemble\\_weight_boosting.py:519: FutureWarning: The SAMME.R algorithm (the default) is deprecated and will be removed in 1.6. Use the SAMME algorithm to circumvent this warning.\n",
      "  warnings.warn(\n"
     ]
    },
    {
     "name": "stdout",
     "output_type": "stream",
     "text": [
      "66/250 round completed......................... Test Accuracy: 0.9017094017094017  >>>>>>> Train Accuracy: 0.9207708779443254\n"
     ]
    },
    {
     "name": "stderr",
     "output_type": "stream",
     "text": [
      "c:\\Users\\Dell\\anaconda3\\envs\\Test\\Lib\\site-packages\\sklearn\\ensemble\\_weight_boosting.py:519: FutureWarning: The SAMME.R algorithm (the default) is deprecated and will be removed in 1.6. Use the SAMME algorithm to circumvent this warning.\n",
      "  warnings.warn(\n"
     ]
    },
    {
     "name": "stdout",
     "output_type": "stream",
     "text": [
      "71/250 round completed......................... Test Accuracy: 0.9017094017094017  >>>>>>> Train Accuracy: 0.9218415417558886\n"
     ]
    },
    {
     "name": "stderr",
     "output_type": "stream",
     "text": [
      "c:\\Users\\Dell\\anaconda3\\envs\\Test\\Lib\\site-packages\\sklearn\\ensemble\\_weight_boosting.py:519: FutureWarning: The SAMME.R algorithm (the default) is deprecated and will be removed in 1.6. Use the SAMME algorithm to circumvent this warning.\n",
      "  warnings.warn(\n"
     ]
    },
    {
     "name": "stdout",
     "output_type": "stream",
     "text": [
      "76/250 round completed......................... Test Accuracy: 0.8931623931623932  >>>>>>> Train Accuracy: 0.9229122055674518\n"
     ]
    },
    {
     "name": "stderr",
     "output_type": "stream",
     "text": [
      "c:\\Users\\Dell\\anaconda3\\envs\\Test\\Lib\\site-packages\\sklearn\\ensemble\\_weight_boosting.py:519: FutureWarning: The SAMME.R algorithm (the default) is deprecated and will be removed in 1.6. Use the SAMME algorithm to circumvent this warning.\n",
      "  warnings.warn(\n"
     ]
    },
    {
     "name": "stdout",
     "output_type": "stream",
     "text": [
      "81/250 round completed......................... Test Accuracy: 0.9145299145299145  >>>>>>> Train Accuracy: 0.9282655246252677\n"
     ]
    },
    {
     "name": "stderr",
     "output_type": "stream",
     "text": [
      "c:\\Users\\Dell\\anaconda3\\envs\\Test\\Lib\\site-packages\\sklearn\\ensemble\\_weight_boosting.py:519: FutureWarning: The SAMME.R algorithm (the default) is deprecated and will be removed in 1.6. Use the SAMME algorithm to circumvent this warning.\n",
      "  warnings.warn(\n"
     ]
    },
    {
     "name": "stdout",
     "output_type": "stream",
     "text": [
      "86/250 round completed......................... Test Accuracy: 0.905982905982906  >>>>>>> Train Accuracy: 0.9271948608137045\n"
     ]
    },
    {
     "name": "stderr",
     "output_type": "stream",
     "text": [
      "c:\\Users\\Dell\\anaconda3\\envs\\Test\\Lib\\site-packages\\sklearn\\ensemble\\_weight_boosting.py:519: FutureWarning: The SAMME.R algorithm (the default) is deprecated and will be removed in 1.6. Use the SAMME algorithm to circumvent this warning.\n",
      "  warnings.warn(\n"
     ]
    },
    {
     "name": "stdout",
     "output_type": "stream",
     "text": [
      "91/250 round completed......................... Test Accuracy: 0.9017094017094017  >>>>>>> Train Accuracy: 0.9293361884368309\n"
     ]
    },
    {
     "name": "stderr",
     "output_type": "stream",
     "text": [
      "c:\\Users\\Dell\\anaconda3\\envs\\Test\\Lib\\site-packages\\sklearn\\ensemble\\_weight_boosting.py:519: FutureWarning: The SAMME.R algorithm (the default) is deprecated and will be removed in 1.6. Use the SAMME algorithm to circumvent this warning.\n",
      "  warnings.warn(\n"
     ]
    },
    {
     "name": "stdout",
     "output_type": "stream",
     "text": [
      "96/250 round completed......................... Test Accuracy: 0.9017094017094017  >>>>>>> Train Accuracy: 0.9293361884368309\n"
     ]
    },
    {
     "name": "stderr",
     "output_type": "stream",
     "text": [
      "c:\\Users\\Dell\\anaconda3\\envs\\Test\\Lib\\site-packages\\sklearn\\ensemble\\_weight_boosting.py:519: FutureWarning: The SAMME.R algorithm (the default) is deprecated and will be removed in 1.6. Use the SAMME algorithm to circumvent this warning.\n",
      "  warnings.warn(\n"
     ]
    },
    {
     "name": "stdout",
     "output_type": "stream",
     "text": [
      "101/250 round completed......................... Test Accuracy: 0.9017094017094017  >>>>>>> Train Accuracy: 0.930406852248394\n"
     ]
    },
    {
     "name": "stderr",
     "output_type": "stream",
     "text": [
      "c:\\Users\\Dell\\anaconda3\\envs\\Test\\Lib\\site-packages\\sklearn\\ensemble\\_weight_boosting.py:519: FutureWarning: The SAMME.R algorithm (the default) is deprecated and will be removed in 1.6. Use the SAMME algorithm to circumvent this warning.\n",
      "  warnings.warn(\n"
     ]
    },
    {
     "name": "stdout",
     "output_type": "stream",
     "text": [
      "106/250 round completed......................... Test Accuracy: 0.9102564102564102  >>>>>>> Train Accuracy: 0.9314775160599572\n"
     ]
    },
    {
     "name": "stderr",
     "output_type": "stream",
     "text": [
      "c:\\Users\\Dell\\anaconda3\\envs\\Test\\Lib\\site-packages\\sklearn\\ensemble\\_weight_boosting.py:519: FutureWarning: The SAMME.R algorithm (the default) is deprecated and will be removed in 1.6. Use the SAMME algorithm to circumvent this warning.\n",
      "  warnings.warn(\n"
     ]
    },
    {
     "name": "stdout",
     "output_type": "stream",
     "text": [
      "111/250 round completed......................... Test Accuracy: 0.9102564102564102  >>>>>>> Train Accuracy: 0.9325481798715204\n"
     ]
    },
    {
     "name": "stderr",
     "output_type": "stream",
     "text": [
      "c:\\Users\\Dell\\anaconda3\\envs\\Test\\Lib\\site-packages\\sklearn\\ensemble\\_weight_boosting.py:519: FutureWarning: The SAMME.R algorithm (the default) is deprecated and will be removed in 1.6. Use the SAMME algorithm to circumvent this warning.\n",
      "  warnings.warn(\n"
     ]
    },
    {
     "name": "stdout",
     "output_type": "stream",
     "text": [
      "116/250 round completed......................... Test Accuracy: 0.905982905982906  >>>>>>> Train Accuracy: 0.930406852248394\n"
     ]
    },
    {
     "name": "stderr",
     "output_type": "stream",
     "text": [
      "c:\\Users\\Dell\\anaconda3\\envs\\Test\\Lib\\site-packages\\sklearn\\ensemble\\_weight_boosting.py:519: FutureWarning: The SAMME.R algorithm (the default) is deprecated and will be removed in 1.6. Use the SAMME algorithm to circumvent this warning.\n",
      "  warnings.warn(\n"
     ]
    },
    {
     "name": "stdout",
     "output_type": "stream",
     "text": [
      "121/250 round completed......................... Test Accuracy: 0.9017094017094017  >>>>>>> Train Accuracy: 0.9325481798715204\n"
     ]
    },
    {
     "name": "stderr",
     "output_type": "stream",
     "text": [
      "c:\\Users\\Dell\\anaconda3\\envs\\Test\\Lib\\site-packages\\sklearn\\ensemble\\_weight_boosting.py:519: FutureWarning: The SAMME.R algorithm (the default) is deprecated and will be removed in 1.6. Use the SAMME algorithm to circumvent this warning.\n",
      "  warnings.warn(\n"
     ]
    },
    {
     "name": "stdout",
     "output_type": "stream",
     "text": [
      "126/250 round completed......................... Test Accuracy: 0.905982905982906  >>>>>>> Train Accuracy: 0.9346895074946466\n"
     ]
    },
    {
     "name": "stderr",
     "output_type": "stream",
     "text": [
      "c:\\Users\\Dell\\anaconda3\\envs\\Test\\Lib\\site-packages\\sklearn\\ensemble\\_weight_boosting.py:519: FutureWarning: The SAMME.R algorithm (the default) is deprecated and will be removed in 1.6. Use the SAMME algorithm to circumvent this warning.\n",
      "  warnings.warn(\n"
     ]
    },
    {
     "name": "stdout",
     "output_type": "stream",
     "text": [
      "131/250 round completed......................... Test Accuracy: 0.9102564102564102  >>>>>>> Train Accuracy: 0.9357601713062098\n"
     ]
    },
    {
     "name": "stderr",
     "output_type": "stream",
     "text": [
      "c:\\Users\\Dell\\anaconda3\\envs\\Test\\Lib\\site-packages\\sklearn\\ensemble\\_weight_boosting.py:519: FutureWarning: The SAMME.R algorithm (the default) is deprecated and will be removed in 1.6. Use the SAMME algorithm to circumvent this warning.\n",
      "  warnings.warn(\n"
     ]
    },
    {
     "name": "stdout",
     "output_type": "stream",
     "text": [
      "136/250 round completed......................... Test Accuracy: 0.9102564102564102  >>>>>>> Train Accuracy: 0.9389721627408993\n"
     ]
    },
    {
     "name": "stderr",
     "output_type": "stream",
     "text": [
      "c:\\Users\\Dell\\anaconda3\\envs\\Test\\Lib\\site-packages\\sklearn\\ensemble\\_weight_boosting.py:519: FutureWarning: The SAMME.R algorithm (the default) is deprecated and will be removed in 1.6. Use the SAMME algorithm to circumvent this warning.\n",
      "  warnings.warn(\n"
     ]
    },
    {
     "name": "stdout",
     "output_type": "stream",
     "text": [
      "141/250 round completed......................... Test Accuracy: 0.9102564102564102  >>>>>>> Train Accuracy: 0.9400428265524625\n"
     ]
    },
    {
     "name": "stderr",
     "output_type": "stream",
     "text": [
      "c:\\Users\\Dell\\anaconda3\\envs\\Test\\Lib\\site-packages\\sklearn\\ensemble\\_weight_boosting.py:519: FutureWarning: The SAMME.R algorithm (the default) is deprecated and will be removed in 1.6. Use the SAMME algorithm to circumvent this warning.\n",
      "  warnings.warn(\n"
     ]
    },
    {
     "name": "stdout",
     "output_type": "stream",
     "text": [
      "146/250 round completed......................... Test Accuracy: 0.9102564102564102  >>>>>>> Train Accuracy: 0.9421841541755889\n"
     ]
    },
    {
     "name": "stderr",
     "output_type": "stream",
     "text": [
      "c:\\Users\\Dell\\anaconda3\\envs\\Test\\Lib\\site-packages\\sklearn\\ensemble\\_weight_boosting.py:519: FutureWarning: The SAMME.R algorithm (the default) is deprecated and will be removed in 1.6. Use the SAMME algorithm to circumvent this warning.\n",
      "  warnings.warn(\n"
     ]
    },
    {
     "name": "stdout",
     "output_type": "stream",
     "text": [
      "151/250 round completed......................... Test Accuracy: 0.9145299145299145  >>>>>>> Train Accuracy: 0.943254817987152\n"
     ]
    },
    {
     "name": "stderr",
     "output_type": "stream",
     "text": [
      "c:\\Users\\Dell\\anaconda3\\envs\\Test\\Lib\\site-packages\\sklearn\\ensemble\\_weight_boosting.py:519: FutureWarning: The SAMME.R algorithm (the default) is deprecated and will be removed in 1.6. Use the SAMME algorithm to circumvent this warning.\n",
      "  warnings.warn(\n"
     ]
    },
    {
     "name": "stdout",
     "output_type": "stream",
     "text": [
      "156/250 round completed......................... Test Accuracy: 0.9145299145299145  >>>>>>> Train Accuracy: 0.943254817987152\n"
     ]
    },
    {
     "name": "stderr",
     "output_type": "stream",
     "text": [
      "c:\\Users\\Dell\\anaconda3\\envs\\Test\\Lib\\site-packages\\sklearn\\ensemble\\_weight_boosting.py:519: FutureWarning: The SAMME.R algorithm (the default) is deprecated and will be removed in 1.6. Use the SAMME algorithm to circumvent this warning.\n",
      "  warnings.warn(\n"
     ]
    },
    {
     "name": "stdout",
     "output_type": "stream",
     "text": [
      "161/250 round completed......................... Test Accuracy: 0.9145299145299145  >>>>>>> Train Accuracy: 0.9443254817987152\n"
     ]
    },
    {
     "name": "stderr",
     "output_type": "stream",
     "text": [
      "c:\\Users\\Dell\\anaconda3\\envs\\Test\\Lib\\site-packages\\sklearn\\ensemble\\_weight_boosting.py:519: FutureWarning: The SAMME.R algorithm (the default) is deprecated and will be removed in 1.6. Use the SAMME algorithm to circumvent this warning.\n",
      "  warnings.warn(\n"
     ]
    },
    {
     "name": "stdout",
     "output_type": "stream",
     "text": [
      "166/250 round completed......................... Test Accuracy: 0.9145299145299145  >>>>>>> Train Accuracy: 0.9421841541755889\n"
     ]
    },
    {
     "name": "stderr",
     "output_type": "stream",
     "text": [
      "c:\\Users\\Dell\\anaconda3\\envs\\Test\\Lib\\site-packages\\sklearn\\ensemble\\_weight_boosting.py:519: FutureWarning: The SAMME.R algorithm (the default) is deprecated and will be removed in 1.6. Use the SAMME algorithm to circumvent this warning.\n",
      "  warnings.warn(\n"
     ]
    },
    {
     "name": "stdout",
     "output_type": "stream",
     "text": [
      "171/250 round completed......................... Test Accuracy: 0.9145299145299145  >>>>>>> Train Accuracy: 0.943254817987152\n"
     ]
    },
    {
     "name": "stderr",
     "output_type": "stream",
     "text": [
      "c:\\Users\\Dell\\anaconda3\\envs\\Test\\Lib\\site-packages\\sklearn\\ensemble\\_weight_boosting.py:519: FutureWarning: The SAMME.R algorithm (the default) is deprecated and will be removed in 1.6. Use the SAMME algorithm to circumvent this warning.\n",
      "  warnings.warn(\n"
     ]
    },
    {
     "name": "stdout",
     "output_type": "stream",
     "text": [
      "176/250 round completed......................... Test Accuracy: 0.9145299145299145  >>>>>>> Train Accuracy: 0.9443254817987152\n"
     ]
    },
    {
     "name": "stderr",
     "output_type": "stream",
     "text": [
      "c:\\Users\\Dell\\anaconda3\\envs\\Test\\Lib\\site-packages\\sklearn\\ensemble\\_weight_boosting.py:519: FutureWarning: The SAMME.R algorithm (the default) is deprecated and will be removed in 1.6. Use the SAMME algorithm to circumvent this warning.\n",
      "  warnings.warn(\n"
     ]
    },
    {
     "name": "stdout",
     "output_type": "stream",
     "text": [
      "181/250 round completed......................... Test Accuracy: 0.9145299145299145  >>>>>>> Train Accuracy: 0.9453961456102784\n"
     ]
    },
    {
     "name": "stderr",
     "output_type": "stream",
     "text": [
      "c:\\Users\\Dell\\anaconda3\\envs\\Test\\Lib\\site-packages\\sklearn\\ensemble\\_weight_boosting.py:519: FutureWarning: The SAMME.R algorithm (the default) is deprecated and will be removed in 1.6. Use the SAMME algorithm to circumvent this warning.\n",
      "  warnings.warn(\n"
     ]
    },
    {
     "name": "stdout",
     "output_type": "stream",
     "text": [
      "186/250 round completed......................... Test Accuracy: 0.9145299145299145  >>>>>>> Train Accuracy: 0.9464668094218416\n"
     ]
    },
    {
     "name": "stderr",
     "output_type": "stream",
     "text": [
      "c:\\Users\\Dell\\anaconda3\\envs\\Test\\Lib\\site-packages\\sklearn\\ensemble\\_weight_boosting.py:519: FutureWarning: The SAMME.R algorithm (the default) is deprecated and will be removed in 1.6. Use the SAMME algorithm to circumvent this warning.\n",
      "  warnings.warn(\n"
     ]
    },
    {
     "name": "stdout",
     "output_type": "stream",
     "text": [
      "191/250 round completed......................... Test Accuracy: 0.905982905982906  >>>>>>> Train Accuracy: 0.9464668094218416\n"
     ]
    },
    {
     "name": "stderr",
     "output_type": "stream",
     "text": [
      "c:\\Users\\Dell\\anaconda3\\envs\\Test\\Lib\\site-packages\\sklearn\\ensemble\\_weight_boosting.py:519: FutureWarning: The SAMME.R algorithm (the default) is deprecated and will be removed in 1.6. Use the SAMME algorithm to circumvent this warning.\n",
      "  warnings.warn(\n"
     ]
    },
    {
     "name": "stdout",
     "output_type": "stream",
     "text": [
      "196/250 round completed......................... Test Accuracy: 0.9102564102564102  >>>>>>> Train Accuracy: 0.9443254817987152\n"
     ]
    },
    {
     "name": "stderr",
     "output_type": "stream",
     "text": [
      "c:\\Users\\Dell\\anaconda3\\envs\\Test\\Lib\\site-packages\\sklearn\\ensemble\\_weight_boosting.py:519: FutureWarning: The SAMME.R algorithm (the default) is deprecated and will be removed in 1.6. Use the SAMME algorithm to circumvent this warning.\n",
      "  warnings.warn(\n"
     ]
    },
    {
     "name": "stdout",
     "output_type": "stream",
     "text": [
      "201/250 round completed......................... Test Accuracy: 0.905982905982906  >>>>>>> Train Accuracy: 0.9453961456102784\n"
     ]
    },
    {
     "name": "stderr",
     "output_type": "stream",
     "text": [
      "c:\\Users\\Dell\\anaconda3\\envs\\Test\\Lib\\site-packages\\sklearn\\ensemble\\_weight_boosting.py:519: FutureWarning: The SAMME.R algorithm (the default) is deprecated and will be removed in 1.6. Use the SAMME algorithm to circumvent this warning.\n",
      "  warnings.warn(\n"
     ]
    },
    {
     "name": "stdout",
     "output_type": "stream",
     "text": [
      "206/250 round completed......................... Test Accuracy: 0.905982905982906  >>>>>>> Train Accuracy: 0.9453961456102784\n"
     ]
    },
    {
     "name": "stderr",
     "output_type": "stream",
     "text": [
      "c:\\Users\\Dell\\anaconda3\\envs\\Test\\Lib\\site-packages\\sklearn\\ensemble\\_weight_boosting.py:519: FutureWarning: The SAMME.R algorithm (the default) is deprecated and will be removed in 1.6. Use the SAMME algorithm to circumvent this warning.\n",
      "  warnings.warn(\n"
     ]
    },
    {
     "name": "stdout",
     "output_type": "stream",
     "text": [
      "211/250 round completed......................... Test Accuracy: 0.905982905982906  >>>>>>> Train Accuracy: 0.9453961456102784\n"
     ]
    },
    {
     "name": "stderr",
     "output_type": "stream",
     "text": [
      "c:\\Users\\Dell\\anaconda3\\envs\\Test\\Lib\\site-packages\\sklearn\\ensemble\\_weight_boosting.py:519: FutureWarning: The SAMME.R algorithm (the default) is deprecated and will be removed in 1.6. Use the SAMME algorithm to circumvent this warning.\n",
      "  warnings.warn(\n"
     ]
    },
    {
     "name": "stdout",
     "output_type": "stream",
     "text": [
      "216/250 round completed......................... Test Accuracy: 0.905982905982906  >>>>>>> Train Accuracy: 0.9464668094218416\n"
     ]
    },
    {
     "name": "stderr",
     "output_type": "stream",
     "text": [
      "c:\\Users\\Dell\\anaconda3\\envs\\Test\\Lib\\site-packages\\sklearn\\ensemble\\_weight_boosting.py:519: FutureWarning: The SAMME.R algorithm (the default) is deprecated and will be removed in 1.6. Use the SAMME algorithm to circumvent this warning.\n",
      "  warnings.warn(\n"
     ]
    },
    {
     "name": "stdout",
     "output_type": "stream",
     "text": [
      "221/250 round completed......................... Test Accuracy: 0.9102564102564102  >>>>>>> Train Accuracy: 0.9453961456102784\n"
     ]
    },
    {
     "name": "stderr",
     "output_type": "stream",
     "text": [
      "c:\\Users\\Dell\\anaconda3\\envs\\Test\\Lib\\site-packages\\sklearn\\ensemble\\_weight_boosting.py:519: FutureWarning: The SAMME.R algorithm (the default) is deprecated and will be removed in 1.6. Use the SAMME algorithm to circumvent this warning.\n",
      "  warnings.warn(\n"
     ]
    },
    {
     "name": "stdout",
     "output_type": "stream",
     "text": [
      "226/250 round completed......................... Test Accuracy: 0.9017094017094017  >>>>>>> Train Accuracy: 0.9453961456102784\n"
     ]
    },
    {
     "name": "stderr",
     "output_type": "stream",
     "text": [
      "c:\\Users\\Dell\\anaconda3\\envs\\Test\\Lib\\site-packages\\sklearn\\ensemble\\_weight_boosting.py:519: FutureWarning: The SAMME.R algorithm (the default) is deprecated and will be removed in 1.6. Use the SAMME algorithm to circumvent this warning.\n",
      "  warnings.warn(\n"
     ]
    },
    {
     "name": "stdout",
     "output_type": "stream",
     "text": [
      "231/250 round completed......................... Test Accuracy: 0.9017094017094017  >>>>>>> Train Accuracy: 0.9475374732334048\n"
     ]
    },
    {
     "name": "stderr",
     "output_type": "stream",
     "text": [
      "c:\\Users\\Dell\\anaconda3\\envs\\Test\\Lib\\site-packages\\sklearn\\ensemble\\_weight_boosting.py:519: FutureWarning: The SAMME.R algorithm (the default) is deprecated and will be removed in 1.6. Use the SAMME algorithm to circumvent this warning.\n",
      "  warnings.warn(\n"
     ]
    },
    {
     "name": "stdout",
     "output_type": "stream",
     "text": [
      "236/250 round completed......................... Test Accuracy: 0.9017094017094017  >>>>>>> Train Accuracy: 0.9464668094218416\n"
     ]
    },
    {
     "name": "stderr",
     "output_type": "stream",
     "text": [
      "c:\\Users\\Dell\\anaconda3\\envs\\Test\\Lib\\site-packages\\sklearn\\ensemble\\_weight_boosting.py:519: FutureWarning: The SAMME.R algorithm (the default) is deprecated and will be removed in 1.6. Use the SAMME algorithm to circumvent this warning.\n",
      "  warnings.warn(\n"
     ]
    },
    {
     "name": "stdout",
     "output_type": "stream",
     "text": [
      "241/250 round completed......................... Test Accuracy: 0.9017094017094017  >>>>>>> Train Accuracy: 0.9453961456102784\n"
     ]
    },
    {
     "name": "stderr",
     "output_type": "stream",
     "text": [
      "c:\\Users\\Dell\\anaconda3\\envs\\Test\\Lib\\site-packages\\sklearn\\ensemble\\_weight_boosting.py:519: FutureWarning: The SAMME.R algorithm (the default) is deprecated and will be removed in 1.6. Use the SAMME algorithm to circumvent this warning.\n",
      "  warnings.warn(\n"
     ]
    },
    {
     "name": "stdout",
     "output_type": "stream",
     "text": [
      "246/250 round completed......................... Test Accuracy: 0.9017094017094017  >>>>>>> Train Accuracy: 0.9464668094218416\n",
      "The best n_estimators:\n",
      "81\n"
     ]
    },
    {
     "data": {
      "image/png": "[encoded data removed]",
      "text/plain": [
       "<Figure size 2500x1000 with 1 Axes>"
      ]
     },
     "metadata": {},
     "output_type": "display_data"
    }
   ],
   "source": [
    "from sklearn.ensemble import AdaBoostClassifier\n",
    "from sklearn.metrics import accuracy_score\n",
    "#from tqdm.notebook import tqdm\n",
    "\n",
    "N=250\n",
    "k_range = range (1,N+1,5)\n",
    "scores={}\n",
    "scores_list = []\n",
    "scores_list_train = []\n",
    "#for k in tqdm(k_range):\n",
    "for k in (k_range):\n",
    "  classifier = AdaBoostClassifier(n_estimators=k,random_state=0)\n",
    "  classifier.fit(X_train, y_train)\n",
    "\n",
    "\n",
    "  y_pred=classifier.predict(X_test)\n",
    "  test_accu = accuracy_score(y_test,y_pred)\n",
    "  scores[k] = test_accu\n",
    "  scores_list.append(test_accu)\n",
    "\n",
    "  y_pred=classifier.predict(X_train)\n",
    "  train_accu = accuracy_score(y_train,y_pred)\n",
    "  scores_list_train.append(train_accu)\n",
    "\n",
    "  print(str(k)+\"/\"+str(N)+\" round completed......................... Test Accuracy: \"+str(test_accu),\" >>>>>>> Train Accuracy: \"+str(train_accu))\n",
    "\n",
    "\n",
    "\n",
    "%matplotlib inline\n",
    "import matplotlib.pyplot as plt\n",
    "\n",
    "plt.figure(figsize = (25,10))\n",
    "plt.plot(k_range,scores_list)\n",
    "plt.plot(k_range,scores_list_train)\n",
    "plt.xlabel('Value of n_estimators')\n",
    "plt.ylabel ('Testing Accuracy')\n",
    "plt.legend([\"Testing Accuracy\", \"Testing Accuracy\"], loc=0, frameon=True)\n",
    "\n",
    "\n",
    "print(\"The best n_estimators:\")\n",
    "best_estimator=list(scores.keys())[scores_list.index(max(scores_list))]\n",
    "print(best_estimator)"
   ]
  },
  {
   "cell_type": "code",
   "execution_count": 136,
   "metadata": {},
   "outputs": [
    {
     "name": "stderr",
     "output_type": "stream",
     "text": [
      "c:\\Users\\Dell\\anaconda3\\envs\\Test\\Lib\\site-packages\\sklearn\\ensemble\\_weight_boosting.py:519: FutureWarning: The SAMME.R algorithm (the default) is deprecated and will be removed in 1.6. Use the SAMME algorithm to circumvent this warning.\n",
      "  warnings.warn(\n"
     ]
    },
    {
     "name": "stdout",
     "output_type": "stream",
     "text": [
      "Accurecy:  0.9145299145299145\n"
     ]
    }
   ],
   "source": [
    "rf_all = AdaBoostClassifier(n_estimators=best_estimator, random_state=0)\n",
    "rf_all.fit(X_train, y_train)\n",
    "y_pred=rf_all.predict(X_test)\n",
    "print(\"Accurecy: \",accuracy_score(y_test,y_pred))"
   ]
  },
  {
   "cell_type": "code",
   "execution_count": 137,
   "metadata": {},
   "outputs": [
    {
     "name": "stderr",
     "output_type": "stream",
     "text": [
      "c:\\Users\\Dell\\anaconda3\\envs\\Test\\Lib\\site-packages\\sklearn\\ensemble\\_weight_boosting.py:519: FutureWarning: The SAMME.R algorithm (the default) is deprecated and will be removed in 1.6. Use the SAMME algorithm to circumvent this warning.\n",
      "  warnings.warn(\n"
     ]
    },
    {
     "name": "stdout",
     "output_type": "stream",
     "text": [
      "Accurecy:  0.9282655246252677\n"
     ]
    }
   ],
   "source": [
    "rf_all = AdaBoostClassifier(n_estimators=best_estimator, random_state=0)\n",
    "rf_all.fit(X_train, y_train)\n",
    "y_pred=rf_all.predict(X_train)\n",
    "print(\"Accurecy: \",accuracy_score(y_train,y_pred))"
   ]
  },
  {
   "cell_type": "markdown",
   "metadata": {},
   "source": [
    "# > **BruteForce Tuning for HistGradientBoostingClassifier**"
   ]
  },
  {
   "cell_type": "markdown",
   "metadata": {},
   "source": [
    "## Default parameter"
   ]
  },
  {
   "cell_type": "code",
   "execution_count": 138,
   "metadata": {},
   "outputs": [
    {
     "name": "stdout",
     "output_type": "stream",
     "text": [
      "              precision    recall  f1-score   support\n",
      "\n",
      "           0       0.89      0.96      0.92       108\n",
      "           1       0.97      0.90      0.93       126\n",
      "\n",
      "    accuracy                           0.93       234\n",
      "   macro avg       0.93      0.93      0.93       234\n",
      "weighted avg       0.93      0.93      0.93       234\n",
      "\n",
      "[[104   4]\n",
      " [ 13 113]]\n",
      "0.9273504273504274\n"
     ]
    }
   ],
   "source": [
    "from sklearn.ensemble import HistGradientBoostingClassifier\n",
    "\n",
    "hb_classifier = HistGradientBoostingClassifier(max_iter=100, max_depth=4, learning_rate=0.5)\n",
    "\n",
    "hb_classifier.fit(X_train, y_train)\n",
    "\n",
    "\n",
    "from sklearn.metrics import classification_report, confusion_matrix, accuracy_score\n",
    "\n",
    "y_pred = hb_classifier.predict(X_test)\n",
    "\n",
    "print(classification_report(y_test, y_pred))\n",
    "print(confusion_matrix(y_test, y_pred))\n",
    "print(accuracy_score(y_test, y_pred))"
   ]
  },
  {
   "cell_type": "markdown",
   "metadata": {},
   "source": [
    "## Tuning max_iter"
   ]
  },
  {
   "cell_type": "code",
   "execution_count": 139,
   "metadata": {},
   "outputs": [
    {
     "name": "stdout",
     "output_type": "stream",
     "text": [
      "1/250 round completed......................... Test Accuracy: 0.8376068376068376  >>>>>>> Train Accuracy: 0.8490364025695931\n",
      "6/250 round completed......................... Test Accuracy: 0.8504273504273504  >>>>>>> Train Accuracy: 0.8704496788008566\n",
      "11/250 round completed......................... Test Accuracy: 0.8846153846153846  >>>>>>> Train Accuracy: 0.9068522483940042\n",
      "16/250 round completed......................... Test Accuracy: 0.8760683760683761  >>>>>>> Train Accuracy: 0.9057815845824411\n",
      "21/250 round completed......................... Test Accuracy: 0.8931623931623932  >>>>>>> Train Accuracy: 0.9218415417558886\n",
      "26/250 round completed......................... Test Accuracy: 0.8974358974358975  >>>>>>> Train Accuracy: 0.9421841541755889\n",
      "31/250 round completed......................... Test Accuracy: 0.9017094017094017  >>>>>>> Train Accuracy: 0.9475374732334048\n",
      "36/250 round completed......................... Test Accuracy: 0.9145299145299145  >>>>>>> Train Accuracy: 0.9539614561027837\n",
      "41/250 round completed......................... Test Accuracy: 0.9188034188034188  >>>>>>> Train Accuracy: 0.9550321199143469\n",
      "46/250 round completed......................... Test Accuracy: 0.9188034188034188  >>>>>>> Train Accuracy: 0.9571734475374732\n",
      "51/250 round completed......................... Test Accuracy: 0.9316239316239316  >>>>>>> Train Accuracy: 0.9657387580299786\n",
      "56/250 round completed......................... Test Accuracy: 0.9316239316239316  >>>>>>> Train Accuracy: 0.9689507494646681\n",
      "61/250 round completed......................... Test Accuracy: 0.9316239316239316  >>>>>>> Train Accuracy: 0.9710920770877944\n",
      "66/250 round completed......................... Test Accuracy: 0.9230769230769231  >>>>>>> Train Accuracy: 0.9732334047109208\n",
      "71/250 round completed......................... Test Accuracy: 0.9188034188034188  >>>>>>> Train Accuracy: 0.9775160599571735\n",
      "76/250 round completed......................... Test Accuracy: 0.9230769230769231  >>>>>>> Train Accuracy: 0.9828693790149893\n",
      "81/250 round completed......................... Test Accuracy: 0.9273504273504274  >>>>>>> Train Accuracy: 0.9828693790149893\n",
      "86/250 round completed......................... Test Accuracy: 0.9273504273504274  >>>>>>> Train Accuracy: 0.9839400428265525\n",
      "91/250 round completed......................... Test Accuracy: 0.9230769230769231  >>>>>>> Train Accuracy: 0.9850107066381156\n",
      "96/250 round completed......................... Test Accuracy: 0.9273504273504274  >>>>>>> Train Accuracy: 0.987152034261242\n",
      "101/250 round completed......................... Test Accuracy: 0.9230769230769231  >>>>>>> Train Accuracy: 0.987152034261242\n",
      "106/250 round completed......................... Test Accuracy: 0.9230769230769231  >>>>>>> Train Accuracy: 0.9882226980728052\n",
      "111/250 round completed......................... Test Accuracy: 0.9230769230769231  >>>>>>> Train Accuracy: 0.9892933618843683\n",
      "116/250 round completed......................... Test Accuracy: 0.9230769230769231  >>>>>>> Train Accuracy: 0.9892933618843683\n",
      "121/250 round completed......................... Test Accuracy: 0.9230769230769231  >>>>>>> Train Accuracy: 0.9892933618843683\n",
      "126/250 round completed......................... Test Accuracy: 0.9230769230769231  >>>>>>> Train Accuracy: 0.9903640256959315\n",
      "131/250 round completed......................... Test Accuracy: 0.9230769230769231  >>>>>>> Train Accuracy: 0.9925053533190579\n",
      "136/250 round completed......................... Test Accuracy: 0.9230769230769231  >>>>>>> Train Accuracy: 0.9925053533190579\n",
      "141/250 round completed......................... Test Accuracy: 0.9188034188034188  >>>>>>> Train Accuracy: 0.9925053533190579\n",
      "146/250 round completed......................... Test Accuracy: 0.9188034188034188  >>>>>>> Train Accuracy: 0.9925053533190579\n",
      "151/250 round completed......................... Test Accuracy: 0.9188034188034188  >>>>>>> Train Accuracy: 0.9925053533190579\n",
      "156/250 round completed......................... Test Accuracy: 0.9188034188034188  >>>>>>> Train Accuracy: 0.9925053533190579\n",
      "161/250 round completed......................... Test Accuracy: 0.9188034188034188  >>>>>>> Train Accuracy: 0.9925053533190579\n",
      "166/250 round completed......................... Test Accuracy: 0.9188034188034188  >>>>>>> Train Accuracy: 0.9925053533190579\n",
      "171/250 round completed......................... Test Accuracy: 0.9188034188034188  >>>>>>> Train Accuracy: 0.9925053533190579\n",
      "176/250 round completed......................... Test Accuracy: 0.9188034188034188  >>>>>>> Train Accuracy: 0.9925053533190579\n",
      "181/250 round completed......................... Test Accuracy: 0.9188034188034188  >>>>>>> Train Accuracy: 0.9925053533190579\n",
      "186/250 round completed......................... Test Accuracy: 0.9188034188034188  >>>>>>> Train Accuracy: 0.9925053533190579\n",
      "191/250 round completed......................... Test Accuracy: 0.9145299145299145  >>>>>>> Train Accuracy: 0.9925053533190579\n",
      "196/250 round completed......................... Test Accuracy: 0.9145299145299145  >>>>>>> Train Accuracy: 0.9925053533190579\n",
      "201/250 round completed......................... Test Accuracy: 0.9102564102564102  >>>>>>> Train Accuracy: 0.9925053533190579\n",
      "206/250 round completed......................... Test Accuracy: 0.9145299145299145  >>>>>>> Train Accuracy: 0.9925053533190579\n",
      "211/250 round completed......................... Test Accuracy: 0.9145299145299145  >>>>>>> Train Accuracy: 0.9925053533190579\n",
      "216/250 round completed......................... Test Accuracy: 0.9102564102564102  >>>>>>> Train Accuracy: 0.9925053533190579\n",
      "221/250 round completed......................... Test Accuracy: 0.9102564102564102  >>>>>>> Train Accuracy: 0.9925053533190579\n",
      "226/250 round completed......................... Test Accuracy: 0.9145299145299145  >>>>>>> Train Accuracy: 0.9925053533190579\n",
      "231/250 round completed......................... Test Accuracy: 0.9102564102564102  >>>>>>> Train Accuracy: 0.9925053533190579\n",
      "236/250 round completed......................... Test Accuracy: 0.9102564102564102  >>>>>>> Train Accuracy: 0.9925053533190579\n",
      "241/250 round completed......................... Test Accuracy: 0.905982905982906  >>>>>>> Train Accuracy: 0.9925053533190579\n",
      "246/250 round completed......................... Test Accuracy: 0.9102564102564102  >>>>>>> Train Accuracy: 0.9925053533190579\n",
      "The best max_iter:\n",
      "51\n"
     ]
    },
    {
     "data": {
      "image/png": "[encoded data removed]",
      "text/plain": [
       "<Figure size 2500x1000 with 1 Axes>"
      ]
     },
     "metadata": {},
     "output_type": "display_data"
    }
   ],
   "source": [
    "from sklearn.ensemble import HistGradientBoostingClassifier\n",
    "from sklearn.metrics import accuracy_score\n",
    "#from tqdm.notebook import tqdm\n",
    "\n",
    "N=250\n",
    "k_range = range (1,N+1,5)\n",
    "scores={}\n",
    "scores_list = []\n",
    "scores_list_train = []\n",
    "#for k in tqdm(k_range):\n",
    "for k in (k_range):\n",
    "  classifier = HistGradientBoostingClassifier(max_iter=k,random_state=0)\n",
    "  classifier.fit(X_train, y_train)\n",
    "\n",
    "\n",
    "  y_pred=classifier.predict(X_test)\n",
    "  test_accu = accuracy_score(y_test,y_pred)\n",
    "  scores[k] = test_accu\n",
    "  scores_list.append(test_accu)\n",
    "\n",
    "  y_pred=classifier.predict(X_train)\n",
    "  train_accu = accuracy_score(y_train,y_pred)\n",
    "  scores_list_train.append(train_accu)\n",
    "\n",
    "  print(str(k)+\"/\"+str(N)+\" round completed......................... Test Accuracy: \"+str(test_accu),\" >>>>>>> Train Accuracy: \"+str(train_accu))\n",
    "\n",
    "\n",
    "\n",
    "%matplotlib inline\n",
    "import matplotlib.pyplot as plt\n",
    "\n",
    "plt.figure(figsize = (25,10))\n",
    "plt.plot(k_range,scores_list)\n",
    "plt.plot(k_range,scores_list_train)\n",
    "plt.xlabel('Value of max_iter')\n",
    "plt.ylabel ('Testing Accuracy')\n",
    "plt.legend([\"Testing Accuracy\", \"Testing Accuracy\"], loc=0, frameon=True)\n",
    "\n",
    "\n",
    "print(\"The best max_iter:\")\n",
    "best_estimator=list(scores.keys())[scores_list.index(max(scores_list))]\n",
    "print(best_estimator)"
   ]
  },
  {
   "cell_type": "markdown",
   "metadata": {},
   "source": [
    "## Tuning max_depth"
   ]
  },
  {
   "cell_type": "code",
   "execution_count": 140,
   "metadata": {},
   "outputs": [
    {
     "name": "stdout",
     "output_type": "stream",
     "text": [
      "1/50 round completed......................... Test Accuracy: 0.8717948717948718  >>>>>>> Train Accuracy: 0.8758029978586723\n",
      "6/50 round completed......................... Test Accuracy: 0.9188034188034188  >>>>>>> Train Accuracy: 0.9507494646680942\n",
      "11/50 round completed......................... Test Accuracy: 0.9188034188034188  >>>>>>> Train Accuracy: 0.9785867237687366\n",
      "16/50 round completed......................... Test Accuracy: 0.9273504273504274  >>>>>>> Train Accuracy: 0.9839400428265525\n",
      "21/50 round completed......................... Test Accuracy: 0.9145299145299145  >>>>>>> Train Accuracy: 0.987152034261242\n",
      "26/50 round completed......................... Test Accuracy: 0.9230769230769231  >>>>>>> Train Accuracy: 0.987152034261242\n",
      "31/50 round completed......................... Test Accuracy: 0.9230769230769231  >>>>>>> Train Accuracy: 0.987152034261242\n",
      "36/50 round completed......................... Test Accuracy: 0.9230769230769231  >>>>>>> Train Accuracy: 0.987152034261242\n",
      "41/50 round completed......................... Test Accuracy: 0.9230769230769231  >>>>>>> Train Accuracy: 0.987152034261242\n",
      "46/50 round completed......................... Test Accuracy: 0.9230769230769231  >>>>>>> Train Accuracy: 0.987152034261242\n",
      "The best Depth:\n",
      "16\n"
     ]
    },
    {
     "data": {
      "image/png": "[encoded data removed]",
      "text/plain": [
       "<Figure size 2500x1000 with 1 Axes>"
      ]
     },
     "metadata": {},
     "output_type": "display_data"
    }
   ],
   "source": [
    "from sklearn.ensemble import HistGradientBoostingClassifier\n",
    "from sklearn.metrics import accuracy_score\n",
    "N=50\n",
    "k_range = range (1,N+1,5)\n",
    "scores={}\n",
    "scores_list = []\n",
    "scores_list_train = []\n",
    "for k in k_range:\n",
    "  classifier = HistGradientBoostingClassifier(max_depth=k,random_state=0)\n",
    "  classifier.fit(X_train, y_train)\n",
    "\n",
    "  y_pred=classifier.predict(X_test)\n",
    "  test_accu = accuracy_score(y_test,y_pred)\n",
    "  scores[k] = test_accu\n",
    "  scores_list.append(test_accu)\n",
    "\n",
    "  y_pred=classifier.predict(X_train)\n",
    "  train_accu = accuracy_score(y_train,y_pred)\n",
    "  scores_list_train.append(train_accu)\n",
    "\n",
    "\n",
    "  print(str(k)+\"/\"+str(N)+\" round completed......................... Test Accuracy: \"+str(test_accu),\" >>>>>>> Train Accuracy: \"+str(train_accu))\n",
    "\n",
    "\n",
    "\n",
    "%matplotlib inline\n",
    "import matplotlib.pyplot as plt\n",
    "\n",
    "plt.figure(figsize = (25,10))\n",
    "plt.plot(k_range,scores_list)\n",
    "plt.plot(k_range,scores_list_train)\n",
    "plt.xlabel('Value of max_depth')\n",
    "plt.ylabel ('Testing Accuracy')\n",
    "plt.legend([\"Testing Accuracy\", \"Testing Accuracy\"], loc=0, frameon=True)\n",
    "\n",
    "\n",
    "print(\"The best Depth:\")\n",
    "best_depth=list(scores.keys())[scores_list.index(max(scores_list))]\n",
    "print(best_depth)"
   ]
  },
  {
   "cell_type": "code",
   "execution_count": 141,
   "metadata": {},
   "outputs": [
    {
     "name": "stdout",
     "output_type": "stream",
     "text": [
      "Accurecy:  0.9316239316239316\n"
     ]
    }
   ],
   "source": [
    "rf_all = HistGradientBoostingClassifier(max_iter=best_estimator,max_depth=best_depth,random_state=0)\n",
    "rf_all.fit(X_train, y_train)\n",
    "y_pred=rf_all.predict(X_test)\n",
    "print(\"Accurecy: \",accuracy_score(y_test,y_pred))"
   ]
  },
  {
   "cell_type": "code",
   "execution_count": 142,
   "metadata": {},
   "outputs": [
    {
     "name": "stdout",
     "output_type": "stream",
     "text": [
      "Accurecy:  0.9646680942184154\n"
     ]
    }
   ],
   "source": [
    "rf_all = HistGradientBoostingClassifier(max_iter=best_estimator,max_depth=best_depth,random_state=0)\n",
    "rf_all.fit(X_train, y_train)\n",
    "y_pred=rf_all.predict(X_train)\n",
    "print(\"Accurecy: \",accuracy_score(y_train,y_pred))"
   ]
  },
  {
   "cell_type": "markdown",
   "metadata": {},
   "source": [
    "# > **BruteForce Tuning for XGBoost**"
   ]
  },
  {
   "cell_type": "markdown",
   "metadata": {},
   "source": [
    "## Default parameter"
   ]
  },
  {
   "cell_type": "code",
   "execution_count": 143,
   "metadata": {},
   "outputs": [
    {
     "name": "stdout",
     "output_type": "stream",
     "text": [
      "Confusion Matrix:\n",
      "[[104   4]\n",
      " [ 12 114]]\n",
      "\n",
      "Classification Report:\n",
      "              precision    recall  f1-score   support\n",
      "\n",
      "           0       0.90      0.96      0.93       108\n",
      "           1       0.97      0.90      0.93       126\n",
      "\n",
      "    accuracy                           0.93       234\n",
      "   macro avg       0.93      0.93      0.93       234\n",
      "weighted avg       0.93      0.93      0.93       234\n",
      "\n",
      "\n",
      "Accuracy: 0.9316239316239316\n"
     ]
    }
   ],
   "source": [
    "import xgboost as xgb\n",
    "rf_default = xgb.XGBClassifier() # Create an instance of XGBoost classifier\n",
    "rf_default.fit(X_train, y_train) # Train the classifier\n",
    "y_pred_test = rf_default.predict(X_test) # Predict on the test data\n",
    "\n",
    "from sklearn.metrics import classification_report, confusion_matrix, accuracy_score\n",
    "\n",
    "# Print confusion matrix, classification report, and accuracy\n",
    "print(\"Confusion Matrix:\")\n",
    "print(confusion_matrix(y_test, y_pred_test))\n",
    "print(\"\\nClassification Report:\")\n",
    "print(classification_report(y_test, y_pred_test))\n",
    "print(\"\\nAccuracy:\", accuracy_score(y_test, y_pred_test))"
   ]
  },
  {
   "cell_type": "markdown",
   "metadata": {},
   "source": [
    "## Tuning n_estimators"
   ]
  },
  {
   "cell_type": "code",
   "execution_count": 144,
   "metadata": {},
   "outputs": [
    {
     "name": "stdout",
     "output_type": "stream",
     "text": [
      "1/250 round completed......................... Test Accuracy: 0.8675213675213675  >>>>>>> Train Accuracy: 0.8736616702355461\n",
      "6/250 round completed......................... Test Accuracy: 0.8888888888888888  >>>>>>> Train Accuracy: 0.9164882226980728\n",
      "11/250 round completed......................... Test Accuracy: 0.9102564102564102  >>>>>>> Train Accuracy: 0.9325481798715204\n",
      "16/250 round completed......................... Test Accuracy: 0.9230769230769231  >>>>>>> Train Accuracy: 0.9411134903640257\n",
      "21/250 round completed......................... Test Accuracy: 0.9145299145299145  >>>>>>> Train Accuracy: 0.943254817987152\n",
      "26/250 round completed......................... Test Accuracy: 0.9188034188034188  >>>>>>> Train Accuracy: 0.9475374732334048\n",
      "31/250 round completed......................... Test Accuracy: 0.9145299145299145  >>>>>>> Train Accuracy: 0.9571734475374732\n",
      "36/250 round completed......................... Test Accuracy: 0.9188034188034188  >>>>>>> Train Accuracy: 0.9700214132762313\n",
      "41/250 round completed......................... Test Accuracy: 0.9188034188034188  >>>>>>> Train Accuracy: 0.9700214132762313\n",
      "46/250 round completed......................... Test Accuracy: 0.9358974358974359  >>>>>>> Train Accuracy: 0.9775160599571735\n",
      "51/250 round completed......................... Test Accuracy: 0.9316239316239316  >>>>>>> Train Accuracy: 0.9785867237687366\n",
      "56/250 round completed......................... Test Accuracy: 0.9316239316239316  >>>>>>> Train Accuracy: 0.9785867237687366\n",
      "61/250 round completed......................... Test Accuracy: 0.9401709401709402  >>>>>>> Train Accuracy: 0.9807280513918629\n",
      "66/250 round completed......................... Test Accuracy: 0.9316239316239316  >>>>>>> Train Accuracy: 0.9828693790149893\n",
      "71/250 round completed......................... Test Accuracy: 0.9316239316239316  >>>>>>> Train Accuracy: 0.9850107066381156\n",
      "76/250 round completed......................... Test Accuracy: 0.9316239316239316  >>>>>>> Train Accuracy: 0.9839400428265525\n",
      "81/250 round completed......................... Test Accuracy: 0.9273504273504274  >>>>>>> Train Accuracy: 0.987152034261242\n",
      "86/250 round completed......................... Test Accuracy: 0.9316239316239316  >>>>>>> Train Accuracy: 0.987152034261242\n",
      "91/250 round completed......................... Test Accuracy: 0.9273504273504274  >>>>>>> Train Accuracy: 0.9882226980728052\n",
      "96/250 round completed......................... Test Accuracy: 0.9273504273504274  >>>>>>> Train Accuracy: 0.9882226980728052\n",
      "101/250 round completed......................... Test Accuracy: 0.9273504273504274  >>>>>>> Train Accuracy: 0.9882226980728052\n",
      "106/250 round completed......................... Test Accuracy: 0.9273504273504274  >>>>>>> Train Accuracy: 0.9882226980728052\n",
      "111/250 round completed......................... Test Accuracy: 0.9230769230769231  >>>>>>> Train Accuracy: 0.9892933618843683\n",
      "116/250 round completed......................... Test Accuracy: 0.9230769230769231  >>>>>>> Train Accuracy: 0.9892933618843683\n",
      "121/250 round completed......................... Test Accuracy: 0.9273504273504274  >>>>>>> Train Accuracy: 0.9892933618843683\n",
      "126/250 round completed......................... Test Accuracy: 0.9273504273504274  >>>>>>> Train Accuracy: 0.9903640256959315\n",
      "131/250 round completed......................... Test Accuracy: 0.9188034188034188  >>>>>>> Train Accuracy: 0.9903640256959315\n",
      "136/250 round completed......................... Test Accuracy: 0.9188034188034188  >>>>>>> Train Accuracy: 0.9903640256959315\n",
      "141/250 round completed......................... Test Accuracy: 0.9188034188034188  >>>>>>> Train Accuracy: 0.9892933618843683\n",
      "146/250 round completed......................... Test Accuracy: 0.9188034188034188  >>>>>>> Train Accuracy: 0.9903640256959315\n",
      "151/250 round completed......................... Test Accuracy: 0.9188034188034188  >>>>>>> Train Accuracy: 0.9925053533190579\n",
      "156/250 round completed......................... Test Accuracy: 0.9188034188034188  >>>>>>> Train Accuracy: 0.9925053533190579\n",
      "161/250 round completed......................... Test Accuracy: 0.9188034188034188  >>>>>>> Train Accuracy: 0.9925053533190579\n",
      "166/250 round completed......................... Test Accuracy: 0.9188034188034188  >>>>>>> Train Accuracy: 0.9925053533190579\n",
      "171/250 round completed......................... Test Accuracy: 0.9188034188034188  >>>>>>> Train Accuracy: 0.9925053533190579\n",
      "176/250 round completed......................... Test Accuracy: 0.9188034188034188  >>>>>>> Train Accuracy: 0.9925053533190579\n",
      "181/250 round completed......................... Test Accuracy: 0.9230769230769231  >>>>>>> Train Accuracy: 0.9925053533190579\n",
      "186/250 round completed......................... Test Accuracy: 0.9188034188034188  >>>>>>> Train Accuracy: 0.9925053533190579\n",
      "191/250 round completed......................... Test Accuracy: 0.9230769230769231  >>>>>>> Train Accuracy: 0.9925053533190579\n",
      "196/250 round completed......................... Test Accuracy: 0.9230769230769231  >>>>>>> Train Accuracy: 0.9925053533190579\n",
      "201/250 round completed......................... Test Accuracy: 0.9230769230769231  >>>>>>> Train Accuracy: 0.9925053533190579\n",
      "206/250 round completed......................... Test Accuracy: 0.9230769230769231  >>>>>>> Train Accuracy: 0.9925053533190579\n",
      "211/250 round completed......................... Test Accuracy: 0.9230769230769231  >>>>>>> Train Accuracy: 0.9925053533190579\n",
      "216/250 round completed......................... Test Accuracy: 0.9230769230769231  >>>>>>> Train Accuracy: 0.9925053533190579\n",
      "221/250 round completed......................... Test Accuracy: 0.9230769230769231  >>>>>>> Train Accuracy: 0.9925053533190579\n",
      "226/250 round completed......................... Test Accuracy: 0.9188034188034188  >>>>>>> Train Accuracy: 0.9925053533190579\n",
      "231/250 round completed......................... Test Accuracy: 0.9230769230769231  >>>>>>> Train Accuracy: 0.9925053533190579\n",
      "236/250 round completed......................... Test Accuracy: 0.9230769230769231  >>>>>>> Train Accuracy: 0.9925053533190579\n",
      "241/250 round completed......................... Test Accuracy: 0.9230769230769231  >>>>>>> Train Accuracy: 0.9925053533190579\n",
      "246/250 round completed......................... Test Accuracy: 0.9230769230769231  >>>>>>> Train Accuracy: 0.9925053533190579\n",
      "The best n_estimators:\n",
      "61\n"
     ]
    },
    {
     "data": {
      "image/png": "[encoded data removed]",
      "text/plain": [
       "<Figure size 2500x1000 with 1 Axes>"
      ]
     },
     "metadata": {},
     "output_type": "display_data"
    }
   ],
   "source": [
    "import xgboost as xgb\n",
    "from sklearn.metrics import accuracy_score\n",
    "N=250\n",
    "k_range = range (1,N+1,5)\n",
    "scores={}\n",
    "scores_list = []\n",
    "scores_list_train = []\n",
    "for k in k_range:\n",
    "  classifier = xgb.XGBClassifier(n_estimators=k,random_state=0)\n",
    "  classifier.fit(X_train, y_train)\n",
    "\n",
    "\n",
    "  y_pred=classifier.predict(X_test)\n",
    "  test_accu = accuracy_score(y_test,y_pred)\n",
    "  scores[k] = test_accu\n",
    "  scores_list.append(test_accu)\n",
    "\n",
    "  y_pred=classifier.predict(X_train)\n",
    "  train_accu = accuracy_score(y_train,y_pred)\n",
    "  scores_list_train.append(train_accu)\n",
    "\n",
    "  print(str(k)+\"/\"+str(N)+\" round completed......................... Test Accuracy: \"+str(test_accu),\" >>>>>>> Train Accuracy: \"+str(train_accu))\n",
    "\n",
    "\n",
    "\n",
    "%matplotlib inline\n",
    "import matplotlib.pyplot as plt\n",
    "\n",
    "plt.figure(figsize = (25,10))\n",
    "plt.plot(k_range,scores_list)\n",
    "plt.plot(k_range,scores_list_train)\n",
    "plt.xlabel('Value of n_estimators')\n",
    "plt.ylabel ('Testing Accuracy')\n",
    "plt.legend([\"Testing Accuracy\", \"Testing Accuracy\"], loc=0, frameon=True)\n",
    "\n",
    "\n",
    "print(\"The best n_estimators:\")\n",
    "best_estimator=list(scores.keys())[scores_list.index(max(scores_list))]\n",
    "print(best_estimator)"
   ]
  },
  {
   "cell_type": "code",
   "execution_count": null,
   "metadata": {},
   "outputs": [],
   "source": []
  },
  {
   "cell_type": "code",
   "execution_count": 145,
   "metadata": {},
   "outputs": [
    {
     "name": "stdout",
     "output_type": "stream",
     "text": [
      "1/50 round completed......................... Test Accuracy: 0.8974358974358975  >>>>>>> Train Accuracy: 0.8897216274089935\n",
      "6/50 round completed......................... Test Accuracy: 0.9316239316239316  >>>>>>> Train Accuracy: 0.9882226980728052\n",
      "11/50 round completed......................... Test Accuracy: 0.9145299145299145  >>>>>>> Train Accuracy: 0.9925053533190579\n",
      "16/50 round completed......................... Test Accuracy: 0.9188034188034188  >>>>>>> Train Accuracy: 0.9925053533190579\n",
      "21/50 round completed......................... Test Accuracy: 0.9188034188034188  >>>>>>> Train Accuracy: 0.9925053533190579\n",
      "26/50 round completed......................... Test Accuracy: 0.9188034188034188  >>>>>>> Train Accuracy: 0.9925053533190579\n",
      "31/50 round completed......................... Test Accuracy: 0.9188034188034188  >>>>>>> Train Accuracy: 0.9925053533190579\n",
      "36/50 round completed......................... Test Accuracy: 0.9188034188034188  >>>>>>> Train Accuracy: 0.9925053533190579\n",
      "41/50 round completed......................... Test Accuracy: 0.9188034188034188  >>>>>>> Train Accuracy: 0.9925053533190579\n",
      "46/50 round completed......................... Test Accuracy: 0.9188034188034188  >>>>>>> Train Accuracy: 0.9925053533190579\n",
      "The best Depth:\n",
      "6\n"
     ]
    },
    {
     "data": {
      "image/png": "[encoded data removed]",
      "text/plain": [
       "<Figure size 2500x1000 with 1 Axes>"
      ]
     },
     "metadata": {},
     "output_type": "display_data"
    }
   ],
   "source": [
    "import xgboost as xgb\n",
    "from sklearn.metrics import accuracy_score\n",
    "N=50\n",
    "k_range = range (1,N+1,5)\n",
    "scores={}\n",
    "scores_list = []\n",
    "scores_list_train = []\n",
    "for k in k_range:\n",
    "  classifier = xgb.XGBClassifier(max_depth=k,random_state=0)\n",
    "  classifier.fit(X_train, y_train)\n",
    "\n",
    "  y_pred=classifier.predict(X_test)\n",
    "  test_accu = accuracy_score(y_test,y_pred)\n",
    "  scores[k] = test_accu\n",
    "  scores_list.append(test_accu)\n",
    "\n",
    "  y_pred=classifier.predict(X_train)\n",
    "  train_accu = accuracy_score(y_train,y_pred)\n",
    "  scores_list_train.append(train_accu)\n",
    "\n",
    "\n",
    "  print(str(k)+\"/\"+str(N)+\" round completed......................... Test Accuracy: \"+str(test_accu),\" >>>>>>> Train Accuracy: \"+str(train_accu))\n",
    "\n",
    "\n",
    "\n",
    "%matplotlib inline\n",
    "import matplotlib.pyplot as plt\n",
    "\n",
    "plt.figure(figsize = (25,10))\n",
    "plt.plot(k_range,scores_list)\n",
    "plt.plot(k_range,scores_list_train)\n",
    "plt.xlabel('Value of n_estimators')\n",
    "plt.ylabel ('Testing Accuracy')\n",
    "plt.legend([\"Testing Accuracy\", \"Testing Accuracy\"], loc=0, frameon=True)\n",
    "\n",
    "\n",
    "print(\"The best Depth:\")\n",
    "best_depth=list(scores.keys())[scores_list.index(max(scores_list))]\n",
    "print(best_depth)"
   ]
  },
  {
   "cell_type": "code",
   "execution_count": 146,
   "metadata": {},
   "outputs": [
    {
     "name": "stdout",
     "output_type": "stream",
     "text": [
      "Accurecy:  0.9401709401709402\n"
     ]
    }
   ],
   "source": [
    "rf_all = xgb.XGBClassifier(n_estimators=best_estimator,max_depth=best_depth,random_state=0)\n",
    "rf_all.fit(X_train, y_train)\n",
    "y_pred=rf_all.predict(X_test)\n",
    "print(\"Accurecy: \",accuracy_score(y_test,y_pred))"
   ]
  },
  {
   "cell_type": "code",
   "execution_count": 147,
   "metadata": {},
   "outputs": [
    {
     "name": "stdout",
     "output_type": "stream",
     "text": [
      "Accurecy:  0.9807280513918629\n"
     ]
    }
   ],
   "source": [
    "rf_all = xgb.XGBClassifier(n_estimators=best_estimator,max_depth=best_depth,random_state=0)\n",
    "rf_all.fit(X_train, y_train)\n",
    "y_pred=rf_all.predict(X_train)\n",
    "print(\"Accurecy: \",accuracy_score(y_train,y_pred))"
   ]
  },
  {
   "cell_type": "code",
   "execution_count": null,
   "metadata": {},
   "outputs": [],
   "source": []
  },
  {
   "cell_type": "code",
   "execution_count": null,
   "metadata": {},
   "outputs": [],
   "source": []
  },
  {
   "cell_type": "code",
   "execution_count": null,
   "metadata": {},
   "outputs": [],
   "source": [
    "from catboost import CatBoostClassifier\n",
    "rf_default = CatBoostClassifier()\n",
    "rf_default.fit(X_train, y_train)\n",
    "y_pred_test=rf_default.predict(X_test)\n",
    "\n",
    "\n",
    "from sklearn.metrics import classification_report, confusion_matrix, accuracy_score\n",
    "print(confusion_matrix(y_test, y_pred_test))\n",
    "print(classification_report(y_test,y_pred_test))\n",
    "print(\"Accurecy: \",accuracy_score(y_test,y_pred_test))"
   ]
  },
  {
   "cell_type": "code",
   "execution_count": null,
   "metadata": {},
   "outputs": [],
   "source": []
  },
  {
   "cell_type": "code",
   "execution_count": null,
   "metadata": {},
   "outputs": [],
   "source": [
    "from catboost import CatBoostClassifier\n",
    "from sklearn.metrics import accuracy_score\n",
    "N=250\n",
    "k_range = range (1,N+1,5)\n",
    "scores={}\n",
    "scores_list = []\n",
    "scores_list_train = []\n",
    "for k in k_range:\n",
    "  classifier = CatBoostClassifier(n_estimators=k,random_state=0)\n",
    "  classifier.fit(X_train, y_train)\n",
    "\n",
    "\n",
    "  y_pred=classifier.predict(X_test)\n",
    "  test_accu = accuracy_score(y_test,y_pred)\n",
    "  scores[k] = test_accu\n",
    "  scores_list.append(test_accu)\n",
    "\n",
    "  y_pred=classifier.predict(X_train)\n",
    "  train_accu = accuracy_score(y_train,y_pred)\n",
    "  scores_list_train.append(train_accu)\n",
    "\n",
    "  print(str(k)+\"/\"+str(N)+\" round completed......................... Test Accuracy: \"+str(test_accu),\" >>>>>>> Train Accuracy: \"+str(train_accu))\n",
    "\n",
    "\n",
    "\n",
    "%matplotlib inline\n",
    "import matplotlib.pyplot as plt\n",
    "\n",
    "plt.figure(figsize = (25,10))\n",
    "plt.plot(k_range,scores_list)\n",
    "plt.plot(k_range,scores_list_train)\n",
    "plt.xlabel('Value of n_estimators')\n",
    "plt.ylabel ('Testing Accuracy')\n",
    "plt.legend([\"Testing Accuracy\", \"Testing Accuracy\"], loc=0, frameon=True)\n",
    "\n",
    "\n",
    "print(\"The best n_estimators:\")\n",
    "best_estimator=list(scores.keys())[scores_list.index(max(scores_list))]\n",
    "print(best_estimator)"
   ]
  },
  {
   "cell_type": "code",
   "execution_count": null,
   "metadata": {},
   "outputs": [],
   "source": []
  },
  {
   "cell_type": "code",
   "execution_count": null,
   "metadata": {},
   "outputs": [],
   "source": [
    "from catboost import CatBoostClassifier\n",
    "from sklearn.metrics import accuracy_score\n",
    "N=10\n",
    "k_range = range (1,N+1,5)\n",
    "scores={}\n",
    "scores_list = []\n",
    "scores_list_train = []\n",
    "for k in k_range:\n",
    "  classifier = CatBoostClassifier(max_depth=k,random_state=0)\n",
    "  classifier.fit(X_train, y_train)\n",
    "\n",
    "  y_pred=classifier.predict(X_test)\n",
    "  test_accu = accuracy_score(y_test,y_pred)\n",
    "  scores[k] = test_accu\n",
    "  scores_list.append(test_accu)\n",
    "\n",
    "  y_pred=classifier.predict(X_train)\n",
    "  train_accu = accuracy_score(y_train,y_pred)\n",
    "  scores_list_train.append(train_accu)\n",
    "\n",
    "\n",
    "  print(str(k)+\"/\"+str(N)+\" round completed......................... Test Accuracy: \"+str(test_accu),\" >>>>>>> Train Accuracy: \"+str(train_accu))\n",
    "\n"
   ]
  },
  {
   "cell_type": "code",
   "execution_count": null,
   "metadata": {},
   "outputs": [],
   "source": [
    "%matplotlib inline\n",
    "import matplotlib.pyplot as plt\n",
    "\n",
    "plt.figure(figsize = (25,10))\n",
    "plt.plot(k_range,scores_list)\n",
    "plt.plot(k_range,scores_list_train)\n",
    "plt.xlabel('Value of n_estimators')\n",
    "plt.ylabel ('Testing Accuracy')\n",
    "plt.legend([\"Testing Accuracy\", \"Testing Accuracy\"], loc=0, frameon=True)\n",
    "\n",
    "\n",
    "print(\"The best Depth:\")\n",
    "best_depth=list(scores.keys())[scores_list.index(max(scores_list))]\n",
    "print(best_depth)"
   ]
  },
  {
   "cell_type": "code",
   "execution_count": null,
   "metadata": {},
   "outputs": [],
   "source": [
    "rf_all = CatBoostClassifier(n_estimators=best_estimator,max_depth=best_depth,random_state=0)\n",
    "rf_all.fit(X_train, y_train)\n",
    "y_pred=rf_all.predict(X_test)\n",
    "print(\"Accurecy: \",accuracy_score(y_test,y_pred))"
   ]
  },
  {
   "cell_type": "code",
   "execution_count": null,
   "metadata": {},
   "outputs": [],
   "source": [
    "rf_all = CatBoostClassifier(n_estimators=best_estimator,max_depth=best_depth,random_state=0)\n",
    "rf_all.fit(X_train, y_train)\n",
    "y_pred=rf_all.predict(X_train)\n",
    "print(\"Accurecy: \",accuracy_score(y_train,y_pred))"
   ]
  },
  {
   "cell_type": "code",
   "execution_count": null,
   "metadata": {},
   "outputs": [],
   "source": []
  }
 ],
 "metadata": {
  "kaggle": {
   "accelerator": "none",
   "dataSources": [
    {
     "datasetId": 3520887,
     "sourceId": 6140055,
     "sourceType": "datasetVersion"
    }
   ],
   "dockerImageVersionId": 30646,
   "isGpuEnabled": false,
   "isInternetEnabled": false,
   "language": "python",
   "sourceType": "notebook"
  },
  "kernelspec": {
   "display_name": "Python 3 (ipykernel)",
   "language": "python",
   "name": "python3"
  },
  "language_info": {
   "codemirror_mode": {
    "name": "ipython",
    "version": 3
   },
   "file_extension": ".py",
   "mimetype": "text/x-python",
   "name": "python",
   "nbconvert_exporter": "python",
   "pygments_lexer": "ipython3",
   "version": "3.11.8"
  }
 },
 "nbformat": 4,
 "nbformat_minor": 4
}
