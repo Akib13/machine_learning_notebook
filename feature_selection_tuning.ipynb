{
 "cells": [
  {
   "cell_type": "code",
   "execution_count": 1,
   "metadata": {},
   "outputs": [],
   "source": [
    "from sklearn.datasets import make_classification\n",
    "from sklearn.feature_selection import SelectKBest\n",
    "from sklearn.feature_selection import f_classif\n",
    "import pandas as pd\n",
    "\n",
    "\n",
    "def anova(X,y,num_of_feat):\n",
    "  fs = SelectKBest(score_func=f_classif, k=5)\n",
    "  fit = fs.fit(X,y)\n",
    "  dfscores = pd.DataFrame(fit.scores_)\n",
    "  dfcolumns = pd.DataFrame(X.columns)\n",
    "\n",
    "  featureScores = pd.concat([dfcolumns,dfscores],axis=1)\n",
    "\n",
    "  featureScores.columns = ['Best_columns','Score_ANOVA']\n",
    "\n",
    "  lyst = featureScores.nlargest(num_of_feat,'Score_ANOVA')\n",
    "  ANOVA_feature=list(lyst['Best_columns'])\n",
    "  return ANOVA_feature"
   ]
  },
  {
   "cell_type": "code",
   "execution_count": 2,
   "metadata": {},
   "outputs": [],
   "source": [
    "import numpy as np\n",
    "import pandas as pd\n",
    "\n",
    "df = pd.read_csv(\"Bachelor Thesis\\data_train.csv\")\n",
    "target = \"CLASS\"\n",
    "\n",
    "X = df.loc[ : , df.columns != target] # features\n",
    "X = X.loc[: , X.columns!=\"NAME\"]\n",
    "y = df[target]"
   ]
  },
  {
   "cell_type": "code",
   "execution_count": 3,
   "metadata": {},
   "outputs": [
    {
     "name": "stdout",
     "output_type": "stream",
     "text": [
      "Number of column:  50\n"
     ]
    },
    {
     "name": "stderr",
     "output_type": "stream",
     "text": [
      "c:\\Users\\Dell\\anaconda3\\envs\\Test\\Lib\\site-packages\\sklearn\\feature_selection\\_univariate_selection.py:112: UserWarning: Features [  2   4   7   8   9  10  11  14  15  17  19  20  21  22  25  26  27  28\n",
      "  29  30  31  33  37  38  39  40  41  43  44  45  46  47  48  49  50  51\n",
      "  52  53  54  55  56  57  58  59  60  61  62  63  64  65  66  67  68  69\n",
      "  70  71  72  75  76  77  78  79  80  82  86  88  89  90  92  93  95  96\n",
      "  97 100 106 108 109 110 112 113 115 116 117 118 119 123 125 126 127 129\n",
      " 130 132 133 135 137 138 139 140 141 142 143 144 146 147 150 151 152 154\n",
      " 156 157 159 164 166 167 169 170 172 173 174 175 176 178 179 180 181 182\n",
      " 183 184 185 186 187 189 190 192 193 194 195 199 200 201 203 204 205 206\n",
      " 207 209 210 211 212 213 215 216 217 218 219 220 222 225 226 227 230 235\n",
      " 238 240 241 242 243 244 245 246 247 248 249 250 251 252 256 257 259 260\n",
      " 261 262 263 265 266 267 268 269 272 273 275 277 278 279 284 285 286 287\n",
      " 288 290 292 295 297 298 299 301 302 303 305 307 308 309 314 315 316] are constant.\n",
      "  warnings.warn(\"Features %s are constant.\" % constant_features_idx, UserWarning)\n",
      "c:\\Users\\Dell\\anaconda3\\envs\\Test\\Lib\\site-packages\\sklearn\\feature_selection\\_univariate_selection.py:113: RuntimeWarning: invalid value encountered in divide\n",
      "  f = msb / msw\n"
     ]
    },
    {
     "name": "stdout",
     "output_type": "stream",
     "text": [
      "Testing Accurecy:  0.9017094017094017\n",
      "Train Accurecy:  0.9293361884368309\n",
      "__________________________________________________________________\n",
      "Number of column:  100\n"
     ]
    },
    {
     "name": "stderr",
     "output_type": "stream",
     "text": [
      "c:\\Users\\Dell\\anaconda3\\envs\\Test\\Lib\\site-packages\\sklearn\\feature_selection\\_univariate_selection.py:112: UserWarning: Features [  2   4   7   8   9  10  11  14  15  17  19  20  21  22  25  26  27  28\n",
      "  29  30  31  33  37  38  39  40  41  43  44  45  46  47  48  49  50  51\n",
      "  52  53  54  55  56  57  58  59  60  61  62  63  64  65  66  67  68  69\n",
      "  70  71  72  75  76  77  78  79  80  82  86  88  89  90  92  93  95  96\n",
      "  97 100 106 108 109 110 112 113 115 116 117 118 119 123 125 126 127 129\n",
      " 130 132 133 135 137 138 139 140 141 142 143 144 146 147 150 151 152 154\n",
      " 156 157 159 164 166 167 169 170 172 173 174 175 176 178 179 180 181 182\n",
      " 183 184 185 186 187 189 190 192 193 194 195 199 200 201 203 204 205 206\n",
      " 207 209 210 211 212 213 215 216 217 218 219 220 222 225 226 227 230 235\n",
      " 238 240 241 242 243 244 245 246 247 248 249 250 251 252 256 257 259 260\n",
      " 261 262 263 265 266 267 268 269 272 273 275 277 278 279 284 285 286 287\n",
      " 288 290 292 295 297 298 299 301 302 303 305 307 308 309 314 315 316] are constant.\n",
      "  warnings.warn(\"Features %s are constant.\" % constant_features_idx, UserWarning)\n",
      "c:\\Users\\Dell\\anaconda3\\envs\\Test\\Lib\\site-packages\\sklearn\\feature_selection\\_univariate_selection.py:113: RuntimeWarning: invalid value encountered in divide\n",
      "  f = msb / msw\n"
     ]
    },
    {
     "name": "stdout",
     "output_type": "stream",
     "text": [
      "Testing Accurecy:  0.9145299145299145\n",
      "Train Accurecy:  0.9421841541755889\n",
      "__________________________________________________________________\n",
      "Number of column:  150\n"
     ]
    },
    {
     "name": "stderr",
     "output_type": "stream",
     "text": [
      "c:\\Users\\Dell\\anaconda3\\envs\\Test\\Lib\\site-packages\\sklearn\\feature_selection\\_univariate_selection.py:112: UserWarning: Features [  2   4   7   8   9  10  11  14  15  17  19  20  21  22  25  26  27  28\n",
      "  29  30  31  33  37  38  39  40  41  43  44  45  46  47  48  49  50  51\n",
      "  52  53  54  55  56  57  58  59  60  61  62  63  64  65  66  67  68  69\n",
      "  70  71  72  75  76  77  78  79  80  82  86  88  89  90  92  93  95  96\n",
      "  97 100 106 108 109 110 112 113 115 116 117 118 119 123 125 126 127 129\n",
      " 130 132 133 135 137 138 139 140 141 142 143 144 146 147 150 151 152 154\n",
      " 156 157 159 164 166 167 169 170 172 173 174 175 176 178 179 180 181 182\n",
      " 183 184 185 186 187 189 190 192 193 194 195 199 200 201 203 204 205 206\n",
      " 207 209 210 211 212 213 215 216 217 218 219 220 222 225 226 227 230 235\n",
      " 238 240 241 242 243 244 245 246 247 248 249 250 251 252 256 257 259 260\n",
      " 261 262 263 265 266 267 268 269 272 273 275 277 278 279 284 285 286 287\n",
      " 288 290 292 295 297 298 299 301 302 303 305 307 308 309 314 315 316] are constant.\n",
      "  warnings.warn(\"Features %s are constant.\" % constant_features_idx, UserWarning)\n",
      "c:\\Users\\Dell\\anaconda3\\envs\\Test\\Lib\\site-packages\\sklearn\\feature_selection\\_univariate_selection.py:113: RuntimeWarning: invalid value encountered in divide\n",
      "  f = msb / msw\n"
     ]
    },
    {
     "name": "stdout",
     "output_type": "stream",
     "text": [
      "Testing Accurecy:  0.905982905982906\n",
      "Train Accurecy:  0.9453961456102784\n",
      "__________________________________________________________________\n",
      "Number of column:  200\n"
     ]
    },
    {
     "name": "stderr",
     "output_type": "stream",
     "text": [
      "c:\\Users\\Dell\\anaconda3\\envs\\Test\\Lib\\site-packages\\sklearn\\feature_selection\\_univariate_selection.py:112: UserWarning: Features [  2   4   7   8   9  10  11  14  15  17  19  20  21  22  25  26  27  28\n",
      "  29  30  31  33  37  38  39  40  41  43  44  45  46  47  48  49  50  51\n",
      "  52  53  54  55  56  57  58  59  60  61  62  63  64  65  66  67  68  69\n",
      "  70  71  72  75  76  77  78  79  80  82  86  88  89  90  92  93  95  96\n",
      "  97 100 106 108 109 110 112 113 115 116 117 118 119 123 125 126 127 129\n",
      " 130 132 133 135 137 138 139 140 141 142 143 144 146 147 150 151 152 154\n",
      " 156 157 159 164 166 167 169 170 172 173 174 175 176 178 179 180 181 182\n",
      " 183 184 185 186 187 189 190 192 193 194 195 199 200 201 203 204 205 206\n",
      " 207 209 210 211 212 213 215 216 217 218 219 220 222 225 226 227 230 235\n",
      " 238 240 241 242 243 244 245 246 247 248 249 250 251 252 256 257 259 260\n",
      " 261 262 263 265 266 267 268 269 272 273 275 277 278 279 284 285 286 287\n",
      " 288 290 292 295 297 298 299 301 302 303 305 307 308 309 314 315 316] are constant.\n",
      "  warnings.warn(\"Features %s are constant.\" % constant_features_idx, UserWarning)\n",
      "c:\\Users\\Dell\\anaconda3\\envs\\Test\\Lib\\site-packages\\sklearn\\feature_selection\\_univariate_selection.py:113: RuntimeWarning: invalid value encountered in divide\n",
      "  f = msb / msw\n"
     ]
    },
    {
     "name": "stdout",
     "output_type": "stream",
     "text": [
      "Testing Accurecy:  0.905982905982906\n",
      "Train Accurecy:  0.949678800856531\n",
      "__________________________________________________________________\n",
      "Number of column:  250\n"
     ]
    },
    {
     "name": "stderr",
     "output_type": "stream",
     "text": [
      "c:\\Users\\Dell\\anaconda3\\envs\\Test\\Lib\\site-packages\\sklearn\\feature_selection\\_univariate_selection.py:112: UserWarning: Features [  2   4   7   8   9  10  11  14  15  17  19  20  21  22  25  26  27  28\n",
      "  29  30  31  33  37  38  39  40  41  43  44  45  46  47  48  49  50  51\n",
      "  52  53  54  55  56  57  58  59  60  61  62  63  64  65  66  67  68  69\n",
      "  70  71  72  75  76  77  78  79  80  82  86  88  89  90  92  93  95  96\n",
      "  97 100 106 108 109 110 112 113 115 116 117 118 119 123 125 126 127 129\n",
      " 130 132 133 135 137 138 139 140 141 142 143 144 146 147 150 151 152 154\n",
      " 156 157 159 164 166 167 169 170 172 173 174 175 176 178 179 180 181 182\n",
      " 183 184 185 186 187 189 190 192 193 194 195 199 200 201 203 204 205 206\n",
      " 207 209 210 211 212 213 215 216 217 218 219 220 222 225 226 227 230 235\n",
      " 238 240 241 242 243 244 245 246 247 248 249 250 251 252 256 257 259 260\n",
      " 261 262 263 265 266 267 268 269 272 273 275 277 278 279 284 285 286 287\n",
      " 288 290 292 295 297 298 299 301 302 303 305 307 308 309 314 315 316] are constant.\n",
      "  warnings.warn(\"Features %s are constant.\" % constant_features_idx, UserWarning)\n",
      "c:\\Users\\Dell\\anaconda3\\envs\\Test\\Lib\\site-packages\\sklearn\\feature_selection\\_univariate_selection.py:113: RuntimeWarning: invalid value encountered in divide\n",
      "  f = msb / msw\n"
     ]
    },
    {
     "name": "stdout",
     "output_type": "stream",
     "text": [
      "Testing Accurecy:  0.9188034188034188\n",
      "Train Accurecy:  0.9561027837259101\n",
      "__________________________________________________________________\n",
      "Number of column:  300\n"
     ]
    },
    {
     "name": "stderr",
     "output_type": "stream",
     "text": [
      "c:\\Users\\Dell\\anaconda3\\envs\\Test\\Lib\\site-packages\\sklearn\\feature_selection\\_univariate_selection.py:112: UserWarning: Features [  2   4   7   8   9  10  11  14  15  17  19  20  21  22  25  26  27  28\n",
      "  29  30  31  33  37  38  39  40  41  43  44  45  46  47  48  49  50  51\n",
      "  52  53  54  55  56  57  58  59  60  61  62  63  64  65  66  67  68  69\n",
      "  70  71  72  75  76  77  78  79  80  82  86  88  89  90  92  93  95  96\n",
      "  97 100 106 108 109 110 112 113 115 116 117 118 119 123 125 126 127 129\n",
      " 130 132 133 135 137 138 139 140 141 142 143 144 146 147 150 151 152 154\n",
      " 156 157 159 164 166 167 169 170 172 173 174 175 176 178 179 180 181 182\n",
      " 183 184 185 186 187 189 190 192 193 194 195 199 200 201 203 204 205 206\n",
      " 207 209 210 211 212 213 215 216 217 218 219 220 222 225 226 227 230 235\n",
      " 238 240 241 242 243 244 245 246 247 248 249 250 251 252 256 257 259 260\n",
      " 261 262 263 265 266 267 268 269 272 273 275 277 278 279 284 285 286 287\n",
      " 288 290 292 295 297 298 299 301 302 303 305 307 308 309 314 315 316] are constant.\n",
      "  warnings.warn(\"Features %s are constant.\" % constant_features_idx, UserWarning)\n",
      "c:\\Users\\Dell\\anaconda3\\envs\\Test\\Lib\\site-packages\\sklearn\\feature_selection\\_univariate_selection.py:113: RuntimeWarning: invalid value encountered in divide\n",
      "  f = msb / msw\n"
     ]
    },
    {
     "name": "stdout",
     "output_type": "stream",
     "text": [
      "Testing Accurecy:  0.9188034188034188\n",
      "Train Accurecy:  0.9518201284796574\n",
      "__________________________________________________________________\n",
      "Number of column:  350\n"
     ]
    },
    {
     "name": "stderr",
     "output_type": "stream",
     "text": [
      "c:\\Users\\Dell\\anaconda3\\envs\\Test\\Lib\\site-packages\\sklearn\\feature_selection\\_univariate_selection.py:112: UserWarning: Features [  2   4   7   8   9  10  11  14  15  17  19  20  21  22  25  26  27  28\n",
      "  29  30  31  33  37  38  39  40  41  43  44  45  46  47  48  49  50  51\n",
      "  52  53  54  55  56  57  58  59  60  61  62  63  64  65  66  67  68  69\n",
      "  70  71  72  75  76  77  78  79  80  82  86  88  89  90  92  93  95  96\n",
      "  97 100 106 108 109 110 112 113 115 116 117 118 119 123 125 126 127 129\n",
      " 130 132 133 135 137 138 139 140 141 142 143 144 146 147 150 151 152 154\n",
      " 156 157 159 164 166 167 169 170 172 173 174 175 176 178 179 180 181 182\n",
      " 183 184 185 186 187 189 190 192 193 194 195 199 200 201 203 204 205 206\n",
      " 207 209 210 211 212 213 215 216 217 218 219 220 222 225 226 227 230 235\n",
      " 238 240 241 242 243 244 245 246 247 248 249 250 251 252 256 257 259 260\n",
      " 261 262 263 265 266 267 268 269 272 273 275 277 278 279 284 285 286 287\n",
      " 288 290 292 295 297 298 299 301 302 303 305 307 308 309 314 315 316] are constant.\n",
      "  warnings.warn(\"Features %s are constant.\" % constant_features_idx, UserWarning)\n",
      "c:\\Users\\Dell\\anaconda3\\envs\\Test\\Lib\\site-packages\\sklearn\\feature_selection\\_univariate_selection.py:113: RuntimeWarning: invalid value encountered in divide\n",
      "  f = msb / msw\n"
     ]
    },
    {
     "name": "stdout",
     "output_type": "stream",
     "text": [
      "Testing Accurecy:  0.9188034188034188\n",
      "Train Accurecy:  0.9518201284796574\n",
      "__________________________________________________________________\n",
      "Number of column:  400\n"
     ]
    },
    {
     "name": "stderr",
     "output_type": "stream",
     "text": [
      "c:\\Users\\Dell\\anaconda3\\envs\\Test\\Lib\\site-packages\\sklearn\\feature_selection\\_univariate_selection.py:112: UserWarning: Features [  2   4   7   8   9  10  11  14  15  17  19  20  21  22  25  26  27  28\n",
      "  29  30  31  33  37  38  39  40  41  43  44  45  46  47  48  49  50  51\n",
      "  52  53  54  55  56  57  58  59  60  61  62  63  64  65  66  67  68  69\n",
      "  70  71  72  75  76  77  78  79  80  82  86  88  89  90  92  93  95  96\n",
      "  97 100 106 108 109 110 112 113 115 116 117 118 119 123 125 126 127 129\n",
      " 130 132 133 135 137 138 139 140 141 142 143 144 146 147 150 151 152 154\n",
      " 156 157 159 164 166 167 169 170 172 173 174 175 176 178 179 180 181 182\n",
      " 183 184 185 186 187 189 190 192 193 194 195 199 200 201 203 204 205 206\n",
      " 207 209 210 211 212 213 215 216 217 218 219 220 222 225 226 227 230 235\n",
      " 238 240 241 242 243 244 245 246 247 248 249 250 251 252 256 257 259 260\n",
      " 261 262 263 265 266 267 268 269 272 273 275 277 278 279 284 285 286 287\n",
      " 288 290 292 295 297 298 299 301 302 303 305 307 308 309 314 315 316] are constant.\n",
      "  warnings.warn(\"Features %s are constant.\" % constant_features_idx, UserWarning)\n",
      "c:\\Users\\Dell\\anaconda3\\envs\\Test\\Lib\\site-packages\\sklearn\\feature_selection\\_univariate_selection.py:113: RuntimeWarning: invalid value encountered in divide\n",
      "  f = msb / msw\n"
     ]
    },
    {
     "name": "stdout",
     "output_type": "stream",
     "text": [
      "Testing Accurecy:  0.9188034188034188\n",
      "Train Accurecy:  0.9518201284796574\n",
      "__________________________________________________________________\n",
      "Number of column:  450\n"
     ]
    },
    {
     "name": "stderr",
     "output_type": "stream",
     "text": [
      "c:\\Users\\Dell\\anaconda3\\envs\\Test\\Lib\\site-packages\\sklearn\\feature_selection\\_univariate_selection.py:112: UserWarning: Features [  2   4   7   8   9  10  11  14  15  17  19  20  21  22  25  26  27  28\n",
      "  29  30  31  33  37  38  39  40  41  43  44  45  46  47  48  49  50  51\n",
      "  52  53  54  55  56  57  58  59  60  61  62  63  64  65  66  67  68  69\n",
      "  70  71  72  75  76  77  78  79  80  82  86  88  89  90  92  93  95  96\n",
      "  97 100 106 108 109 110 112 113 115 116 117 118 119 123 125 126 127 129\n",
      " 130 132 133 135 137 138 139 140 141 142 143 144 146 147 150 151 152 154\n",
      " 156 157 159 164 166 167 169 170 172 173 174 175 176 178 179 180 181 182\n",
      " 183 184 185 186 187 189 190 192 193 194 195 199 200 201 203 204 205 206\n",
      " 207 209 210 211 212 213 215 216 217 218 219 220 222 225 226 227 230 235\n",
      " 238 240 241 242 243 244 245 246 247 248 249 250 251 252 256 257 259 260\n",
      " 261 262 263 265 266 267 268 269 272 273 275 277 278 279 284 285 286 287\n",
      " 288 290 292 295 297 298 299 301 302 303 305 307 308 309 314 315 316] are constant.\n",
      "  warnings.warn(\"Features %s are constant.\" % constant_features_idx, UserWarning)\n",
      "c:\\Users\\Dell\\anaconda3\\envs\\Test\\Lib\\site-packages\\sklearn\\feature_selection\\_univariate_selection.py:113: RuntimeWarning: invalid value encountered in divide\n",
      "  f = msb / msw\n"
     ]
    },
    {
     "name": "stdout",
     "output_type": "stream",
     "text": [
      "Testing Accurecy:  0.9188034188034188\n",
      "Train Accurecy:  0.9518201284796574\n",
      "__________________________________________________________________\n",
      "Number of column:  500\n"
     ]
    },
    {
     "name": "stderr",
     "output_type": "stream",
     "text": [
      "c:\\Users\\Dell\\anaconda3\\envs\\Test\\Lib\\site-packages\\sklearn\\feature_selection\\_univariate_selection.py:112: UserWarning: Features [  2   4   7   8   9  10  11  14  15  17  19  20  21  22  25  26  27  28\n",
      "  29  30  31  33  37  38  39  40  41  43  44  45  46  47  48  49  50  51\n",
      "  52  53  54  55  56  57  58  59  60  61  62  63  64  65  66  67  68  69\n",
      "  70  71  72  75  76  77  78  79  80  82  86  88  89  90  92  93  95  96\n",
      "  97 100 106 108 109 110 112 113 115 116 117 118 119 123 125 126 127 129\n",
      " 130 132 133 135 137 138 139 140 141 142 143 144 146 147 150 151 152 154\n",
      " 156 157 159 164 166 167 169 170 172 173 174 175 176 178 179 180 181 182\n",
      " 183 184 185 186 187 189 190 192 193 194 195 199 200 201 203 204 205 206\n",
      " 207 209 210 211 212 213 215 216 217 218 219 220 222 225 226 227 230 235\n",
      " 238 240 241 242 243 244 245 246 247 248 249 250 251 252 256 257 259 260\n",
      " 261 262 263 265 266 267 268 269 272 273 275 277 278 279 284 285 286 287\n",
      " 288 290 292 295 297 298 299 301 302 303 305 307 308 309 314 315 316] are constant.\n",
      "  warnings.warn(\"Features %s are constant.\" % constant_features_idx, UserWarning)\n",
      "c:\\Users\\Dell\\anaconda3\\envs\\Test\\Lib\\site-packages\\sklearn\\feature_selection\\_univariate_selection.py:113: RuntimeWarning: invalid value encountered in divide\n",
      "  f = msb / msw\n"
     ]
    },
    {
     "name": "stdout",
     "output_type": "stream",
     "text": [
      "Testing Accurecy:  0.9188034188034188\n",
      "Train Accurecy:  0.9518201284796574\n",
      "__________________________________________________________________\n",
      "Number of column:  550\n"
     ]
    },
    {
     "name": "stderr",
     "output_type": "stream",
     "text": [
      "c:\\Users\\Dell\\anaconda3\\envs\\Test\\Lib\\site-packages\\sklearn\\feature_selection\\_univariate_selection.py:112: UserWarning: Features [  2   4   7   8   9  10  11  14  15  17  19  20  21  22  25  26  27  28\n",
      "  29  30  31  33  37  38  39  40  41  43  44  45  46  47  48  49  50  51\n",
      "  52  53  54  55  56  57  58  59  60  61  62  63  64  65  66  67  68  69\n",
      "  70  71  72  75  76  77  78  79  80  82  86  88  89  90  92  93  95  96\n",
      "  97 100 106 108 109 110 112 113 115 116 117 118 119 123 125 126 127 129\n",
      " 130 132 133 135 137 138 139 140 141 142 143 144 146 147 150 151 152 154\n",
      " 156 157 159 164 166 167 169 170 172 173 174 175 176 178 179 180 181 182\n",
      " 183 184 185 186 187 189 190 192 193 194 195 199 200 201 203 204 205 206\n",
      " 207 209 210 211 212 213 215 216 217 218 219 220 222 225 226 227 230 235\n",
      " 238 240 241 242 243 244 245 246 247 248 249 250 251 252 256 257 259 260\n",
      " 261 262 263 265 266 267 268 269 272 273 275 277 278 279 284 285 286 287\n",
      " 288 290 292 295 297 298 299 301 302 303 305 307 308 309 314 315 316] are constant.\n",
      "  warnings.warn(\"Features %s are constant.\" % constant_features_idx, UserWarning)\n",
      "c:\\Users\\Dell\\anaconda3\\envs\\Test\\Lib\\site-packages\\sklearn\\feature_selection\\_univariate_selection.py:113: RuntimeWarning: invalid value encountered in divide\n",
      "  f = msb / msw\n"
     ]
    },
    {
     "name": "stdout",
     "output_type": "stream",
     "text": [
      "Testing Accurecy:  0.9188034188034188\n",
      "Train Accurecy:  0.9518201284796574\n",
      "__________________________________________________________________\n",
      "Number of column:  600\n"
     ]
    },
    {
     "name": "stderr",
     "output_type": "stream",
     "text": [
      "c:\\Users\\Dell\\anaconda3\\envs\\Test\\Lib\\site-packages\\sklearn\\feature_selection\\_univariate_selection.py:112: UserWarning: Features [  2   4   7   8   9  10  11  14  15  17  19  20  21  22  25  26  27  28\n",
      "  29  30  31  33  37  38  39  40  41  43  44  45  46  47  48  49  50  51\n",
      "  52  53  54  55  56  57  58  59  60  61  62  63  64  65  66  67  68  69\n",
      "  70  71  72  75  76  77  78  79  80  82  86  88  89  90  92  93  95  96\n",
      "  97 100 106 108 109 110 112 113 115 116 117 118 119 123 125 126 127 129\n",
      " 130 132 133 135 137 138 139 140 141 142 143 144 146 147 150 151 152 154\n",
      " 156 157 159 164 166 167 169 170 172 173 174 175 176 178 179 180 181 182\n",
      " 183 184 185 186 187 189 190 192 193 194 195 199 200 201 203 204 205 206\n",
      " 207 209 210 211 212 213 215 216 217 218 219 220 222 225 226 227 230 235\n",
      " 238 240 241 242 243 244 245 246 247 248 249 250 251 252 256 257 259 260\n",
      " 261 262 263 265 266 267 268 269 272 273 275 277 278 279 284 285 286 287\n",
      " 288 290 292 295 297 298 299 301 302 303 305 307 308 309 314 315 316] are constant.\n",
      "  warnings.warn(\"Features %s are constant.\" % constant_features_idx, UserWarning)\n",
      "c:\\Users\\Dell\\anaconda3\\envs\\Test\\Lib\\site-packages\\sklearn\\feature_selection\\_univariate_selection.py:113: RuntimeWarning: invalid value encountered in divide\n",
      "  f = msb / msw\n"
     ]
    },
    {
     "name": "stdout",
     "output_type": "stream",
     "text": [
      "Testing Accurecy:  0.9188034188034188\n",
      "Train Accurecy:  0.9518201284796574\n",
      "__________________________________________________________________\n",
      "Number of column:  650\n"
     ]
    },
    {
     "name": "stderr",
     "output_type": "stream",
     "text": [
      "c:\\Users\\Dell\\anaconda3\\envs\\Test\\Lib\\site-packages\\sklearn\\feature_selection\\_univariate_selection.py:112: UserWarning: Features [  2   4   7   8   9  10  11  14  15  17  19  20  21  22  25  26  27  28\n",
      "  29  30  31  33  37  38  39  40  41  43  44  45  46  47  48  49  50  51\n",
      "  52  53  54  55  56  57  58  59  60  61  62  63  64  65  66  67  68  69\n",
      "  70  71  72  75  76  77  78  79  80  82  86  88  89  90  92  93  95  96\n",
      "  97 100 106 108 109 110 112 113 115 116 117 118 119 123 125 126 127 129\n",
      " 130 132 133 135 137 138 139 140 141 142 143 144 146 147 150 151 152 154\n",
      " 156 157 159 164 166 167 169 170 172 173 174 175 176 178 179 180 181 182\n",
      " 183 184 185 186 187 189 190 192 193 194 195 199 200 201 203 204 205 206\n",
      " 207 209 210 211 212 213 215 216 217 218 219 220 222 225 226 227 230 235\n",
      " 238 240 241 242 243 244 245 246 247 248 249 250 251 252 256 257 259 260\n",
      " 261 262 263 265 266 267 268 269 272 273 275 277 278 279 284 285 286 287\n",
      " 288 290 292 295 297 298 299 301 302 303 305 307 308 309 314 315 316] are constant.\n",
      "  warnings.warn(\"Features %s are constant.\" % constant_features_idx, UserWarning)\n",
      "c:\\Users\\Dell\\anaconda3\\envs\\Test\\Lib\\site-packages\\sklearn\\feature_selection\\_univariate_selection.py:113: RuntimeWarning: invalid value encountered in divide\n",
      "  f = msb / msw\n"
     ]
    },
    {
     "name": "stdout",
     "output_type": "stream",
     "text": [
      "Testing Accurecy:  0.9188034188034188\n",
      "Train Accurecy:  0.9518201284796574\n",
      "__________________________________________________________________\n",
      "Number of column:  700\n"
     ]
    },
    {
     "name": "stderr",
     "output_type": "stream",
     "text": [
      "c:\\Users\\Dell\\anaconda3\\envs\\Test\\Lib\\site-packages\\sklearn\\feature_selection\\_univariate_selection.py:112: UserWarning: Features [  2   4   7   8   9  10  11  14  15  17  19  20  21  22  25  26  27  28\n",
      "  29  30  31  33  37  38  39  40  41  43  44  45  46  47  48  49  50  51\n",
      "  52  53  54  55  56  57  58  59  60  61  62  63  64  65  66  67  68  69\n",
      "  70  71  72  75  76  77  78  79  80  82  86  88  89  90  92  93  95  96\n",
      "  97 100 106 108 109 110 112 113 115 116 117 118 119 123 125 126 127 129\n",
      " 130 132 133 135 137 138 139 140 141 142 143 144 146 147 150 151 152 154\n",
      " 156 157 159 164 166 167 169 170 172 173 174 175 176 178 179 180 181 182\n",
      " 183 184 185 186 187 189 190 192 193 194 195 199 200 201 203 204 205 206\n",
      " 207 209 210 211 212 213 215 216 217 218 219 220 222 225 226 227 230 235\n",
      " 238 240 241 242 243 244 245 246 247 248 249 250 251 252 256 257 259 260\n",
      " 261 262 263 265 266 267 268 269 272 273 275 277 278 279 284 285 286 287\n",
      " 288 290 292 295 297 298 299 301 302 303 305 307 308 309 314 315 316] are constant.\n",
      "  warnings.warn(\"Features %s are constant.\" % constant_features_idx, UserWarning)\n",
      "c:\\Users\\Dell\\anaconda3\\envs\\Test\\Lib\\site-packages\\sklearn\\feature_selection\\_univariate_selection.py:113: RuntimeWarning: invalid value encountered in divide\n",
      "  f = msb / msw\n"
     ]
    },
    {
     "name": "stdout",
     "output_type": "stream",
     "text": [
      "Testing Accurecy:  0.9188034188034188\n",
      "Train Accurecy:  0.9518201284796574\n",
      "__________________________________________________________________\n",
      "Number of column:  750\n"
     ]
    },
    {
     "name": "stderr",
     "output_type": "stream",
     "text": [
      "c:\\Users\\Dell\\anaconda3\\envs\\Test\\Lib\\site-packages\\sklearn\\feature_selection\\_univariate_selection.py:112: UserWarning: Features [  2   4   7   8   9  10  11  14  15  17  19  20  21  22  25  26  27  28\n",
      "  29  30  31  33  37  38  39  40  41  43  44  45  46  47  48  49  50  51\n",
      "  52  53  54  55  56  57  58  59  60  61  62  63  64  65  66  67  68  69\n",
      "  70  71  72  75  76  77  78  79  80  82  86  88  89  90  92  93  95  96\n",
      "  97 100 106 108 109 110 112 113 115 116 117 118 119 123 125 126 127 129\n",
      " 130 132 133 135 137 138 139 140 141 142 143 144 146 147 150 151 152 154\n",
      " 156 157 159 164 166 167 169 170 172 173 174 175 176 178 179 180 181 182\n",
      " 183 184 185 186 187 189 190 192 193 194 195 199 200 201 203 204 205 206\n",
      " 207 209 210 211 212 213 215 216 217 218 219 220 222 225 226 227 230 235\n",
      " 238 240 241 242 243 244 245 246 247 248 249 250 251 252 256 257 259 260\n",
      " 261 262 263 265 266 267 268 269 272 273 275 277 278 279 284 285 286 287\n",
      " 288 290 292 295 297 298 299 301 302 303 305 307 308 309 314 315 316] are constant.\n",
      "  warnings.warn(\"Features %s are constant.\" % constant_features_idx, UserWarning)\n",
      "c:\\Users\\Dell\\anaconda3\\envs\\Test\\Lib\\site-packages\\sklearn\\feature_selection\\_univariate_selection.py:113: RuntimeWarning: invalid value encountered in divide\n",
      "  f = msb / msw\n"
     ]
    },
    {
     "name": "stdout",
     "output_type": "stream",
     "text": [
      "Testing Accurecy:  0.9316239316239316\n",
      "Train Accurecy:  0.9646680942184154\n",
      "__________________________________________________________________\n",
      "Number of column:  800\n"
     ]
    },
    {
     "name": "stderr",
     "output_type": "stream",
     "text": [
      "c:\\Users\\Dell\\anaconda3\\envs\\Test\\Lib\\site-packages\\sklearn\\feature_selection\\_univariate_selection.py:112: UserWarning: Features [  2   4   7   8   9  10  11  14  15  17  19  20  21  22  25  26  27  28\n",
      "  29  30  31  33  37  38  39  40  41  43  44  45  46  47  48  49  50  51\n",
      "  52  53  54  55  56  57  58  59  60  61  62  63  64  65  66  67  68  69\n",
      "  70  71  72  75  76  77  78  79  80  82  86  88  89  90  92  93  95  96\n",
      "  97 100 106 108 109 110 112 113 115 116 117 118 119 123 125 126 127 129\n",
      " 130 132 133 135 137 138 139 140 141 142 143 144 146 147 150 151 152 154\n",
      " 156 157 159 164 166 167 169 170 172 173 174 175 176 178 179 180 181 182\n",
      " 183 184 185 186 187 189 190 192 193 194 195 199 200 201 203 204 205 206\n",
      " 207 209 210 211 212 213 215 216 217 218 219 220 222 225 226 227 230 235\n",
      " 238 240 241 242 243 244 245 246 247 248 249 250 251 252 256 257 259 260\n",
      " 261 262 263 265 266 267 268 269 272 273 275 277 278 279 284 285 286 287\n",
      " 288 290 292 295 297 298 299 301 302 303 305 307 308 309 314 315 316] are constant.\n",
      "  warnings.warn(\"Features %s are constant.\" % constant_features_idx, UserWarning)\n",
      "c:\\Users\\Dell\\anaconda3\\envs\\Test\\Lib\\site-packages\\sklearn\\feature_selection\\_univariate_selection.py:113: RuntimeWarning: invalid value encountered in divide\n",
      "  f = msb / msw\n"
     ]
    },
    {
     "name": "stdout",
     "output_type": "stream",
     "text": [
      "Testing Accurecy:  0.9316239316239316\n",
      "Train Accurecy:  0.9646680942184154\n",
      "__________________________________________________________________\n",
      "Number of column:  850\n"
     ]
    },
    {
     "name": "stderr",
     "output_type": "stream",
     "text": [
      "c:\\Users\\Dell\\anaconda3\\envs\\Test\\Lib\\site-packages\\sklearn\\feature_selection\\_univariate_selection.py:112: UserWarning: Features [  2   4   7   8   9  10  11  14  15  17  19  20  21  22  25  26  27  28\n",
      "  29  30  31  33  37  38  39  40  41  43  44  45  46  47  48  49  50  51\n",
      "  52  53  54  55  56  57  58  59  60  61  62  63  64  65  66  67  68  69\n",
      "  70  71  72  75  76  77  78  79  80  82  86  88  89  90  92  93  95  96\n",
      "  97 100 106 108 109 110 112 113 115 116 117 118 119 123 125 126 127 129\n",
      " 130 132 133 135 137 138 139 140 141 142 143 144 146 147 150 151 152 154\n",
      " 156 157 159 164 166 167 169 170 172 173 174 175 176 178 179 180 181 182\n",
      " 183 184 185 186 187 189 190 192 193 194 195 199 200 201 203 204 205 206\n",
      " 207 209 210 211 212 213 215 216 217 218 219 220 222 225 226 227 230 235\n",
      " 238 240 241 242 243 244 245 246 247 248 249 250 251 252 256 257 259 260\n",
      " 261 262 263 265 266 267 268 269 272 273 275 277 278 279 284 285 286 287\n",
      " 288 290 292 295 297 298 299 301 302 303 305 307 308 309 314 315 316] are constant.\n",
      "  warnings.warn(\"Features %s are constant.\" % constant_features_idx, UserWarning)\n",
      "c:\\Users\\Dell\\anaconda3\\envs\\Test\\Lib\\site-packages\\sklearn\\feature_selection\\_univariate_selection.py:113: RuntimeWarning: invalid value encountered in divide\n",
      "  f = msb / msw\n"
     ]
    },
    {
     "name": "stdout",
     "output_type": "stream",
     "text": [
      "Testing Accurecy:  0.9316239316239316\n",
      "Train Accurecy:  0.9646680942184154\n",
      "__________________________________________________________________\n",
      "Number of column:  900\n"
     ]
    },
    {
     "name": "stderr",
     "output_type": "stream",
     "text": [
      "c:\\Users\\Dell\\anaconda3\\envs\\Test\\Lib\\site-packages\\sklearn\\feature_selection\\_univariate_selection.py:112: UserWarning: Features [  2   4   7   8   9  10  11  14  15  17  19  20  21  22  25  26  27  28\n",
      "  29  30  31  33  37  38  39  40  41  43  44  45  46  47  48  49  50  51\n",
      "  52  53  54  55  56  57  58  59  60  61  62  63  64  65  66  67  68  69\n",
      "  70  71  72  75  76  77  78  79  80  82  86  88  89  90  92  93  95  96\n",
      "  97 100 106 108 109 110 112 113 115 116 117 118 119 123 125 126 127 129\n",
      " 130 132 133 135 137 138 139 140 141 142 143 144 146 147 150 151 152 154\n",
      " 156 157 159 164 166 167 169 170 172 173 174 175 176 178 179 180 181 182\n",
      " 183 184 185 186 187 189 190 192 193 194 195 199 200 201 203 204 205 206\n",
      " 207 209 210 211 212 213 215 216 217 218 219 220 222 225 226 227 230 235\n",
      " 238 240 241 242 243 244 245 246 247 248 249 250 251 252 256 257 259 260\n",
      " 261 262 263 265 266 267 268 269 272 273 275 277 278 279 284 285 286 287\n",
      " 288 290 292 295 297 298 299 301 302 303 305 307 308 309 314 315 316] are constant.\n",
      "  warnings.warn(\"Features %s are constant.\" % constant_features_idx, UserWarning)\n",
      "c:\\Users\\Dell\\anaconda3\\envs\\Test\\Lib\\site-packages\\sklearn\\feature_selection\\_univariate_selection.py:113: RuntimeWarning: invalid value encountered in divide\n",
      "  f = msb / msw\n"
     ]
    },
    {
     "name": "stdout",
     "output_type": "stream",
     "text": [
      "Testing Accurecy:  0.9316239316239316\n",
      "Train Accurecy:  0.9646680942184154\n",
      "__________________________________________________________________\n"
     ]
    }
   ],
   "source": [
    "from sklearn.ensemble import HistGradientBoostingClassifier\n",
    "from sklearn.metrics import accuracy_score\n",
    "\n",
    "for i in range(50, len(X.columns), 50):\n",
    "    print(\"Number of column: \", i)\n",
    "    anova_list = anova(X,y,i)\n",
    "\n",
    "    X_ = df.loc[:,anova_list]\n",
    "    y_ = df[target]\n",
    "\n",
    "    from sklearn.model_selection import train_test_split\n",
    "\n",
    "    X_train, X_test, y_train, y_test = train_test_split(X_, y_, test_size=0.2, random_state = 0)\n",
    "\n",
    "\n",
    "    hist = HistGradientBoostingClassifier(max_iter=51,max_depth=16,random_state=0)\n",
    "    hist.fit(X_train, y_train)\n",
    "    y_pred=hist.predict(X_test)\n",
    "    print(\"Testing Accurecy: \", accuracy_score(y_test,y_pred))\n",
    "\n",
    "\n",
    "    hist.fit(X_train, y_train)\n",
    "    y_pred=hist.predict(X_train)\n",
    "    print(\"Train Accurecy: \", accuracy_score(y_train,y_pred))\n",
    "    print(\"__________________________________________________________________\")"
   ]
  },
  {
   "cell_type": "code",
   "execution_count": null,
   "metadata": {},
   "outputs": [],
   "source": []
  }
 ],
 "metadata": {
  "kernelspec": {
   "display_name": "Test",
   "language": "python",
   "name": "python3"
  },
  "language_info": {
   "codemirror_mode": {
    "name": "ipython",
    "version": 3
   },
   "file_extension": ".py",
   "mimetype": "text/x-python",
   "name": "python",
   "nbconvert_exporter": "python",
   "pygments_lexer": "ipython3",
   "version": "3.11.8"
  }
 },
 "nbformat": 4,
 "nbformat_minor": 2
}
